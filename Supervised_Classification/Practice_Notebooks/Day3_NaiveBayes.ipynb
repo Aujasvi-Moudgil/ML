{
 "cells": [
  {
   "cell_type": "code",
   "execution_count": 1,
   "metadata": {},
   "outputs": [],
   "source": [
    "import numpy as np"
   ]
  },
  {
   "cell_type": "code",
   "execution_count": 2,
   "metadata": {},
   "outputs": [],
   "source": [
    "def my_gpdf(x,mean,sd):\n",
    "    exponent=np.exp(-((x-mean)**2/(2*sd*2)))\n",
    "    return (1/(np.sqrt(2*np.pi)*sd))*exponent\n",
    "    "
   ]
  },
  {
   "cell_type": "code",
   "execution_count": 9,
   "metadata": {},
   "outputs": [],
   "source": [
    "child_age=[8,5,6,4,3]\n",
    "child_h = [60,70,54,67,75]\n",
    "adult_age = [27,30,32,24,23]\n",
    "adult_h = [160,172,180,156,166]\n",
    "\n",
    "m_ca = np.mean(child_age)\n",
    "m_ch = np.mean(child_h)\n",
    "s_ca = np.std(child_age)\n",
    "s_ch = np.std(child_h)\n",
    "\n",
    "#### For Age\n",
    "m_Aa = np.mean(adult_age)\n",
    "m_Ah = np.mean(adult_h)\n",
    "s_Aa = np.std(adult_age)\n",
    "s_Ah = np.std(adult_h)"
   ]
  },
  {
   "cell_type": "code",
   "execution_count": 10,
   "metadata": {},
   "outputs": [
    {
     "name": "stdout",
     "output_type": "stream",
     "text": [
      "5.2\n",
      "65.2\n",
      "1.7204650534085253\n",
      "7.413501197140255\n"
     ]
    }
   ],
   "source": [
    "print(m_ca) #class = 0 mean \n",
    "print(m_ch)\n",
    "print(s_ca)\n",
    "print(s_ch)"
   ]
  },
  {
   "cell_type": "code",
   "execution_count": 11,
   "metadata": {},
   "outputs": [
    {
     "name": "stdout",
     "output_type": "stream",
     "text": [
      "27.2\n",
      "166.8\n",
      "3.4292856398964493\n",
      "8.541662601625049\n"
     ]
    }
   ],
   "source": [
    "print(m_Aa) \n",
    "print(m_Ah) \n",
    "print(s_Aa)\n",
    "print(s_Ah)"
   ]
  },
  {
   "cell_type": "code",
   "execution_count": 15,
   "metadata": {},
   "outputs": [],
   "source": [
    "test = [35,178]"
   ]
  },
  {
   "cell_type": "code",
   "execution_count": 16,
   "metadata": {},
   "outputs": [
    {
     "data": {
      "text/plain": [
       "2.5577284786842453e-245"
      ]
     },
     "execution_count": 16,
     "metadata": {},
     "output_type": "execute_result"
    }
   ],
   "source": [
    "p_test_child = my_gpdf(35,m_ca,s_ca)*my_gpdf(178,m_ch,s_ch)*0.5\n",
    "p_test_child"
   ]
  },
  {
   "cell_type": "code",
   "execution_count": 17,
   "metadata": {},
   "outputs": [
    {
     "data": {
      "text/plain": [
       "8.190879740366417e-07"
      ]
     },
     "execution_count": 17,
     "metadata": {},
     "output_type": "execute_result"
    }
   ],
   "source": [
    "p_test_adult = my_gpdf(35,m_Aa,s_Aa)*my_gpdf(178,m_Ah,s_Ah)*0.5\n",
    "p_test_adult"
   ]
  }
 ],
 "metadata": {
  "kernelspec": {
   "display_name": "Python 3",
   "language": "python",
   "name": "python3"
  },
  "language_info": {
   "codemirror_mode": {
    "name": "ipython",
    "version": 3
   },
   "file_extension": ".py",
   "mimetype": "text/x-python",
   "name": "python",
   "nbconvert_exporter": "python",
   "pygments_lexer": "ipython3",
   "version": "3.7.0"
  }
 },
 "nbformat": 4,
 "nbformat_minor": 2
}
