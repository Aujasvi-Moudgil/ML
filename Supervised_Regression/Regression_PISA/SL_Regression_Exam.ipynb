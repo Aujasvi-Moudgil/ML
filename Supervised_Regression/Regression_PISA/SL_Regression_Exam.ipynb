{
 "cells": [
  {
   "cell_type": "code",
   "execution_count": 38,
   "metadata": {},
   "outputs": [],
   "source": [
    "import numpy as np\n",
    "import pandas as pd\n",
    "import seaborn as sns\n",
    "import matplotlib.pyplot as plt\n",
    "\n",
    "from pandas import Series,DataFrame\n",
    "\n",
    "import warnings\n",
    "warnings.filterwarnings('ignore')\n",
    "\n",
    "import scipy.stats as stats\n",
    "import statsmodels.regression.linear_model as lmr\n",
    "import statsmodels.discrete.discrete_model as sm\n",
    "from statsmodels.api import add_constant\n",
    "\n",
    "from sklearn.linear_model import LogisticRegression\n",
    "from sklearn.linear_model import LinearRegression\n",
    "from sklearn.model_selection import train_test_split\n",
    "from sklearn import metrics\n",
    "from collections import Counter\n",
    "from statsmodels.stats.outliers_influence import variance_inflation_factor\n",
    "from sklearn.metrics import r2_score\n",
    "from statsmodels.formula.api import ols\n",
    "\n",
    "%matplotlib inline"
   ]
  },
  {
   "cell_type": "raw",
   "metadata": {},
   "source": [
    "Q1. How many students are there in the training set?"
   ]
  },
  {
   "cell_type": "code",
   "execution_count": 39,
   "metadata": {},
   "outputs": [
    {
     "name": "stdout",
     "output_type": "stream",
     "text": [
      "No. of students: 3663\n"
     ]
    }
   ],
   "source": [
    "pisaTrain = pd.read_csv('pisa2009train.csv')\n",
    "pisaTest = pd.read_csv('pisa2009test.csv')\n",
    "print('No. of students:',pisaTrain.shape[0])"
   ]
  },
  {
   "cell_type": "raw",
   "metadata": {},
   "source": [
    "Q2. Average reading test score of males, females?"
   ]
  },
  {
   "cell_type": "code",
   "execution_count": 40,
   "metadata": {},
   "outputs": [
    {
     "name": "stdout",
     "output_type": "stream",
     "text": [
      "Average reading test score of Females: 512.94\n",
      "Average reading test score of Males: 483.53\n"
     ]
    }
   ],
   "source": [
    "f_avg = pisaTrain.groupby('male').readingScore.mean()[0]\n",
    "m_avg = pisaTrain.groupby('male').readingScore.mean()[1]  # 1 for Male as per the column description in file\n",
    "\n",
    "print('Average reading test score of Females:',round(f_avg,2))\n",
    "print('Average reading test score of Males:',round(m_avg,2))"
   ]
  },
  {
   "cell_type": "raw",
   "metadata": {},
   "source": [
    "Q3. Which variables have missing data in at least one observation in the training set? "
   ]
  },
  {
   "cell_type": "code",
   "execution_count": 55,
   "metadata": {},
   "outputs": [
    {
     "name": "stdout",
     "output_type": "stream",
     "text": [
      "Below are the columns with null values in training set..\n",
      "\n",
      "raceeth\n",
      "preschool\n",
      "expectBachelors\n",
      "motherHS\n",
      "motherBachelors\n",
      "motherWork\n",
      "fatherHS\n",
      "fatherBachelors\n",
      "fatherWork\n",
      "selfBornUS\n",
      "motherBornUS\n",
      "fatherBornUS\n",
      "englishAtHome\n",
      "computerForSchoolwork\n",
      "read30MinsADay\n",
      "minutesPerWeekEnglish\n",
      "studentsInEnglish\n",
      "schoolHasLibrary\n",
      "schoolSize\n"
     ]
    }
   ],
   "source": [
    "null_columns = DataFrame(pisaTrain.isnull().sum())\n",
    "\n",
    "print('Below are the columns with null values in training set..\\n')\n",
    "for i,j in  null_columns.iterrows():\n",
    "    if(null_columns[0][i]!=0):\n",
    "        print(i)"
   ]
  },
  {
   "cell_type": "code",
   "execution_count": 53,
   "metadata": {},
   "outputs": [
    {
     "data": {
      "text/html": [
       "<div>\n",
       "<style scoped>\n",
       "    .dataframe tbody tr th:only-of-type {\n",
       "        vertical-align: middle;\n",
       "    }\n",
       "\n",
       "    .dataframe tbody tr th {\n",
       "        vertical-align: top;\n",
       "    }\n",
       "\n",
       "    .dataframe thead th {\n",
       "        text-align: right;\n",
       "    }\n",
       "</style>\n",
       "<table border=\"1\" class=\"dataframe\">\n",
       "  <thead>\n",
       "    <tr style=\"text-align: right;\">\n",
       "      <th></th>\n",
       "      <th>0</th>\n",
       "    </tr>\n",
       "  </thead>\n",
       "  <tbody>\n",
       "    <tr>\n",
       "      <th>grade</th>\n",
       "      <td>0</td>\n",
       "    </tr>\n",
       "    <tr>\n",
       "      <th>male</th>\n",
       "      <td>0</td>\n",
       "    </tr>\n",
       "    <tr>\n",
       "      <th>raceeth</th>\n",
       "      <td>35</td>\n",
       "    </tr>\n",
       "    <tr>\n",
       "      <th>preschool</th>\n",
       "      <td>56</td>\n",
       "    </tr>\n",
       "    <tr>\n",
       "      <th>expectBachelors</th>\n",
       "      <td>62</td>\n",
       "    </tr>\n",
       "    <tr>\n",
       "      <th>motherHS</th>\n",
       "      <td>97</td>\n",
       "    </tr>\n",
       "    <tr>\n",
       "      <th>motherBachelors</th>\n",
       "      <td>397</td>\n",
       "    </tr>\n",
       "    <tr>\n",
       "      <th>motherWork</th>\n",
       "      <td>93</td>\n",
       "    </tr>\n",
       "    <tr>\n",
       "      <th>fatherHS</th>\n",
       "      <td>245</td>\n",
       "    </tr>\n",
       "    <tr>\n",
       "      <th>fatherBachelors</th>\n",
       "      <td>569</td>\n",
       "    </tr>\n",
       "    <tr>\n",
       "      <th>fatherWork</th>\n",
       "      <td>233</td>\n",
       "    </tr>\n",
       "    <tr>\n",
       "      <th>selfBornUS</th>\n",
       "      <td>69</td>\n",
       "    </tr>\n",
       "    <tr>\n",
       "      <th>motherBornUS</th>\n",
       "      <td>71</td>\n",
       "    </tr>\n",
       "    <tr>\n",
       "      <th>fatherBornUS</th>\n",
       "      <td>113</td>\n",
       "    </tr>\n",
       "    <tr>\n",
       "      <th>englishAtHome</th>\n",
       "      <td>71</td>\n",
       "    </tr>\n",
       "    <tr>\n",
       "      <th>computerForSchoolwork</th>\n",
       "      <td>65</td>\n",
       "    </tr>\n",
       "    <tr>\n",
       "      <th>read30MinsADay</th>\n",
       "      <td>34</td>\n",
       "    </tr>\n",
       "    <tr>\n",
       "      <th>minutesPerWeekEnglish</th>\n",
       "      <td>186</td>\n",
       "    </tr>\n",
       "    <tr>\n",
       "      <th>studentsInEnglish</th>\n",
       "      <td>249</td>\n",
       "    </tr>\n",
       "    <tr>\n",
       "      <th>schoolHasLibrary</th>\n",
       "      <td>143</td>\n",
       "    </tr>\n",
       "    <tr>\n",
       "      <th>publicSchool</th>\n",
       "      <td>0</td>\n",
       "    </tr>\n",
       "    <tr>\n",
       "      <th>urban</th>\n",
       "      <td>0</td>\n",
       "    </tr>\n",
       "    <tr>\n",
       "      <th>schoolSize</th>\n",
       "      <td>162</td>\n",
       "    </tr>\n",
       "    <tr>\n",
       "      <th>readingScore</th>\n",
       "      <td>0</td>\n",
       "    </tr>\n",
       "  </tbody>\n",
       "</table>\n",
       "</div>"
      ],
      "text/plain": [
       "                         0\n",
       "grade                    0\n",
       "male                     0\n",
       "raceeth                 35\n",
       "preschool               56\n",
       "expectBachelors         62\n",
       "motherHS                97\n",
       "motherBachelors        397\n",
       "motherWork              93\n",
       "fatherHS               245\n",
       "fatherBachelors        569\n",
       "fatherWork             233\n",
       "selfBornUS              69\n",
       "motherBornUS            71\n",
       "fatherBornUS           113\n",
       "englishAtHome           71\n",
       "computerForSchoolwork   65\n",
       "read30MinsADay          34\n",
       "minutesPerWeekEnglish  186\n",
       "studentsInEnglish      249\n",
       "schoolHasLibrary       143\n",
       "publicSchool             0\n",
       "urban                    0\n",
       "schoolSize             162\n",
       "readingScore             0"
      ]
     },
     "execution_count": 53,
     "metadata": {},
     "output_type": "execute_result"
    }
   ],
   "source": [
    "null_columns"
   ]
  },
  {
   "cell_type": "raw",
   "metadata": {},
   "source": [
    "Q4. How many observations are now in the training set, testing set - after removing null values?"
   ]
  },
  {
   "cell_type": "code",
   "execution_count": 6,
   "metadata": {},
   "outputs": [
    {
     "name": "stdout",
     "output_type": "stream",
     "text": [
      "No. of observations in training set after removing null: 2414\n",
      "No. of observations in testing set after removing null: 990\n"
     ]
    }
   ],
   "source": [
    "pisaTrain = pisaTrain.dropna(axis=0)\n",
    "pisaTest = pisaTest.dropna(axis=0)\n",
    "\n",
    "print('No. of observations in training set after removing null:',pisaTrain.shape[0])\n",
    "print('No. of observations in testing set after removing null:',pisaTest.shape[0])"
   ]
  },
  {
   "cell_type": "raw",
   "metadata": {},
   "source": [
    "Q5.\tWhich of the following variables is an unordered factor/categorical variable with at least 3 levels?"
   ]
  },
  {
   "cell_type": "code",
   "execution_count": 7,
   "metadata": {
    "scrolled": true
   },
   "outputs": [
    {
     "name": "stdout",
     "output_type": "stream",
     "text": [
      "Categorical column(s) with more than 3 levels are..\n",
      "\n",
      "raceeth\n"
     ]
    }
   ],
   "source": [
    "Dtype = DataFrame(pisaTrain.dtypes,columns=['DType'])\n",
    "Unique = DataFrame(pisaTrain.nunique(),columns=['Unique'])\n",
    "\n",
    "varCat = pd.concat([Dtype,Unique],axis=1)\n",
    "varCat = varCat[varCat.DType == 'object']\n",
    "varCat = varCat[varCat.Unique > 3]\n",
    "\n",
    "print('Categorical column(s) with more than 3 levels are..\\n')\n",
    "for i,j in  varCat.iterrows():\n",
    "    print(i)"
   ]
  },
  {
   "cell_type": "raw",
   "metadata": {},
   "source": [
    "Q6. If we select White as the reference level, which binary variables will be included in the regression model? "
   ]
  },
  {
   "cell_type": "code",
   "execution_count": 58,
   "metadata": {
    "scrolled": true
   },
   "outputs": [
    {
     "data": {
      "text/html": [
       "<div>\n",
       "<style scoped>\n",
       "    .dataframe tbody tr th:only-of-type {\n",
       "        vertical-align: middle;\n",
       "    }\n",
       "\n",
       "    .dataframe tbody tr th {\n",
       "        vertical-align: top;\n",
       "    }\n",
       "\n",
       "    .dataframe thead th {\n",
       "        text-align: right;\n",
       "    }\n",
       "</style>\n",
       "<table border=\"1\" class=\"dataframe\">\n",
       "  <thead>\n",
       "    <tr style=\"text-align: right;\">\n",
       "      <th></th>\n",
       "      <th>American Indian/Alaska Native</th>\n",
       "      <th>Asian</th>\n",
       "      <th>Black</th>\n",
       "      <th>Hispanic</th>\n",
       "      <th>More than one race</th>\n",
       "      <th>Native Hawaiian/Other Pacific Islander</th>\n",
       "    </tr>\n",
       "  </thead>\n",
       "  <tbody>\n",
       "    <tr>\n",
       "      <th>0</th>\n",
       "      <td>0</td>\n",
       "      <td>0</td>\n",
       "      <td>0</td>\n",
       "      <td>0</td>\n",
       "      <td>0</td>\n",
       "      <td>0</td>\n",
       "    </tr>\n",
       "    <tr>\n",
       "      <th>1</th>\n",
       "      <td>0</td>\n",
       "      <td>0</td>\n",
       "      <td>0</td>\n",
       "      <td>0</td>\n",
       "      <td>0</td>\n",
       "      <td>0</td>\n",
       "    </tr>\n",
       "    <tr>\n",
       "      <th>2</th>\n",
       "      <td>0</td>\n",
       "      <td>0</td>\n",
       "      <td>0</td>\n",
       "      <td>0</td>\n",
       "      <td>0</td>\n",
       "      <td>0</td>\n",
       "    </tr>\n",
       "    <tr>\n",
       "      <th>3</th>\n",
       "      <td>0</td>\n",
       "      <td>0</td>\n",
       "      <td>1</td>\n",
       "      <td>0</td>\n",
       "      <td>0</td>\n",
       "      <td>0</td>\n",
       "    </tr>\n",
       "    <tr>\n",
       "      <th>4</th>\n",
       "      <td>0</td>\n",
       "      <td>0</td>\n",
       "      <td>0</td>\n",
       "      <td>1</td>\n",
       "      <td>0</td>\n",
       "      <td>0</td>\n",
       "    </tr>\n",
       "  </tbody>\n",
       "</table>\n",
       "</div>"
      ],
      "text/plain": [
       "   American Indian/Alaska Native  Asian  Black  Hispanic  More than one race  \\\n",
       "0                              0      0      0         0                   0   \n",
       "1                              0      0      0         0                   0   \n",
       "2                              0      0      0         0                   0   \n",
       "3                              0      0      1         0                   0   \n",
       "4                              0      0      0         1                   0   \n",
       "\n",
       "   Native Hawaiian/Other Pacific Islander  \n",
       "0                                       0  \n",
       "1                                       0  \n",
       "2                                       0  \n",
       "3                                       0  \n",
       "4                                       0  "
      ]
     },
     "execution_count": 58,
     "metadata": {},
     "output_type": "execute_result"
    }
   ],
   "source": [
    "df_raceeth = pd.get_dummies(pisaTrain['raceeth'])\n",
    "\n",
    "#No need to indicate NaNs as we have already dropped it. (dummy_na property)\n",
    "df_raceeth.drop(labels=['White'],axis=1,inplace=True)\n",
    "#We are dropping White because it is the reference\n",
    "\n",
    "df_raceeth.head()\n",
    "\n",
    "#Each observation can have only one raceeth value.\n",
    "#Hence, if all the values are zero for example the first row below White = 1 (i.e. raceeth is White)\n",
    "#Similarly, if any one value is a non-zero then the raceeth is the respective attribute."
   ]
  },
  {
   "cell_type": "code",
   "execution_count": 79,
   "metadata": {},
   "outputs": [
    {
     "name": "stdout",
     "output_type": "stream",
     "text": [
      "Binary variables that will be included in the regression model are..\n",
      "\n",
      "American Indian/Alaska Native\n",
      "Asian\n",
      "Black\n",
      "Hispanic\n",
      "More than one race\n",
      "Native Hawaiian/Other Pacific Islander\n"
     ]
    }
   ],
   "source": [
    "#Therefore, If we select White as the reference level,the values below will be added to the Regression Model.\n",
    "\n",
    "print('Binary variables that will be included in the regression model are..\\n')\n",
    "for i,j in  DataFrame(df_raceeth.columns).iterrows(): #for index, row in df.iterrows()\n",
    "    print(DataFrame(df_raceeth.columns)[0][i])"
   ]
  },
  {
   "cell_type": "code",
   "execution_count": 83,
   "metadata": {},
   "outputs": [
    {
     "data": {
      "text/plain": [
       "'Hispanic'"
      ]
     },
     "execution_count": 83,
     "metadata": {},
     "output_type": "execute_result"
    }
   ],
   "source": [
    "df_raceeth.columns[3]"
   ]
  },
  {
   "cell_type": "raw",
   "metadata": {},
   "source": [
    "Q7. For a student who is Asian, which binary variables would be set to 0?"
   ]
  },
  {
   "cell_type": "code",
   "execution_count": 10,
   "metadata": {},
   "outputs": [
    {
     "name": "stdout",
     "output_type": "stream",
     "text": [
      "Columns that would be set to 0 for an Asian student..\n",
      "\n",
      "American Indian/Alaska Native\n",
      "Black\n",
      "Hispanic\n",
      "More than one race\n",
      "Native Hawaiian/Other Pacific Islander\n",
      "White\n"
     ]
    }
   ],
   "source": [
    "df_Asian = df_raceeth[df_raceeth['Asian']==1]\n",
    "listColumns = list(df_Asian.columns)\n",
    "\n",
    "print('Columns that would be set to 0 for an Asian student..\\n')\n",
    "for i in listColumns:\n",
    "    if(df_Asian[i].all()==0):\n",
    "        print(i)\n",
    "#The refernce is white and hence,\n",
    "print('White')"
   ]
  },
  {
   "cell_type": "code",
   "execution_count": 86,
   "metadata": {},
   "outputs": [
    {
     "data": {
      "text/plain": [
       "['American Indian/Alaska Native',\n",
       " 'Asian',\n",
       " 'Black',\n",
       " 'Hispanic',\n",
       " 'More than one race',\n",
       " 'Native Hawaiian/Other Pacific Islander']"
      ]
     },
     "execution_count": 86,
     "metadata": {},
     "output_type": "execute_result"
    }
   ],
   "source": [
    "listColumns"
   ]
  },
  {
   "cell_type": "raw",
   "metadata": {},
   "source": [
    "Q8. For a student who is white, which binary variables would be set to 0?"
   ]
  },
  {
   "cell_type": "code",
   "execution_count": 11,
   "metadata": {},
   "outputs": [
    {
     "name": "stdout",
     "output_type": "stream",
     "text": [
      "Columns that would be set to 0 for a White student..\n",
      "\n",
      "American Indian/Alaska Native\n",
      "Asian\n",
      "Black\n",
      "Hispanic\n",
      "More than one race\n",
      "Native Hawaiian/Other Pacific Islander\n"
     ]
    }
   ],
   "source": [
    "df_Asian = df_raceeth[df_raceeth['Asian']==1]\n",
    "listColumns = list(df_Asian.columns)\n",
    "\n",
    "print('Columns that would be set to 0 for a White student..\\n')\n",
    "for i in listColumns:\n",
    "    print(i)\n",
    "    \n",
    "    \n",
    "#We are printing all the columns because \"White\" is reference."
   ]
  },
  {
   "cell_type": "raw",
   "metadata": {},
   "source": [
    "Q9. What is the Multiple R-squared value of lmScore(LinearRegression model) on the training set? - Using all variables"
   ]
  },
  {
   "cell_type": "code",
   "execution_count": 12,
   "metadata": {},
   "outputs": [
    {
     "name": "stdout",
     "output_type": "stream",
     "text": [
      "R-squared value of lmScore(LinearRegression model) on the training set is 0.3\n"
     ]
    }
   ],
   "source": [
    "df_train = pd.get_dummies(pisaTrain,drop_first=True)\n",
    "#drop_first=True  ->  American Indian/Alaska Native is the reference\n",
    "\n",
    "#Dependant and Independant variables\n",
    "X=df_train.drop(labels=['readingScore'],axis=1)\n",
    "Y=df_train.readingScore\n",
    "\n",
    "#Model Creation\n",
    "lmScore=LinearRegression()\n",
    "#We need not split X,Y as train and test as our model is going to have every column and the data for testing is given.\n",
    "lmScore.fit(X,Y)\n",
    "y_pred = lmScore.predict(X)\n",
    "\n",
    "#R2 Score\n",
    "print('R-squared value of lmScore(LinearRegression model) on the training set is',round(r2_score(Y,y_pred),1))"
   ]
  },
  {
   "cell_type": "raw",
   "metadata": {},
   "source": [
    "Q10. What is the training-set root-mean squared error (RMSE) of lmScore?"
   ]
  },
  {
   "cell_type": "code",
   "execution_count": 13,
   "metadata": {},
   "outputs": [
    {
     "name": "stdout",
     "output_type": "stream",
     "text": [
      "Root-Mean Squared Error (RMSE) of lmScore on the training set is 73.37\n"
     ]
    }
   ],
   "source": [
    "rmse=round(np.sqrt(metrics.mean_squared_error(Y,y_pred)),2)\n",
    "print('Root-Mean Squared Error (RMSE) of lmScore on the training set is',rmse)"
   ]
  },
  {
   "cell_type": "raw",
   "metadata": {},
   "source": [
    "Q11. What is the predicted reading score of student A minus the predicted reading score of student B?\n",
    "     A - Grade 11\n",
    "     B - Grade 9"
   ]
  },
  {
   "cell_type": "code",
   "execution_count": 93,
   "metadata": {},
   "outputs": [
    {
     "data": {
      "text/html": [
       "<div>\n",
       "<style scoped>\n",
       "    .dataframe tbody tr th:only-of-type {\n",
       "        vertical-align: middle;\n",
       "    }\n",
       "\n",
       "    .dataframe tbody tr th {\n",
       "        vertical-align: top;\n",
       "    }\n",
       "\n",
       "    .dataframe thead th {\n",
       "        text-align: right;\n",
       "    }\n",
       "</style>\n",
       "<table border=\"1\" class=\"dataframe\">\n",
       "  <thead>\n",
       "    <tr style=\"text-align: right;\">\n",
       "      <th></th>\n",
       "      <th>grade</th>\n",
       "      <th>male</th>\n",
       "      <th>preschool</th>\n",
       "      <th>expectBachelors</th>\n",
       "      <th>motherHS</th>\n",
       "      <th>motherBachelors</th>\n",
       "      <th>motherWork</th>\n",
       "      <th>fatherHS</th>\n",
       "      <th>fatherBachelors</th>\n",
       "      <th>fatherWork</th>\n",
       "      <th>...</th>\n",
       "      <th>publicSchool</th>\n",
       "      <th>urban</th>\n",
       "      <th>schoolSize</th>\n",
       "      <th>readingScore</th>\n",
       "      <th>raceeth_Asian</th>\n",
       "      <th>raceeth_Black</th>\n",
       "      <th>raceeth_Hispanic</th>\n",
       "      <th>raceeth_More than one race</th>\n",
       "      <th>raceeth_Native Hawaiian/Other Pacific Islander</th>\n",
       "      <th>raceeth_White</th>\n",
       "    </tr>\n",
       "  </thead>\n",
       "  <tbody>\n",
       "    <tr>\n",
       "      <th>1</th>\n",
       "      <td>11</td>\n",
       "      <td>1</td>\n",
       "      <td>0.0</td>\n",
       "      <td>0.0</td>\n",
       "      <td>1.0</td>\n",
       "      <td>1.0</td>\n",
       "      <td>1.0</td>\n",
       "      <td>1.0</td>\n",
       "      <td>0.0</td>\n",
       "      <td>1.0</td>\n",
       "      <td>...</td>\n",
       "      <td>1</td>\n",
       "      <td>0</td>\n",
       "      <td>1173.0</td>\n",
       "      <td>575.01</td>\n",
       "      <td>0</td>\n",
       "      <td>0</td>\n",
       "      <td>0</td>\n",
       "      <td>0</td>\n",
       "      <td>0</td>\n",
       "      <td>1</td>\n",
       "    </tr>\n",
       "    <tr>\n",
       "      <th>3</th>\n",
       "      <td>10</td>\n",
       "      <td>0</td>\n",
       "      <td>1.0</td>\n",
       "      <td>1.0</td>\n",
       "      <td>0.0</td>\n",
       "      <td>0.0</td>\n",
       "      <td>1.0</td>\n",
       "      <td>1.0</td>\n",
       "      <td>0.0</td>\n",
       "      <td>1.0</td>\n",
       "      <td>...</td>\n",
       "      <td>1</td>\n",
       "      <td>1</td>\n",
       "      <td>2640.0</td>\n",
       "      <td>458.11</td>\n",
       "      <td>0</td>\n",
       "      <td>1</td>\n",
       "      <td>0</td>\n",
       "      <td>0</td>\n",
       "      <td>0</td>\n",
       "      <td>0</td>\n",
       "    </tr>\n",
       "    <tr>\n",
       "      <th>4</th>\n",
       "      <td>10</td>\n",
       "      <td>1</td>\n",
       "      <td>1.0</td>\n",
       "      <td>0.0</td>\n",
       "      <td>1.0</td>\n",
       "      <td>0.0</td>\n",
       "      <td>1.0</td>\n",
       "      <td>1.0</td>\n",
       "      <td>0.0</td>\n",
       "      <td>0.0</td>\n",
       "      <td>...</td>\n",
       "      <td>1</td>\n",
       "      <td>1</td>\n",
       "      <td>1095.0</td>\n",
       "      <td>613.89</td>\n",
       "      <td>0</td>\n",
       "      <td>0</td>\n",
       "      <td>1</td>\n",
       "      <td>0</td>\n",
       "      <td>0</td>\n",
       "      <td>0</td>\n",
       "    </tr>\n",
       "    <tr>\n",
       "      <th>7</th>\n",
       "      <td>10</td>\n",
       "      <td>0</td>\n",
       "      <td>1.0</td>\n",
       "      <td>1.0</td>\n",
       "      <td>1.0</td>\n",
       "      <td>0.0</td>\n",
       "      <td>0.0</td>\n",
       "      <td>1.0</td>\n",
       "      <td>0.0</td>\n",
       "      <td>1.0</td>\n",
       "      <td>...</td>\n",
       "      <td>1</td>\n",
       "      <td>0</td>\n",
       "      <td>1913.0</td>\n",
       "      <td>439.36</td>\n",
       "      <td>0</td>\n",
       "      <td>0</td>\n",
       "      <td>0</td>\n",
       "      <td>0</td>\n",
       "      <td>0</td>\n",
       "      <td>1</td>\n",
       "    </tr>\n",
       "    <tr>\n",
       "      <th>9</th>\n",
       "      <td>10</td>\n",
       "      <td>1</td>\n",
       "      <td>1.0</td>\n",
       "      <td>1.0</td>\n",
       "      <td>1.0</td>\n",
       "      <td>1.0</td>\n",
       "      <td>1.0</td>\n",
       "      <td>0.0</td>\n",
       "      <td>0.0</td>\n",
       "      <td>1.0</td>\n",
       "      <td>...</td>\n",
       "      <td>1</td>\n",
       "      <td>0</td>\n",
       "      <td>899.0</td>\n",
       "      <td>465.90</td>\n",
       "      <td>0</td>\n",
       "      <td>0</td>\n",
       "      <td>0</td>\n",
       "      <td>1</td>\n",
       "      <td>0</td>\n",
       "      <td>0</td>\n",
       "    </tr>\n",
       "  </tbody>\n",
       "</table>\n",
       "<p>5 rows × 29 columns</p>\n",
       "</div>"
      ],
      "text/plain": [
       "   grade  male  preschool  expectBachelors  motherHS  motherBachelors  \\\n",
       "1     11     1        0.0              0.0       1.0              1.0   \n",
       "3     10     0        1.0              1.0       0.0              0.0   \n",
       "4     10     1        1.0              0.0       1.0              0.0   \n",
       "7     10     0        1.0              1.0       1.0              0.0   \n",
       "9     10     1        1.0              1.0       1.0              1.0   \n",
       "\n",
       "   motherWork  fatherHS  fatherBachelors  fatherWork      ...        \\\n",
       "1         1.0       1.0              0.0         1.0      ...         \n",
       "3         1.0       1.0              0.0         1.0      ...         \n",
       "4         1.0       1.0              0.0         0.0      ...         \n",
       "7         0.0       1.0              0.0         1.0      ...         \n",
       "9         1.0       0.0              0.0         1.0      ...         \n",
       "\n",
       "   publicSchool  urban  schoolSize  readingScore  raceeth_Asian  \\\n",
       "1             1      0      1173.0        575.01              0   \n",
       "3             1      1      2640.0        458.11              0   \n",
       "4             1      1      1095.0        613.89              0   \n",
       "7             1      0      1913.0        439.36              0   \n",
       "9             1      0       899.0        465.90              0   \n",
       "\n",
       "   raceeth_Black  raceeth_Hispanic  raceeth_More than one race  \\\n",
       "1              0                 0                           0   \n",
       "3              1                 0                           0   \n",
       "4              0                 1                           0   \n",
       "7              0                 0                           0   \n",
       "9              0                 0                           1   \n",
       "\n",
       "   raceeth_Native Hawaiian/Other Pacific Islander  raceeth_White  \n",
       "1                                               0              1  \n",
       "3                                               0              0  \n",
       "4                                               0              0  \n",
       "7                                               0              1  \n",
       "9                                               0              0  \n",
       "\n",
       "[5 rows x 29 columns]"
      ]
     },
     "execution_count": 93,
     "metadata": {},
     "output_type": "execute_result"
    }
   ],
   "source": [
    "df_train.head()"
   ]
  },
  {
   "cell_type": "code",
   "execution_count": 14,
   "metadata": {},
   "outputs": [
    {
     "data": {
      "text/plain": [
       "array([1.0000e+01, 0.0000e+00, 1.0000e+00, 1.0000e+00, 0.0000e+00,\n",
       "       0.0000e+00, 1.0000e+00, 1.0000e+00, 0.0000e+00, 1.0000e+00,\n",
       "       1.0000e+00, 1.0000e+00, 1.0000e+00, 1.0000e+00, 1.0000e+00,\n",
       "       1.0000e+00, 2.0000e+02, 2.3000e+01, 1.0000e+00, 1.0000e+00,\n",
       "       1.0000e+00, 2.6400e+03, 4.5811e+02, 0.0000e+00, 1.0000e+00,\n",
       "       0.0000e+00, 0.0000e+00, 0.0000e+00, 0.0000e+00])"
      ]
     },
     "execution_count": 14,
     "metadata": {},
     "output_type": "execute_result"
    }
   ],
   "source": [
    "df_train.iloc[1,:].values"
   ]
  },
  {
   "cell_type": "code",
   "execution_count": 99,
   "metadata": {},
   "outputs": [
    {
     "data": {
      "text/plain": [
       "array([1.0000e+01, 1.0000e+00, 1.0000e+00, 1.0000e+00, 1.0000e+00,\n",
       "       1.0000e+00, 0.0000e+00, 1.0000e+00, 0.0000e+00, 1.0000e+00,\n",
       "       1.0000e+00, 1.0000e+00, 1.0000e+00, 1.0000e+00, 1.0000e+00,\n",
       "       1.0000e+00, 2.5000e+02, 2.5000e+01, 1.0000e+00, 1.0000e+00,\n",
       "       0.0000e+00, 1.9130e+03, 6.4965e+02, 0.0000e+00, 0.0000e+00,\n",
       "       0.0000e+00, 0.0000e+00, 0.0000e+00, 1.0000e+00])"
      ]
     },
     "execution_count": 99,
     "metadata": {},
     "output_type": "execute_result"
    }
   ],
   "source": [
    "df_train.iloc[19,:].values"
   ]
  },
  {
   "cell_type": "code",
   "execution_count": 15,
   "metadata": {},
   "outputs": [],
   "source": [
    "#Random Values from our training dataset with values changed for Grade\n",
    "\n",
    "#A - 1.1000e+01 as Grade value(first value)\n",
    "A = DataFrame([[1.1000e+01, 0.0000e+00, 1.0000e+00, 1.0000e+00, 0.0000e+00,\n",
    "       0.0000e+00, 1.0000e+00, 1.0000e+00, 0.0000e+00, 1.0000e+00,\n",
    "       1.0000e+00, 1.0000e+00, 1.0000e+00, 1.0000e+00, 1.0000e+00,\n",
    "       1.0000e+00, 2.0000e+02, 2.3000e+01, 1.0000e+00, 1.0000e+00,\n",
    "       1.0000e+00, 2.6400e+03, 0.0000e+00, 1.0000e+00,\n",
    "       0.0000e+00, 0.0000e+00, 0.0000e+00, 0.0000e+00]])\n",
    "\n",
    "#B - 0.9000e+01 as Grade value(first value)\n",
    "B =  DataFrame([[0.9000e+01, 0.0000e+00, 1.0000e+00, 1.0000e+00, 0.0000e+00,\n",
    "       0.0000e+00, 1.0000e+00, 1.0000e+00, 0.0000e+00, 1.0000e+00,\n",
    "       1.0000e+00, 1.0000e+00, 1.0000e+00, 1.0000e+00, 1.0000e+00,\n",
    "       1.0000e+00, 2.0000e+02, 2.3000e+01, 1.0000e+00, 1.0000e+00,\n",
    "       1.0000e+00, 2.6400e+03, 0.0000e+00, 1.0000e+00,\n",
    "       0.0000e+00, 0.0000e+00, 0.0000e+00, 0.0000e+00]])"
   ]
  },
  {
   "cell_type": "code",
   "execution_count": 16,
   "metadata": {},
   "outputs": [
    {
     "name": "stdout",
     "output_type": "stream",
     "text": [
      "Predicted reading score of student A minus the predicted reading score of student B is 59.09\n"
     ]
    }
   ],
   "source": [
    "#Prediction\n",
    "\n",
    "y_pred_A = lmScore.predict(A)\n",
    "y_pred_B = lmScore.predict(B)\n",
    "print('Predicted reading score of student A minus the predicted reading score of student B is',round(list(y_pred_A-y_pred_B)[0],2))\n"
   ]
  },
  {
   "cell_type": "raw",
   "metadata": {},
   "source": [
    "Q12. Coefficient associated with variable raceethAsian - meaning?"
   ]
  },
  {
   "cell_type": "code",
   "execution_count": 17,
   "metadata": {},
   "outputs": [
    {
     "name": "stdout",
     "output_type": "stream",
     "text": [
      "Coefficient of raceethAsian is 63.16700194599064\n"
     ]
    }
   ],
   "source": [
    "listofcolumns = list(X.columns)\n",
    "j=0\n",
    "for i in listofcolumns:\n",
    "    if(i=='raceeth_Asian'):\n",
    "        print('Coefficient of raceethAsian is',lmScore.coef_[j])\n",
    "    j=j+1"
   ]
  },
  {
   "cell_type": "raw",
   "metadata": {},
   "source": [
    "Coefficient of a independant variable means its impact over the dependent variable for each unit increase.\n",
    "\n",
    "In our case, raceethAsian is binary (i.e. 0 or 1), means that its contibution to the overall model when a student is Asian.\n",
    "The coefficient value is 63.167 and that implies its contribution to the reading score when the student is Asian. (raceethAsian = 1)."
   ]
  },
  {
   "cell_type": "raw",
   "metadata": {},
   "source": [
    "Q13. Which variables out of these are candidates for removal from the model? "
   ]
  },
  {
   "cell_type": "code",
   "execution_count": 18,
   "metadata": {},
   "outputs": [
    {
     "data": {
      "text/html": [
       "<div>\n",
       "<style scoped>\n",
       "    .dataframe tbody tr th:only-of-type {\n",
       "        vertical-align: middle;\n",
       "    }\n",
       "\n",
       "    .dataframe tbody tr th {\n",
       "        vertical-align: top;\n",
       "    }\n",
       "\n",
       "    .dataframe thead th {\n",
       "        text-align: right;\n",
       "    }\n",
       "</style>\n",
       "<table border=\"1\" class=\"dataframe\">\n",
       "  <thead>\n",
       "    <tr style=\"text-align: right;\">\n",
       "      <th></th>\n",
       "      <th>VIF Factor</th>\n",
       "      <th>Columns</th>\n",
       "    </tr>\n",
       "  </thead>\n",
       "  <tbody>\n",
       "    <tr>\n",
       "      <th>0</th>\n",
       "      <td>146.403518</td>\n",
       "      <td>grade</td>\n",
       "    </tr>\n",
       "    <tr>\n",
       "      <th>1</th>\n",
       "      <td>2.179933</td>\n",
       "      <td>male</td>\n",
       "    </tr>\n",
       "    <tr>\n",
       "      <th>2</th>\n",
       "      <td>3.909335</td>\n",
       "      <td>preschool</td>\n",
       "    </tr>\n",
       "    <tr>\n",
       "      <th>3</th>\n",
       "      <td>6.815514</td>\n",
       "      <td>expectBachelors</td>\n",
       "    </tr>\n",
       "    <tr>\n",
       "      <th>4</th>\n",
       "      <td>14.637315</td>\n",
       "      <td>motherHS</td>\n",
       "    </tr>\n",
       "    <tr>\n",
       "      <th>5</th>\n",
       "      <td>2.403052</td>\n",
       "      <td>motherBachelors</td>\n",
       "    </tr>\n",
       "    <tr>\n",
       "      <th>6</th>\n",
       "      <td>4.039440</td>\n",
       "      <td>motherWork</td>\n",
       "    </tr>\n",
       "    <tr>\n",
       "      <th>7</th>\n",
       "      <td>12.052780</td>\n",
       "      <td>fatherHS</td>\n",
       "    </tr>\n",
       "    <tr>\n",
       "      <th>8</th>\n",
       "      <td>2.463370</td>\n",
       "      <td>fatherBachelors</td>\n",
       "    </tr>\n",
       "    <tr>\n",
       "      <th>9</th>\n",
       "      <td>7.269092</td>\n",
       "      <td>fatherWork</td>\n",
       "    </tr>\n",
       "    <tr>\n",
       "      <th>10</th>\n",
       "      <td>21.895755</td>\n",
       "      <td>selfBornUS</td>\n",
       "    </tr>\n",
       "    <tr>\n",
       "      <th>11</th>\n",
       "      <td>15.165607</td>\n",
       "      <td>motherBornUS</td>\n",
       "    </tr>\n",
       "    <tr>\n",
       "      <th>12</th>\n",
       "      <td>13.625398</td>\n",
       "      <td>fatherBornUS</td>\n",
       "    </tr>\n",
       "    <tr>\n",
       "      <th>13</th>\n",
       "      <td>18.375744</td>\n",
       "      <td>englishAtHome</td>\n",
       "    </tr>\n",
       "    <tr>\n",
       "      <th>14</th>\n",
       "      <td>13.174830</td>\n",
       "      <td>computerForSchoolwork</td>\n",
       "    </tr>\n",
       "    <tr>\n",
       "      <th>15</th>\n",
       "      <td>1.551677</td>\n",
       "      <td>read30MinsADay</td>\n",
       "    </tr>\n",
       "    <tr>\n",
       "      <th>16</th>\n",
       "      <td>4.700639</td>\n",
       "      <td>minutesPerWeekEnglish</td>\n",
       "    </tr>\n",
       "    <tr>\n",
       "      <th>17</th>\n",
       "      <td>14.990900</td>\n",
       "      <td>studentsInEnglish</td>\n",
       "    </tr>\n",
       "    <tr>\n",
       "      <th>18</th>\n",
       "      <td>34.549123</td>\n",
       "      <td>schoolHasLibrary</td>\n",
       "    </tr>\n",
       "    <tr>\n",
       "      <th>19</th>\n",
       "      <td>17.570595</td>\n",
       "      <td>publicSchool</td>\n",
       "    </tr>\n",
       "    <tr>\n",
       "      <th>20</th>\n",
       "      <td>2.496541</td>\n",
       "      <td>urban</td>\n",
       "    </tr>\n",
       "    <tr>\n",
       "      <th>21</th>\n",
       "      <td>5.494445</td>\n",
       "      <td>schoolSize</td>\n",
       "    </tr>\n",
       "    <tr>\n",
       "      <th>22</th>\n",
       "      <td>5.304806</td>\n",
       "      <td>raceeth_Asian</td>\n",
       "    </tr>\n",
       "    <tr>\n",
       "      <th>23</th>\n",
       "      <td>10.456564</td>\n",
       "      <td>raceeth_Black</td>\n",
       "    </tr>\n",
       "    <tr>\n",
       "      <th>24</th>\n",
       "      <td>22.012359</td>\n",
       "      <td>raceeth_Hispanic</td>\n",
       "    </tr>\n",
       "    <tr>\n",
       "      <th>25</th>\n",
       "      <td>4.386530</td>\n",
       "      <td>raceeth_More than one race</td>\n",
       "    </tr>\n",
       "    <tr>\n",
       "      <th>26</th>\n",
       "      <td>1.886539</td>\n",
       "      <td>raceeth_Native Hawaiian/Other Pacific Islander</td>\n",
       "    </tr>\n",
       "    <tr>\n",
       "      <th>27</th>\n",
       "      <td>62.519269</td>\n",
       "      <td>raceeth_White</td>\n",
       "    </tr>\n",
       "  </tbody>\n",
       "</table>\n",
       "</div>"
      ],
      "text/plain": [
       "    VIF Factor                                         Columns\n",
       "0   146.403518                                           grade\n",
       "1     2.179933                                            male\n",
       "2     3.909335                                       preschool\n",
       "3     6.815514                                 expectBachelors\n",
       "4    14.637315                                        motherHS\n",
       "5     2.403052                                 motherBachelors\n",
       "6     4.039440                                      motherWork\n",
       "7    12.052780                                        fatherHS\n",
       "8     2.463370                                 fatherBachelors\n",
       "9     7.269092                                      fatherWork\n",
       "10   21.895755                                      selfBornUS\n",
       "11   15.165607                                    motherBornUS\n",
       "12   13.625398                                    fatherBornUS\n",
       "13   18.375744                                   englishAtHome\n",
       "14   13.174830                           computerForSchoolwork\n",
       "15    1.551677                                  read30MinsADay\n",
       "16    4.700639                           minutesPerWeekEnglish\n",
       "17   14.990900                               studentsInEnglish\n",
       "18   34.549123                                schoolHasLibrary\n",
       "19   17.570595                                    publicSchool\n",
       "20    2.496541                                           urban\n",
       "21    5.494445                                      schoolSize\n",
       "22    5.304806                                   raceeth_Asian\n",
       "23   10.456564                                   raceeth_Black\n",
       "24   22.012359                                raceeth_Hispanic\n",
       "25    4.386530                      raceeth_More than one race\n",
       "26    1.886539  raceeth_Native Hawaiian/Other Pacific Islander\n",
       "27   62.519269                                   raceeth_White"
      ]
     },
     "execution_count": 18,
     "metadata": {},
     "output_type": "execute_result"
    }
   ],
   "source": [
    "#Considering Multicollinearity\n",
    "\n",
    "vif=DataFrame()\n",
    "vif[\"VIF Factor\"] = [variance_inflation_factor(X.values, i) for i in range(X.shape[1])]\n",
    "vif['Columns']=X.columns\n",
    "vif"
   ]
  },
  {
   "cell_type": "code",
   "execution_count": 19,
   "metadata": {},
   "outputs": [
    {
     "data": {
      "text/html": [
       "<div>\n",
       "<style scoped>\n",
       "    .dataframe tbody tr th:only-of-type {\n",
       "        vertical-align: middle;\n",
       "    }\n",
       "\n",
       "    .dataframe tbody tr th {\n",
       "        vertical-align: top;\n",
       "    }\n",
       "\n",
       "    .dataframe thead th {\n",
       "        text-align: right;\n",
       "    }\n",
       "</style>\n",
       "<table border=\"1\" class=\"dataframe\">\n",
       "  <thead>\n",
       "    <tr style=\"text-align: right;\">\n",
       "      <th></th>\n",
       "      <th>male</th>\n",
       "      <th>preschool</th>\n",
       "      <th>expectBachelors</th>\n",
       "      <th>motherBachelors</th>\n",
       "      <th>motherWork</th>\n",
       "      <th>fatherBachelors</th>\n",
       "      <th>fatherWork</th>\n",
       "      <th>read30MinsADay</th>\n",
       "      <th>minutesPerWeekEnglish</th>\n",
       "      <th>urban</th>\n",
       "      <th>schoolSize</th>\n",
       "      <th>raceeth_Asian</th>\n",
       "      <th>raceeth_Black</th>\n",
       "      <th>raceeth_Hispanic</th>\n",
       "      <th>raceeth_More than one race</th>\n",
       "      <th>raceeth_Native Hawaiian/Other Pacific Islander</th>\n",
       "      <th>raceeth_White</th>\n",
       "    </tr>\n",
       "  </thead>\n",
       "  <tbody>\n",
       "    <tr>\n",
       "      <th>1</th>\n",
       "      <td>1</td>\n",
       "      <td>0.0</td>\n",
       "      <td>0.0</td>\n",
       "      <td>1.0</td>\n",
       "      <td>1.0</td>\n",
       "      <td>0.0</td>\n",
       "      <td>1.0</td>\n",
       "      <td>1.0</td>\n",
       "      <td>450.0</td>\n",
       "      <td>0</td>\n",
       "      <td>1173.0</td>\n",
       "      <td>0</td>\n",
       "      <td>0</td>\n",
       "      <td>0</td>\n",
       "      <td>0</td>\n",
       "      <td>0</td>\n",
       "      <td>1</td>\n",
       "    </tr>\n",
       "    <tr>\n",
       "      <th>3</th>\n",
       "      <td>0</td>\n",
       "      <td>1.0</td>\n",
       "      <td>1.0</td>\n",
       "      <td>0.0</td>\n",
       "      <td>1.0</td>\n",
       "      <td>0.0</td>\n",
       "      <td>1.0</td>\n",
       "      <td>1.0</td>\n",
       "      <td>200.0</td>\n",
       "      <td>1</td>\n",
       "      <td>2640.0</td>\n",
       "      <td>0</td>\n",
       "      <td>1</td>\n",
       "      <td>0</td>\n",
       "      <td>0</td>\n",
       "      <td>0</td>\n",
       "      <td>0</td>\n",
       "    </tr>\n",
       "    <tr>\n",
       "      <th>4</th>\n",
       "      <td>1</td>\n",
       "      <td>1.0</td>\n",
       "      <td>0.0</td>\n",
       "      <td>0.0</td>\n",
       "      <td>1.0</td>\n",
       "      <td>0.0</td>\n",
       "      <td>0.0</td>\n",
       "      <td>1.0</td>\n",
       "      <td>250.0</td>\n",
       "      <td>1</td>\n",
       "      <td>1095.0</td>\n",
       "      <td>0</td>\n",
       "      <td>0</td>\n",
       "      <td>1</td>\n",
       "      <td>0</td>\n",
       "      <td>0</td>\n",
       "      <td>0</td>\n",
       "    </tr>\n",
       "    <tr>\n",
       "      <th>7</th>\n",
       "      <td>0</td>\n",
       "      <td>1.0</td>\n",
       "      <td>1.0</td>\n",
       "      <td>0.0</td>\n",
       "      <td>0.0</td>\n",
       "      <td>0.0</td>\n",
       "      <td>1.0</td>\n",
       "      <td>1.0</td>\n",
       "      <td>300.0</td>\n",
       "      <td>0</td>\n",
       "      <td>1913.0</td>\n",
       "      <td>0</td>\n",
       "      <td>0</td>\n",
       "      <td>0</td>\n",
       "      <td>0</td>\n",
       "      <td>0</td>\n",
       "      <td>1</td>\n",
       "    </tr>\n",
       "    <tr>\n",
       "      <th>9</th>\n",
       "      <td>1</td>\n",
       "      <td>1.0</td>\n",
       "      <td>1.0</td>\n",
       "      <td>1.0</td>\n",
       "      <td>1.0</td>\n",
       "      <td>0.0</td>\n",
       "      <td>1.0</td>\n",
       "      <td>0.0</td>\n",
       "      <td>294.0</td>\n",
       "      <td>0</td>\n",
       "      <td>899.0</td>\n",
       "      <td>0</td>\n",
       "      <td>0</td>\n",
       "      <td>0</td>\n",
       "      <td>1</td>\n",
       "      <td>0</td>\n",
       "      <td>0</td>\n",
       "    </tr>\n",
       "  </tbody>\n",
       "</table>\n",
       "</div>"
      ],
      "text/plain": [
       "   male  preschool  expectBachelors  motherBachelors  motherWork  \\\n",
       "1     1        0.0              0.0              1.0         1.0   \n",
       "3     0        1.0              1.0              0.0         1.0   \n",
       "4     1        1.0              0.0              0.0         1.0   \n",
       "7     0        1.0              1.0              0.0         0.0   \n",
       "9     1        1.0              1.0              1.0         1.0   \n",
       "\n",
       "   fatherBachelors  fatherWork  read30MinsADay  minutesPerWeekEnglish  urban  \\\n",
       "1              0.0         1.0             1.0                  450.0      0   \n",
       "3              0.0         1.0             1.0                  200.0      1   \n",
       "4              0.0         0.0             1.0                  250.0      1   \n",
       "7              0.0         1.0             1.0                  300.0      0   \n",
       "9              0.0         1.0             0.0                  294.0      0   \n",
       "\n",
       "   schoolSize  raceeth_Asian  raceeth_Black  raceeth_Hispanic  \\\n",
       "1      1173.0              0              0                 0   \n",
       "3      2640.0              0              1                 0   \n",
       "4      1095.0              0              0                 1   \n",
       "7      1913.0              0              0                 0   \n",
       "9       899.0              0              0                 0   \n",
       "\n",
       "   raceeth_More than one race  raceeth_Native Hawaiian/Other Pacific Islander  \\\n",
       "1                           0                                               0   \n",
       "3                           0                                               0   \n",
       "4                           0                                               0   \n",
       "7                           0                                               0   \n",
       "9                           1                                               0   \n",
       "\n",
       "   raceeth_White  \n",
       "1              1  \n",
       "3              0  \n",
       "4              0  \n",
       "7              1  \n",
       "9              0  "
      ]
     },
     "execution_count": 19,
     "metadata": {},
     "output_type": "execute_result"
    }
   ],
   "source": [
    "#Based on VIF, we can drop the columns and create X1 as below.(Assuming a threshold as 8 for VIF)\n",
    "\n",
    "X1=X.iloc[:,[1,2,3,5,6,8,9,15,16,20,21,22,23,24,25,26,27]]\n",
    "X1.head()"
   ]
  },
  {
   "cell_type": "code",
   "execution_count": 20,
   "metadata": {},
   "outputs": [],
   "source": [
    "#Significance Code\n",
    "#Based on p-value(Significance Code), we can further drop the columns and create X11 as below.\n",
    "X11=X1.drop(labels=['motherWork','preschool','minutesPerWeekEnglish','fatherWork','urban','male'],axis=1)\n",
    "\n",
    "#Columns are selected in a looping process in the same order."
   ]
  },
  {
   "cell_type": "code",
   "execution_count": 21,
   "metadata": {
    "scrolled": true
   },
   "outputs": [
    {
     "data": {
      "text/html": [
       "<table class=\"simpletable\">\n",
       "<caption>OLS Regression Results</caption>\n",
       "<tr>\n",
       "  <th>Dep. Variable:</th>      <td>readingScore</td>   <th>  R-squared:         </th> <td>   0.276</td> \n",
       "</tr>\n",
       "<tr>\n",
       "  <th>Model:</th>                   <td>OLS</td>       <th>  Adj. R-squared:    </th> <td>   0.273</td> \n",
       "</tr>\n",
       "<tr>\n",
       "  <th>Method:</th>             <td>Least Squares</td>  <th>  F-statistic:       </th> <td>   83.17</td> \n",
       "</tr>\n",
       "<tr>\n",
       "  <th>Date:</th>             <td>Sun, 20 Jan 2019</td> <th>  Prob (F-statistic):</th> <td>2.01e-159</td>\n",
       "</tr>\n",
       "<tr>\n",
       "  <th>Time:</th>                 <td>19:04:29</td>     <th>  Log-Likelihood:    </th> <td> -13880.</td> \n",
       "</tr>\n",
       "<tr>\n",
       "  <th>No. Observations:</th>      <td>  2414</td>      <th>  AIC:               </th> <td>2.778e+04</td>\n",
       "</tr>\n",
       "<tr>\n",
       "  <th>Df Residuals:</th>          <td>  2402</td>      <th>  BIC:               </th> <td>2.785e+04</td>\n",
       "</tr>\n",
       "<tr>\n",
       "  <th>Df Model:</th>              <td>    11</td>      <th>                     </th>     <td> </td>    \n",
       "</tr>\n",
       "<tr>\n",
       "  <th>Covariance Type:</th>      <td>nonrobust</td>    <th>                     </th>     <td> </td>    \n",
       "</tr>\n",
       "</table>\n",
       "<table class=\"simpletable\">\n",
       "<tr>\n",
       "                         <td></td>                           <th>coef</th>     <th>std err</th>      <th>t</th>      <th>P>|t|</th>  <th>[0.025</th>    <th>0.975]</th>  \n",
       "</tr>\n",
       "<tr>\n",
       "  <th>const</th>                                          <td>  367.7203</td> <td>   17.399</td> <td>   21.135</td> <td> 0.000</td> <td>  333.602</td> <td>  401.839</td>\n",
       "</tr>\n",
       "<tr>\n",
       "  <th>expectBachelors</th>                                <td>   64.4453</td> <td>    4.308</td> <td>   14.958</td> <td> 0.000</td> <td>   55.997</td> <td>   72.894</td>\n",
       "</tr>\n",
       "<tr>\n",
       "  <th>motherBachelors</th>                                <td>   13.3698</td> <td>    3.894</td> <td>    3.434</td> <td> 0.001</td> <td>    5.734</td> <td>   21.005</td>\n",
       "</tr>\n",
       "<tr>\n",
       "  <th>fatherBachelors</th>                                <td>   20.6359</td> <td>    4.010</td> <td>    5.146</td> <td> 0.000</td> <td>   12.772</td> <td>   28.500</td>\n",
       "</tr>\n",
       "<tr>\n",
       "  <th>read30MinsADay</th>                                 <td>   38.7125</td> <td>    3.415</td> <td>   11.336</td> <td> 0.000</td> <td>   32.016</td> <td>   45.409</td>\n",
       "</tr>\n",
       "<tr>\n",
       "  <th>schoolSize</th>                                     <td>    0.0061</td> <td>    0.002</td> <td>    3.209</td> <td> 0.001</td> <td>    0.002</td> <td>    0.010</td>\n",
       "</tr>\n",
       "<tr>\n",
       "  <th>raceeth_Asian</th>                                  <td>   82.7548</td> <td>   18.842</td> <td>    4.392</td> <td> 0.000</td> <td>   45.806</td> <td>  119.704</td>\n",
       "</tr>\n",
       "<tr>\n",
       "  <th>raceeth_Black</th>                                  <td>   10.6133</td> <td>   17.814</td> <td>    0.596</td> <td> 0.551</td> <td>  -24.319</td> <td>   45.546</td>\n",
       "</tr>\n",
       "<tr>\n",
       "  <th>raceeth_Hispanic</th>                               <td>   39.6530</td> <td>   17.478</td> <td>    2.269</td> <td> 0.023</td> <td>    5.379</td> <td>   73.927</td>\n",
       "</tr>\n",
       "<tr>\n",
       "  <th>raceeth_More than one race</th>                     <td>   63.1154</td> <td>   19.051</td> <td>    3.313</td> <td> 0.001</td> <td>   25.758</td> <td>  100.473</td>\n",
       "</tr>\n",
       "<tr>\n",
       "  <th>raceeth_Native Hawaiian/Other Pacific Islander</th> <td>   83.3619</td> <td>   24.138</td> <td>    3.454</td> <td> 0.001</td> <td>   36.029</td> <td>  130.695</td>\n",
       "</tr>\n",
       "<tr>\n",
       "  <th>raceeth_White</th>                                  <td>   80.5286</td> <td>   17.199</td> <td>    4.682</td> <td> 0.000</td> <td>   46.803</td> <td>  114.255</td>\n",
       "</tr>\n",
       "</table>\n",
       "<table class=\"simpletable\">\n",
       "<tr>\n",
       "  <th>Omnibus:</th>       <td>11.397</td> <th>  Durbin-Watson:     </th> <td>   2.016</td>\n",
       "</tr>\n",
       "<tr>\n",
       "  <th>Prob(Omnibus):</th> <td> 0.003</td> <th>  Jarque-Bera (JB):  </th> <td>  11.485</td>\n",
       "</tr>\n",
       "<tr>\n",
       "  <th>Skew:</th>          <td>-0.160</td> <th>  Prob(JB):          </th> <td> 0.00321</td>\n",
       "</tr>\n",
       "<tr>\n",
       "  <th>Kurtosis:</th>      <td> 2.894</td> <th>  Cond. No.          </th> <td>4.78e+04</td>\n",
       "</tr>\n",
       "</table><br/><br/>Warnings:<br/>[1] Standard Errors assume that the covariance matrix of the errors is correctly specified.<br/>[2] The condition number is large, 4.78e+04. This might indicate that there are<br/>strong multicollinearity or other numerical problems."
      ],
      "text/plain": [
       "<class 'statsmodels.iolib.summary.Summary'>\n",
       "\"\"\"\n",
       "                            OLS Regression Results                            \n",
       "==============================================================================\n",
       "Dep. Variable:           readingScore   R-squared:                       0.276\n",
       "Model:                            OLS   Adj. R-squared:                  0.273\n",
       "Method:                 Least Squares   F-statistic:                     83.17\n",
       "Date:                Sun, 20 Jan 2019   Prob (F-statistic):          2.01e-159\n",
       "Time:                        19:04:29   Log-Likelihood:                -13880.\n",
       "No. Observations:                2414   AIC:                         2.778e+04\n",
       "Df Residuals:                    2402   BIC:                         2.785e+04\n",
       "Df Model:                          11                                         \n",
       "Covariance Type:            nonrobust                                         \n",
       "==================================================================================================================\n",
       "                                                     coef    std err          t      P>|t|      [0.025      0.975]\n",
       "------------------------------------------------------------------------------------------------------------------\n",
       "const                                            367.7203     17.399     21.135      0.000     333.602     401.839\n",
       "expectBachelors                                   64.4453      4.308     14.958      0.000      55.997      72.894\n",
       "motherBachelors                                   13.3698      3.894      3.434      0.001       5.734      21.005\n",
       "fatherBachelors                                   20.6359      4.010      5.146      0.000      12.772      28.500\n",
       "read30MinsADay                                    38.7125      3.415     11.336      0.000      32.016      45.409\n",
       "schoolSize                                         0.0061      0.002      3.209      0.001       0.002       0.010\n",
       "raceeth_Asian                                     82.7548     18.842      4.392      0.000      45.806     119.704\n",
       "raceeth_Black                                     10.6133     17.814      0.596      0.551     -24.319      45.546\n",
       "raceeth_Hispanic                                  39.6530     17.478      2.269      0.023       5.379      73.927\n",
       "raceeth_More than one race                        63.1154     19.051      3.313      0.001      25.758     100.473\n",
       "raceeth_Native Hawaiian/Other Pacific Islander    83.3619     24.138      3.454      0.001      36.029     130.695\n",
       "raceeth_White                                     80.5286     17.199      4.682      0.000      46.803     114.255\n",
       "==============================================================================\n",
       "Omnibus:                       11.397   Durbin-Watson:                   2.016\n",
       "Prob(Omnibus):                  0.003   Jarque-Bera (JB):               11.485\n",
       "Skew:                          -0.160   Prob(JB):                      0.00321\n",
       "Kurtosis:                       2.894   Cond. No.                     4.78e+04\n",
       "==============================================================================\n",
       "\n",
       "Warnings:\n",
       "[1] Standard Errors assume that the covariance matrix of the errors is correctly specified.\n",
       "[2] The condition number is large, 4.78e+04. This might indicate that there are\n",
       "strong multicollinearity or other numerical problems.\n",
       "\"\"\""
      ]
     },
     "execution_count": 21,
     "metadata": {},
     "output_type": "execute_result"
    }
   ],
   "source": [
    "X2 = add_constant(X11)\n",
    "lm= lmr.OLS(Y,X2)\n",
    "lm2=lm.fit()\n",
    "lm2.pvalues\n",
    "lm2.summary()"
   ]
  },
  {
   "cell_type": "code",
   "execution_count": 22,
   "metadata": {},
   "outputs": [
    {
     "name": "stdout",
     "output_type": "stream",
     "text": [
      "Columns that can be removed as part of significance codes are below..\n",
      "\n",
      "grade\n",
      "male\n",
      "preschool\n",
      "motherHS\n",
      "motherWork\n",
      "fatherHS\n",
      "fatherWork\n",
      "selfBornUS\n",
      "motherBornUS\n",
      "fatherBornUS\n",
      "englishAtHome\n",
      "computerForSchoolwork\n",
      "minutesPerWeekEnglish\n",
      "studentsInEnglish\n",
      "schoolHasLibrary\n",
      "publicSchool\n",
      "urban\n",
      "readingScore\n"
     ]
    }
   ],
   "source": [
    "print('Columns that can be removed as part of significance codes are below..\\n')\n",
    "for i in df_train.columns:\n",
    "    if i not in X11.columns:\n",
    "        print(i)"
   ]
  },
  {
   "cell_type": "raw",
   "metadata": {},
   "source": [
    "Q14. What is the range between the maximum and minimum predicted reading score on the test set?"
   ]
  },
  {
   "cell_type": "code",
   "execution_count": 23,
   "metadata": {},
   "outputs": [
    {
     "name": "stdout",
     "output_type": "stream",
     "text": [
      "Difference between min and max test scores on testing set is 284.0\n"
     ]
    }
   ],
   "source": [
    "df_test = pd.get_dummies(pisaTest,drop_first=True)\n",
    "#No null values in pisaTest to handle\n",
    "#drop_first=True  ->  American Indian/Alaska Native is the reference\n",
    "\n",
    "#Dependant and Independant variables\n",
    "X=df_test.drop(labels=['readingScore'],axis=1)\n",
    "Y=df_test.readingScore\n",
    "\n",
    "predTest=lmScore.predict(X)\n",
    "print('Difference between min and max test scores on testing set is',round(max(predTest)-min(predTest)))"
   ]
  },
  {
   "cell_type": "raw",
   "metadata": {},
   "source": [
    "Q15. What is the SSE & RMSE of lmScore on the testing set? "
   ]
  },
  {
   "cell_type": "code",
   "execution_count": 32,
   "metadata": {},
   "outputs": [
    {
     "name": "stdout",
     "output_type": "stream",
     "text": [
      "Sum of Squared Error (SSE) of lmScore on the training set is 5761800.0\n",
      "Root-Mean Squared Error (RMSE) of lmScore on the training set is 76.29\n"
     ]
    }
   ],
   "source": [
    "sse=(round(metrics.mean_squared_error(Y,predTest)))*X.shape[0]\n",
    "print('Sum of Squared Error (SSE) of lmScore on the training set is',sse)\n",
    "rmse=round(np.sqrt(metrics.mean_squared_error(Y,predTest)),2)\n",
    "print('Root-Mean Squared Error (RMSE) of lmScore on the training set is',rmse)"
   ]
  },
  {
   "cell_type": "raw",
   "metadata": {},
   "source": [
    "Q16. What is the predicted score using baseline model - training set? "
   ]
  },
  {
   "cell_type": "code",
   "execution_count": 25,
   "metadata": {},
   "outputs": [
    {
     "name": "stdout",
     "output_type": "stream",
     "text": [
      "By Baseline model, prediction score is, 517.9628873239436\n"
     ]
    }
   ],
   "source": [
    "avg = pisaTrain.readingScore.mean()\n",
    "print('By Baseline model, prediction score is,',avg)"
   ]
  },
  {
   "cell_type": "raw",
   "metadata": {},
   "source": [
    "Q17. What is the SSE of baseline model?"
   ]
  },
  {
   "cell_type": "code",
   "execution_count": 26,
   "metadata": {},
   "outputs": [
    {
     "name": "stdout",
     "output_type": "stream",
     "text": [
      "Sum of Squared Error (SSE) of lmScore on the training set is 7802190.0\n"
     ]
    }
   ],
   "source": [
    "l_avg=list()\n",
    "for i in Y:\n",
    "    l_avg.append(avg)\n",
    "sse=(round(metrics.mean_squared_error(Y,l_avg)))*X.shape[0]\n",
    "print('Sum of Squared Error (SSE) of lmScore on the training set is',sse)"
   ]
  },
  {
   "cell_type": "raw",
   "metadata": {},
   "source": [
    "Q18. R-squared - testing set?"
   ]
  },
  {
   "cell_type": "code",
   "execution_count": 27,
   "metadata": {},
   "outputs": [
    {
     "name": "stdout",
     "output_type": "stream",
     "text": [
      "R-squared value of lmScore(LinearRegression model) on the training set is 0.26\n"
     ]
    }
   ],
   "source": [
    "print('R-squared value of lmScore(LinearRegression model) on the training set is',round(r2_score(Y,predTest),2))"
   ]
  }
 ],
 "metadata": {
  "kernelspec": {
   "display_name": "Python 3",
   "language": "python",
   "name": "python3"
  },
  "language_info": {
   "codemirror_mode": {
    "name": "ipython",
    "version": 3
   },
   "file_extension": ".py",
   "mimetype": "text/x-python",
   "name": "python",
   "nbconvert_exporter": "python",
   "pygments_lexer": "ipython3",
   "version": "3.7.0"
  }
 },
 "nbformat": 4,
 "nbformat_minor": 2
}
