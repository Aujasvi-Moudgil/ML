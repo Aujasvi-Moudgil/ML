{
 "cells": [
  {
   "cell_type": "markdown",
   "metadata": {},
   "source": [
    "# Regression Problem on PISA"
   ]
  },
  {
   "cell_type": "code",
   "execution_count": 4,
   "metadata": {},
   "outputs": [],
   "source": [
    "import pandas as pd\n",
    "import numpy as np\n",
    "import matplotlib.pyplot as plt # this is for visualization\n",
    "import seaborn as sns # for visualization\n",
    "%matplotlib inline\n",
    "import statsmodels.formula.api as sm\n",
    "import scipy, scipy.stats\n",
    "import math # log function is inside this library\n",
    "# this is used to get the plots inline i.e. in the same page\n",
    "from collections import Counter"
   ]
  },
  {
   "cell_type": "code",
   "execution_count": 5,
   "metadata": {},
   "outputs": [],
   "source": [
    "df1 = pd.read_csv(\"pisa2009train.csv\")\n",
    "df2 = pd.read_csv(\"pisa2009test.csv\")"
   ]
  },
  {
   "cell_type": "code",
   "execution_count": 6,
   "metadata": {},
   "outputs": [
    {
     "data": {
      "text/html": [
       "<div>\n",
       "<style scoped>\n",
       "    .dataframe tbody tr th:only-of-type {\n",
       "        vertical-align: middle;\n",
       "    }\n",
       "\n",
       "    .dataframe tbody tr th {\n",
       "        vertical-align: top;\n",
       "    }\n",
       "\n",
       "    .dataframe thead th {\n",
       "        text-align: right;\n",
       "    }\n",
       "</style>\n",
       "<table border=\"1\" class=\"dataframe\">\n",
       "  <thead>\n",
       "    <tr style=\"text-align: right;\">\n",
       "      <th></th>\n",
       "      <th>grade</th>\n",
       "      <th>male</th>\n",
       "      <th>raceeth</th>\n",
       "      <th>preschool</th>\n",
       "      <th>expectBachelors</th>\n",
       "      <th>motherHS</th>\n",
       "      <th>motherBachelors</th>\n",
       "      <th>motherWork</th>\n",
       "      <th>fatherHS</th>\n",
       "      <th>fatherBachelors</th>\n",
       "      <th>...</th>\n",
       "      <th>englishAtHome</th>\n",
       "      <th>computerForSchoolwork</th>\n",
       "      <th>read30MinsADay</th>\n",
       "      <th>minutesPerWeekEnglish</th>\n",
       "      <th>studentsInEnglish</th>\n",
       "      <th>schoolHasLibrary</th>\n",
       "      <th>publicSchool</th>\n",
       "      <th>urban</th>\n",
       "      <th>schoolSize</th>\n",
       "      <th>readingScore</th>\n",
       "    </tr>\n",
       "  </thead>\n",
       "  <tbody>\n",
       "    <tr>\n",
       "      <th>0</th>\n",
       "      <td>11</td>\n",
       "      <td>1</td>\n",
       "      <td>NaN</td>\n",
       "      <td>NaN</td>\n",
       "      <td>0.0</td>\n",
       "      <td>NaN</td>\n",
       "      <td>NaN</td>\n",
       "      <td>1.0</td>\n",
       "      <td>NaN</td>\n",
       "      <td>NaN</td>\n",
       "      <td>...</td>\n",
       "      <td>0.0</td>\n",
       "      <td>1.0</td>\n",
       "      <td>0.0</td>\n",
       "      <td>225.0</td>\n",
       "      <td>NaN</td>\n",
       "      <td>1.0</td>\n",
       "      <td>1</td>\n",
       "      <td>1</td>\n",
       "      <td>673.0</td>\n",
       "      <td>476.00</td>\n",
       "    </tr>\n",
       "    <tr>\n",
       "      <th>1</th>\n",
       "      <td>11</td>\n",
       "      <td>1</td>\n",
       "      <td>White</td>\n",
       "      <td>0.0</td>\n",
       "      <td>0.0</td>\n",
       "      <td>1.0</td>\n",
       "      <td>1.0</td>\n",
       "      <td>1.0</td>\n",
       "      <td>1.0</td>\n",
       "      <td>0.0</td>\n",
       "      <td>...</td>\n",
       "      <td>1.0</td>\n",
       "      <td>1.0</td>\n",
       "      <td>1.0</td>\n",
       "      <td>450.0</td>\n",
       "      <td>25.0</td>\n",
       "      <td>1.0</td>\n",
       "      <td>1</td>\n",
       "      <td>0</td>\n",
       "      <td>1173.0</td>\n",
       "      <td>575.01</td>\n",
       "    </tr>\n",
       "    <tr>\n",
       "      <th>2</th>\n",
       "      <td>9</td>\n",
       "      <td>1</td>\n",
       "      <td>White</td>\n",
       "      <td>1.0</td>\n",
       "      <td>1.0</td>\n",
       "      <td>1.0</td>\n",
       "      <td>1.0</td>\n",
       "      <td>1.0</td>\n",
       "      <td>1.0</td>\n",
       "      <td>NaN</td>\n",
       "      <td>...</td>\n",
       "      <td>1.0</td>\n",
       "      <td>1.0</td>\n",
       "      <td>0.0</td>\n",
       "      <td>250.0</td>\n",
       "      <td>28.0</td>\n",
       "      <td>1.0</td>\n",
       "      <td>1</td>\n",
       "      <td>0</td>\n",
       "      <td>1233.0</td>\n",
       "      <td>554.81</td>\n",
       "    </tr>\n",
       "    <tr>\n",
       "      <th>3</th>\n",
       "      <td>10</td>\n",
       "      <td>0</td>\n",
       "      <td>Black</td>\n",
       "      <td>1.0</td>\n",
       "      <td>1.0</td>\n",
       "      <td>0.0</td>\n",
       "      <td>0.0</td>\n",
       "      <td>1.0</td>\n",
       "      <td>1.0</td>\n",
       "      <td>0.0</td>\n",
       "      <td>...</td>\n",
       "      <td>1.0</td>\n",
       "      <td>1.0</td>\n",
       "      <td>1.0</td>\n",
       "      <td>200.0</td>\n",
       "      <td>23.0</td>\n",
       "      <td>1.0</td>\n",
       "      <td>1</td>\n",
       "      <td>1</td>\n",
       "      <td>2640.0</td>\n",
       "      <td>458.11</td>\n",
       "    </tr>\n",
       "    <tr>\n",
       "      <th>4</th>\n",
       "      <td>10</td>\n",
       "      <td>1</td>\n",
       "      <td>Hispanic</td>\n",
       "      <td>1.0</td>\n",
       "      <td>0.0</td>\n",
       "      <td>1.0</td>\n",
       "      <td>0.0</td>\n",
       "      <td>1.0</td>\n",
       "      <td>1.0</td>\n",
       "      <td>0.0</td>\n",
       "      <td>...</td>\n",
       "      <td>1.0</td>\n",
       "      <td>1.0</td>\n",
       "      <td>1.0</td>\n",
       "      <td>250.0</td>\n",
       "      <td>35.0</td>\n",
       "      <td>1.0</td>\n",
       "      <td>1</td>\n",
       "      <td>1</td>\n",
       "      <td>1095.0</td>\n",
       "      <td>613.89</td>\n",
       "    </tr>\n",
       "  </tbody>\n",
       "</table>\n",
       "<p>5 rows × 24 columns</p>\n",
       "</div>"
      ],
      "text/plain": [
       "   grade  male   raceeth  preschool  expectBachelors  motherHS  \\\n",
       "0     11     1       NaN        NaN              0.0       NaN   \n",
       "1     11     1     White        0.0              0.0       1.0   \n",
       "2      9     1     White        1.0              1.0       1.0   \n",
       "3     10     0     Black        1.0              1.0       0.0   \n",
       "4     10     1  Hispanic        1.0              0.0       1.0   \n",
       "\n",
       "   motherBachelors  motherWork  fatherHS  fatherBachelors      ...       \\\n",
       "0              NaN         1.0       NaN              NaN      ...        \n",
       "1              1.0         1.0       1.0              0.0      ...        \n",
       "2              1.0         1.0       1.0              NaN      ...        \n",
       "3              0.0         1.0       1.0              0.0      ...        \n",
       "4              0.0         1.0       1.0              0.0      ...        \n",
       "\n",
       "   englishAtHome  computerForSchoolwork  read30MinsADay  \\\n",
       "0            0.0                    1.0             0.0   \n",
       "1            1.0                    1.0             1.0   \n",
       "2            1.0                    1.0             0.0   \n",
       "3            1.0                    1.0             1.0   \n",
       "4            1.0                    1.0             1.0   \n",
       "\n",
       "   minutesPerWeekEnglish  studentsInEnglish  schoolHasLibrary  publicSchool  \\\n",
       "0                  225.0                NaN               1.0             1   \n",
       "1                  450.0               25.0               1.0             1   \n",
       "2                  250.0               28.0               1.0             1   \n",
       "3                  200.0               23.0               1.0             1   \n",
       "4                  250.0               35.0               1.0             1   \n",
       "\n",
       "   urban  schoolSize  readingScore  \n",
       "0      1       673.0        476.00  \n",
       "1      0      1173.0        575.01  \n",
       "2      0      1233.0        554.81  \n",
       "3      1      2640.0        458.11  \n",
       "4      1      1095.0        613.89  \n",
       "\n",
       "[5 rows x 24 columns]"
      ]
     },
     "execution_count": 6,
     "metadata": {},
     "output_type": "execute_result"
    }
   ],
   "source": [
    "df1.head()"
   ]
  },
  {
   "cell_type": "code",
   "execution_count": 7,
   "metadata": {},
   "outputs": [
    {
     "data": {
      "text/html": [
       "<div>\n",
       "<style scoped>\n",
       "    .dataframe tbody tr th:only-of-type {\n",
       "        vertical-align: middle;\n",
       "    }\n",
       "\n",
       "    .dataframe tbody tr th {\n",
       "        vertical-align: top;\n",
       "    }\n",
       "\n",
       "    .dataframe thead th {\n",
       "        text-align: right;\n",
       "    }\n",
       "</style>\n",
       "<table border=\"1\" class=\"dataframe\">\n",
       "  <thead>\n",
       "    <tr style=\"text-align: right;\">\n",
       "      <th></th>\n",
       "      <th>grade</th>\n",
       "      <th>male</th>\n",
       "      <th>raceeth</th>\n",
       "      <th>preschool</th>\n",
       "      <th>expectBachelors</th>\n",
       "      <th>motherHS</th>\n",
       "      <th>motherBachelors</th>\n",
       "      <th>motherWork</th>\n",
       "      <th>fatherHS</th>\n",
       "      <th>fatherBachelors</th>\n",
       "      <th>...</th>\n",
       "      <th>englishAtHome</th>\n",
       "      <th>computerForSchoolwork</th>\n",
       "      <th>read30MinsADay</th>\n",
       "      <th>minutesPerWeekEnglish</th>\n",
       "      <th>studentsInEnglish</th>\n",
       "      <th>schoolHasLibrary</th>\n",
       "      <th>publicSchool</th>\n",
       "      <th>urban</th>\n",
       "      <th>schoolSize</th>\n",
       "      <th>readingScore</th>\n",
       "    </tr>\n",
       "  </thead>\n",
       "  <tbody>\n",
       "    <tr>\n",
       "      <th>0</th>\n",
       "      <td>10</td>\n",
       "      <td>0</td>\n",
       "      <td>White</td>\n",
       "      <td>1.0</td>\n",
       "      <td>0.0</td>\n",
       "      <td>1.0</td>\n",
       "      <td>1.0</td>\n",
       "      <td>1.0</td>\n",
       "      <td>1.0</td>\n",
       "      <td>0.0</td>\n",
       "      <td>...</td>\n",
       "      <td>1.0</td>\n",
       "      <td>1.0</td>\n",
       "      <td>0.0</td>\n",
       "      <td>240.0</td>\n",
       "      <td>30.0</td>\n",
       "      <td>1.0</td>\n",
       "      <td>1</td>\n",
       "      <td>0</td>\n",
       "      <td>808.0</td>\n",
       "      <td>355.24</td>\n",
       "    </tr>\n",
       "    <tr>\n",
       "      <th>1</th>\n",
       "      <td>10</td>\n",
       "      <td>1</td>\n",
       "      <td>White</td>\n",
       "      <td>0.0</td>\n",
       "      <td>0.0</td>\n",
       "      <td>1.0</td>\n",
       "      <td>0.0</td>\n",
       "      <td>1.0</td>\n",
       "      <td>1.0</td>\n",
       "      <td>0.0</td>\n",
       "      <td>...</td>\n",
       "      <td>1.0</td>\n",
       "      <td>1.0</td>\n",
       "      <td>0.0</td>\n",
       "      <td>255.0</td>\n",
       "      <td>NaN</td>\n",
       "      <td>1.0</td>\n",
       "      <td>1</td>\n",
       "      <td>0</td>\n",
       "      <td>808.0</td>\n",
       "      <td>385.57</td>\n",
       "    </tr>\n",
       "    <tr>\n",
       "      <th>2</th>\n",
       "      <td>10</td>\n",
       "      <td>0</td>\n",
       "      <td>White</td>\n",
       "      <td>1.0</td>\n",
       "      <td>0.0</td>\n",
       "      <td>1.0</td>\n",
       "      <td>0.0</td>\n",
       "      <td>1.0</td>\n",
       "      <td>1.0</td>\n",
       "      <td>0.0</td>\n",
       "      <td>...</td>\n",
       "      <td>1.0</td>\n",
       "      <td>1.0</td>\n",
       "      <td>0.0</td>\n",
       "      <td>NaN</td>\n",
       "      <td>30.0</td>\n",
       "      <td>1.0</td>\n",
       "      <td>1</td>\n",
       "      <td>0</td>\n",
       "      <td>808.0</td>\n",
       "      <td>522.62</td>\n",
       "    </tr>\n",
       "    <tr>\n",
       "      <th>3</th>\n",
       "      <td>10</td>\n",
       "      <td>0</td>\n",
       "      <td>White</td>\n",
       "      <td>1.0</td>\n",
       "      <td>0.0</td>\n",
       "      <td>1.0</td>\n",
       "      <td>1.0</td>\n",
       "      <td>1.0</td>\n",
       "      <td>1.0</td>\n",
       "      <td>0.0</td>\n",
       "      <td>...</td>\n",
       "      <td>1.0</td>\n",
       "      <td>1.0</td>\n",
       "      <td>0.0</td>\n",
       "      <td>160.0</td>\n",
       "      <td>30.0</td>\n",
       "      <td>NaN</td>\n",
       "      <td>1</td>\n",
       "      <td>0</td>\n",
       "      <td>808.0</td>\n",
       "      <td>406.24</td>\n",
       "    </tr>\n",
       "    <tr>\n",
       "      <th>4</th>\n",
       "      <td>10</td>\n",
       "      <td>0</td>\n",
       "      <td>White</td>\n",
       "      <td>1.0</td>\n",
       "      <td>1.0</td>\n",
       "      <td>1.0</td>\n",
       "      <td>0.0</td>\n",
       "      <td>0.0</td>\n",
       "      <td>1.0</td>\n",
       "      <td>1.0</td>\n",
       "      <td>...</td>\n",
       "      <td>1.0</td>\n",
       "      <td>1.0</td>\n",
       "      <td>0.0</td>\n",
       "      <td>240.0</td>\n",
       "      <td>30.0</td>\n",
       "      <td>1.0</td>\n",
       "      <td>1</td>\n",
       "      <td>0</td>\n",
       "      <td>808.0</td>\n",
       "      <td>453.50</td>\n",
       "    </tr>\n",
       "  </tbody>\n",
       "</table>\n",
       "<p>5 rows × 24 columns</p>\n",
       "</div>"
      ],
      "text/plain": [
       "   grade  male raceeth  preschool  expectBachelors  motherHS  motherBachelors  \\\n",
       "0     10     0   White        1.0              0.0       1.0              1.0   \n",
       "1     10     1   White        0.0              0.0       1.0              0.0   \n",
       "2     10     0   White        1.0              0.0       1.0              0.0   \n",
       "3     10     0   White        1.0              0.0       1.0              1.0   \n",
       "4     10     0   White        1.0              1.0       1.0              0.0   \n",
       "\n",
       "   motherWork  fatherHS  fatherBachelors      ...       englishAtHome  \\\n",
       "0         1.0       1.0              0.0      ...                 1.0   \n",
       "1         1.0       1.0              0.0      ...                 1.0   \n",
       "2         1.0       1.0              0.0      ...                 1.0   \n",
       "3         1.0       1.0              0.0      ...                 1.0   \n",
       "4         0.0       1.0              1.0      ...                 1.0   \n",
       "\n",
       "   computerForSchoolwork  read30MinsADay  minutesPerWeekEnglish  \\\n",
       "0                    1.0             0.0                  240.0   \n",
       "1                    1.0             0.0                  255.0   \n",
       "2                    1.0             0.0                    NaN   \n",
       "3                    1.0             0.0                  160.0   \n",
       "4                    1.0             0.0                  240.0   \n",
       "\n",
       "   studentsInEnglish  schoolHasLibrary  publicSchool  urban  schoolSize  \\\n",
       "0               30.0               1.0             1      0       808.0   \n",
       "1                NaN               1.0             1      0       808.0   \n",
       "2               30.0               1.0             1      0       808.0   \n",
       "3               30.0               NaN             1      0       808.0   \n",
       "4               30.0               1.0             1      0       808.0   \n",
       "\n",
       "   readingScore  \n",
       "0        355.24  \n",
       "1        385.57  \n",
       "2        522.62  \n",
       "3        406.24  \n",
       "4        453.50  \n",
       "\n",
       "[5 rows x 24 columns]"
      ]
     },
     "execution_count": 7,
     "metadata": {},
     "output_type": "execute_result"
    }
   ],
   "source": [
    "df2.head()"
   ]
  },
  {
   "cell_type": "code",
   "execution_count": 8,
   "metadata": {},
   "outputs": [
    {
     "name": "stdout",
     "output_type": "stream",
     "text": [
      "<class 'pandas.core.frame.DataFrame'>\n",
      "RangeIndex: 3663 entries, 0 to 3662\n",
      "Data columns (total 24 columns):\n",
      "grade                    3663 non-null int64\n",
      "male                     3663 non-null int64\n",
      "raceeth                  3628 non-null object\n",
      "preschool                3607 non-null float64\n",
      "expectBachelors          3601 non-null float64\n",
      "motherHS                 3566 non-null float64\n",
      "motherBachelors          3266 non-null float64\n",
      "motherWork               3570 non-null float64\n",
      "fatherHS                 3418 non-null float64\n",
      "fatherBachelors          3094 non-null float64\n",
      "fatherWork               3430 non-null float64\n",
      "selfBornUS               3594 non-null float64\n",
      "motherBornUS             3592 non-null float64\n",
      "fatherBornUS             3550 non-null float64\n",
      "englishAtHome            3592 non-null float64\n",
      "computerForSchoolwork    3598 non-null float64\n",
      "read30MinsADay           3629 non-null float64\n",
      "minutesPerWeekEnglish    3477 non-null float64\n",
      "studentsInEnglish        3414 non-null float64\n",
      "schoolHasLibrary         3520 non-null float64\n",
      "publicSchool             3663 non-null int64\n",
      "urban                    3663 non-null int64\n",
      "schoolSize               3501 non-null float64\n",
      "readingScore             3663 non-null float64\n",
      "dtypes: float64(19), int64(4), object(1)\n",
      "memory usage: 686.9+ KB\n"
     ]
    }
   ],
   "source": [
    "df1.info()"
   ]
  },
  {
   "cell_type": "markdown",
   "metadata": {},
   "source": [
    "Ques1. Load the training and testing sets using the read_csv() function, and save them as dataframes with the names pisaTrain and pisaTest. \n",
    "How many students are there in the training set?\n",
    "\n",
    "Ans. Total Number of students in the training set are 3663."
   ]
  },
  {
   "cell_type": "markdown",
   "metadata": {},
   "source": [
    "Ques2. Using Group by on pisaTrain, what is the average reading test score of males?\n",
    "Of Females?\n"
   ]
  },
  {
   "cell_type": "markdown",
   "metadata": {},
   "source": [
    "Ans. First Count the No. Males and Females"
   ]
  },
  {
   "cell_type": "code",
   "execution_count": 9,
   "metadata": {},
   "outputs": [
    {
     "data": {
      "text/plain": [
       "1    1872\n",
       "0    1791\n",
       "Name: male, dtype: int64"
      ]
     },
     "execution_count": 9,
     "metadata": {},
     "output_type": "execute_result"
    }
   ],
   "source": [
    "df1['male'].value_counts()"
   ]
  },
  {
   "cell_type": "markdown",
   "metadata": {},
   "source": [
    "The Number of Males are 1872 while Number of Females are 1791"
   ]
  },
  {
   "cell_type": "code",
   "execution_count": 10,
   "metadata": {},
   "outputs": [
    {
     "data": {
      "text/html": [
       "<div>\n",
       "<style scoped>\n",
       "    .dataframe tbody tr th:only-of-type {\n",
       "        vertical-align: middle;\n",
       "    }\n",
       "\n",
       "    .dataframe tbody tr th {\n",
       "        vertical-align: top;\n",
       "    }\n",
       "\n",
       "    .dataframe thead th {\n",
       "        text-align: right;\n",
       "    }\n",
       "</style>\n",
       "<table border=\"1\" class=\"dataframe\">\n",
       "  <thead>\n",
       "    <tr style=\"text-align: right;\">\n",
       "      <th></th>\n",
       "      <th>mean</th>\n",
       "    </tr>\n",
       "    <tr>\n",
       "      <th>male</th>\n",
       "      <th></th>\n",
       "    </tr>\n",
       "  </thead>\n",
       "  <tbody>\n",
       "    <tr>\n",
       "      <th>0</th>\n",
       "      <td>512.940631</td>\n",
       "    </tr>\n",
       "    <tr>\n",
       "      <th>1</th>\n",
       "      <td>483.532479</td>\n",
       "    </tr>\n",
       "  </tbody>\n",
       "</table>\n",
       "</div>"
      ],
      "text/plain": [
       "            mean\n",
       "male            \n",
       "0     512.940631\n",
       "1     483.532479"
      ]
     },
     "execution_count": 10,
     "metadata": {},
     "output_type": "execute_result"
    }
   ],
   "source": [
    "df1.groupby('male')['readingScore'].agg([np.mean])"
   ]
  },
  {
   "cell_type": "markdown",
   "metadata": {},
   "source": [
    "Average reading test score of males is 483.53 while Average reading test score of Female is 512.94"
   ]
  },
  {
   "cell_type": "markdown",
   "metadata": {},
   "source": [
    "Ques3. Which variables have missing data in at least one observation in the training set? "
   ]
  },
  {
   "cell_type": "code",
   "execution_count": 11,
   "metadata": {},
   "outputs": [
    {
     "data": {
      "text/plain": [
       "grade                      0\n",
       "male                       0\n",
       "raceeth                   35\n",
       "preschool                 56\n",
       "expectBachelors           62\n",
       "motherHS                  97\n",
       "motherBachelors          397\n",
       "motherWork                93\n",
       "fatherHS                 245\n",
       "fatherBachelors          569\n",
       "fatherWork               233\n",
       "selfBornUS                69\n",
       "motherBornUS              71\n",
       "fatherBornUS             113\n",
       "englishAtHome             71\n",
       "computerForSchoolwork     65\n",
       "read30MinsADay            34\n",
       "minutesPerWeekEnglish    186\n",
       "studentsInEnglish        249\n",
       "schoolHasLibrary         143\n",
       "publicSchool               0\n",
       "urban                      0\n",
       "schoolSize               162\n",
       "readingScore               0\n",
       "dtype: int64"
      ]
     },
     "execution_count": 11,
     "metadata": {},
     "output_type": "execute_result"
    }
   ],
   "source": [
    "df1.isnull().sum()"
   ]
  },
  {
   "cell_type": "markdown",
   "metadata": {},
   "source": [
    "Ans. The coulmns with missing value in the traing set are raceteeth, preschool, expectBachelors,motherHS, motherBachelors, motherWork,fatherHS, fatherBachelors, fatherWork, selfBornUS, motherBornUS, englishAtHome, computerForSchoolWork, read30MinsADay, minutesPerWeekEnglish,studentsInEnglish,schoolHasLibrary & schoolSize.        "
   ]
  },
  {
   "cell_type": "markdown",
   "metadata": {},
   "source": [
    "Ques 4. Linear regression discards observations with missing data, so we will remove all such observations from the training and testing sets. Ideally we should be filling the missing values with plausible information, but for now, lets remove them and move ahead. How many observations are now in the training set? How many observations are now in the testing set?"
   ]
  },
  {
   "cell_type": "code",
   "execution_count": 12,
   "metadata": {},
   "outputs": [],
   "source": [
    "df1 = df1.dropna(axis=0)"
   ]
  },
  {
   "cell_type": "code",
   "execution_count": 13,
   "metadata": {},
   "outputs": [
    {
     "data": {
      "text/html": [
       "<div>\n",
       "<style scoped>\n",
       "    .dataframe tbody tr th:only-of-type {\n",
       "        vertical-align: middle;\n",
       "    }\n",
       "\n",
       "    .dataframe tbody tr th {\n",
       "        vertical-align: top;\n",
       "    }\n",
       "\n",
       "    .dataframe thead th {\n",
       "        text-align: right;\n",
       "    }\n",
       "</style>\n",
       "<table border=\"1\" class=\"dataframe\">\n",
       "  <thead>\n",
       "    <tr style=\"text-align: right;\">\n",
       "      <th></th>\n",
       "      <th>grade</th>\n",
       "      <th>male</th>\n",
       "      <th>raceeth</th>\n",
       "      <th>preschool</th>\n",
       "      <th>expectBachelors</th>\n",
       "      <th>motherHS</th>\n",
       "      <th>motherBachelors</th>\n",
       "      <th>motherWork</th>\n",
       "      <th>fatherHS</th>\n",
       "      <th>fatherBachelors</th>\n",
       "      <th>...</th>\n",
       "      <th>englishAtHome</th>\n",
       "      <th>computerForSchoolwork</th>\n",
       "      <th>read30MinsADay</th>\n",
       "      <th>minutesPerWeekEnglish</th>\n",
       "      <th>studentsInEnglish</th>\n",
       "      <th>schoolHasLibrary</th>\n",
       "      <th>publicSchool</th>\n",
       "      <th>urban</th>\n",
       "      <th>schoolSize</th>\n",
       "      <th>readingScore</th>\n",
       "    </tr>\n",
       "  </thead>\n",
       "  <tbody>\n",
       "    <tr>\n",
       "      <th>0</th>\n",
       "      <td>10</td>\n",
       "      <td>0</td>\n",
       "      <td>White</td>\n",
       "      <td>1.0</td>\n",
       "      <td>0.0</td>\n",
       "      <td>1.0</td>\n",
       "      <td>1.0</td>\n",
       "      <td>1.0</td>\n",
       "      <td>1.0</td>\n",
       "      <td>0.0</td>\n",
       "      <td>...</td>\n",
       "      <td>1.0</td>\n",
       "      <td>1.0</td>\n",
       "      <td>0.0</td>\n",
       "      <td>240.0</td>\n",
       "      <td>30.0</td>\n",
       "      <td>1.0</td>\n",
       "      <td>1</td>\n",
       "      <td>0</td>\n",
       "      <td>808.0</td>\n",
       "      <td>355.24</td>\n",
       "    </tr>\n",
       "    <tr>\n",
       "      <th>1</th>\n",
       "      <td>10</td>\n",
       "      <td>1</td>\n",
       "      <td>White</td>\n",
       "      <td>0.0</td>\n",
       "      <td>0.0</td>\n",
       "      <td>1.0</td>\n",
       "      <td>0.0</td>\n",
       "      <td>1.0</td>\n",
       "      <td>1.0</td>\n",
       "      <td>0.0</td>\n",
       "      <td>...</td>\n",
       "      <td>1.0</td>\n",
       "      <td>1.0</td>\n",
       "      <td>0.0</td>\n",
       "      <td>255.0</td>\n",
       "      <td>NaN</td>\n",
       "      <td>1.0</td>\n",
       "      <td>1</td>\n",
       "      <td>0</td>\n",
       "      <td>808.0</td>\n",
       "      <td>385.57</td>\n",
       "    </tr>\n",
       "    <tr>\n",
       "      <th>2</th>\n",
       "      <td>10</td>\n",
       "      <td>0</td>\n",
       "      <td>White</td>\n",
       "      <td>1.0</td>\n",
       "      <td>0.0</td>\n",
       "      <td>1.0</td>\n",
       "      <td>0.0</td>\n",
       "      <td>1.0</td>\n",
       "      <td>1.0</td>\n",
       "      <td>0.0</td>\n",
       "      <td>...</td>\n",
       "      <td>1.0</td>\n",
       "      <td>1.0</td>\n",
       "      <td>0.0</td>\n",
       "      <td>NaN</td>\n",
       "      <td>30.0</td>\n",
       "      <td>1.0</td>\n",
       "      <td>1</td>\n",
       "      <td>0</td>\n",
       "      <td>808.0</td>\n",
       "      <td>522.62</td>\n",
       "    </tr>\n",
       "    <tr>\n",
       "      <th>3</th>\n",
       "      <td>10</td>\n",
       "      <td>0</td>\n",
       "      <td>White</td>\n",
       "      <td>1.0</td>\n",
       "      <td>0.0</td>\n",
       "      <td>1.0</td>\n",
       "      <td>1.0</td>\n",
       "      <td>1.0</td>\n",
       "      <td>1.0</td>\n",
       "      <td>0.0</td>\n",
       "      <td>...</td>\n",
       "      <td>1.0</td>\n",
       "      <td>1.0</td>\n",
       "      <td>0.0</td>\n",
       "      <td>160.0</td>\n",
       "      <td>30.0</td>\n",
       "      <td>NaN</td>\n",
       "      <td>1</td>\n",
       "      <td>0</td>\n",
       "      <td>808.0</td>\n",
       "      <td>406.24</td>\n",
       "    </tr>\n",
       "    <tr>\n",
       "      <th>4</th>\n",
       "      <td>10</td>\n",
       "      <td>0</td>\n",
       "      <td>White</td>\n",
       "      <td>1.0</td>\n",
       "      <td>1.0</td>\n",
       "      <td>1.0</td>\n",
       "      <td>0.0</td>\n",
       "      <td>0.0</td>\n",
       "      <td>1.0</td>\n",
       "      <td>1.0</td>\n",
       "      <td>...</td>\n",
       "      <td>1.0</td>\n",
       "      <td>1.0</td>\n",
       "      <td>0.0</td>\n",
       "      <td>240.0</td>\n",
       "      <td>30.0</td>\n",
       "      <td>1.0</td>\n",
       "      <td>1</td>\n",
       "      <td>0</td>\n",
       "      <td>808.0</td>\n",
       "      <td>453.50</td>\n",
       "    </tr>\n",
       "  </tbody>\n",
       "</table>\n",
       "<p>5 rows × 24 columns</p>\n",
       "</div>"
      ],
      "text/plain": [
       "   grade  male raceeth  preschool  expectBachelors  motherHS  motherBachelors  \\\n",
       "0     10     0   White        1.0              0.0       1.0              1.0   \n",
       "1     10     1   White        0.0              0.0       1.0              0.0   \n",
       "2     10     0   White        1.0              0.0       1.0              0.0   \n",
       "3     10     0   White        1.0              0.0       1.0              1.0   \n",
       "4     10     0   White        1.0              1.0       1.0              0.0   \n",
       "\n",
       "   motherWork  fatherHS  fatherBachelors      ...       englishAtHome  \\\n",
       "0         1.0       1.0              0.0      ...                 1.0   \n",
       "1         1.0       1.0              0.0      ...                 1.0   \n",
       "2         1.0       1.0              0.0      ...                 1.0   \n",
       "3         1.0       1.0              0.0      ...                 1.0   \n",
       "4         0.0       1.0              1.0      ...                 1.0   \n",
       "\n",
       "   computerForSchoolwork  read30MinsADay  minutesPerWeekEnglish  \\\n",
       "0                    1.0             0.0                  240.0   \n",
       "1                    1.0             0.0                  255.0   \n",
       "2                    1.0             0.0                    NaN   \n",
       "3                    1.0             0.0                  160.0   \n",
       "4                    1.0             0.0                  240.0   \n",
       "\n",
       "   studentsInEnglish  schoolHasLibrary  publicSchool  urban  schoolSize  \\\n",
       "0               30.0               1.0             1      0       808.0   \n",
       "1                NaN               1.0             1      0       808.0   \n",
       "2               30.0               1.0             1      0       808.0   \n",
       "3               30.0               NaN             1      0       808.0   \n",
       "4               30.0               1.0             1      0       808.0   \n",
       "\n",
       "   readingScore  \n",
       "0        355.24  \n",
       "1        385.57  \n",
       "2        522.62  \n",
       "3        406.24  \n",
       "4        453.50  \n",
       "\n",
       "[5 rows x 24 columns]"
      ]
     },
     "execution_count": 13,
     "metadata": {},
     "output_type": "execute_result"
    }
   ],
   "source": [
    "df2.head()"
   ]
  },
  {
   "cell_type": "code",
   "execution_count": 14,
   "metadata": {},
   "outputs": [],
   "source": [
    "df2 = df2.dropna(axis=0)"
   ]
  },
  {
   "cell_type": "code",
   "execution_count": 15,
   "metadata": {},
   "outputs": [
    {
     "name": "stdout",
     "output_type": "stream",
     "text": [
      "<class 'pandas.core.frame.DataFrame'>\n",
      "Int64Index: 2414 entries, 1 to 3662\n",
      "Data columns (total 24 columns):\n",
      "grade                    2414 non-null int64\n",
      "male                     2414 non-null int64\n",
      "raceeth                  2414 non-null object\n",
      "preschool                2414 non-null float64\n",
      "expectBachelors          2414 non-null float64\n",
      "motherHS                 2414 non-null float64\n",
      "motherBachelors          2414 non-null float64\n",
      "motherWork               2414 non-null float64\n",
      "fatherHS                 2414 non-null float64\n",
      "fatherBachelors          2414 non-null float64\n",
      "fatherWork               2414 non-null float64\n",
      "selfBornUS               2414 non-null float64\n",
      "motherBornUS             2414 non-null float64\n",
      "fatherBornUS             2414 non-null float64\n",
      "englishAtHome            2414 non-null float64\n",
      "computerForSchoolwork    2414 non-null float64\n",
      "read30MinsADay           2414 non-null float64\n",
      "minutesPerWeekEnglish    2414 non-null float64\n",
      "studentsInEnglish        2414 non-null float64\n",
      "schoolHasLibrary         2414 non-null float64\n",
      "publicSchool             2414 non-null int64\n",
      "urban                    2414 non-null int64\n",
      "schoolSize               2414 non-null float64\n",
      "readingScore             2414 non-null float64\n",
      "dtypes: float64(19), int64(4), object(1)\n",
      "memory usage: 471.5+ KB\n"
     ]
    }
   ],
   "source": [
    "df1.info()"
   ]
  },
  {
   "cell_type": "code",
   "execution_count": 16,
   "metadata": {},
   "outputs": [
    {
     "name": "stdout",
     "output_type": "stream",
     "text": [
      "<class 'pandas.core.frame.DataFrame'>\n",
      "Int64Index: 990 entries, 0 to 1569\n",
      "Data columns (total 24 columns):\n",
      "grade                    990 non-null int64\n",
      "male                     990 non-null int64\n",
      "raceeth                  990 non-null object\n",
      "preschool                990 non-null float64\n",
      "expectBachelors          990 non-null float64\n",
      "motherHS                 990 non-null float64\n",
      "motherBachelors          990 non-null float64\n",
      "motherWork               990 non-null float64\n",
      "fatherHS                 990 non-null float64\n",
      "fatherBachelors          990 non-null float64\n",
      "fatherWork               990 non-null float64\n",
      "selfBornUS               990 non-null float64\n",
      "motherBornUS             990 non-null float64\n",
      "fatherBornUS             990 non-null float64\n",
      "englishAtHome            990 non-null float64\n",
      "computerForSchoolwork    990 non-null float64\n",
      "read30MinsADay           990 non-null float64\n",
      "minutesPerWeekEnglish    990 non-null float64\n",
      "studentsInEnglish        990 non-null float64\n",
      "schoolHasLibrary         990 non-null float64\n",
      "publicSchool             990 non-null int64\n",
      "urban                    990 non-null int64\n",
      "schoolSize               990 non-null float64\n",
      "readingScore             990 non-null float64\n",
      "dtypes: float64(19), int64(4), object(1)\n",
      "memory usage: 193.4+ KB\n"
     ]
    }
   ],
   "source": [
    "df2.info()"
   ]
  },
  {
   "cell_type": "markdown",
   "metadata": {},
   "source": [
    "Ans. The Number of observations in the training set are 2414 and The Number of observations in testing set are 990\n"
   ]
  },
  {
   "cell_type": "markdown",
   "metadata": {},
   "source": [
    "Ques5.\tWhich of the following variables is an unordered factor/categorical variable with at least 3 levels? "
   ]
  },
  {
   "cell_type": "code",
   "execution_count": 17,
   "metadata": {},
   "outputs": [
    {
     "data": {
      "text/plain": [
       "White                                     1470\n",
       "Hispanic                                   500\n",
       "Black                                      228\n",
       "Asian                                       95\n",
       "More than one race                          81\n",
       "American Indian/Alaska Native               20\n",
       "Native Hawaiian/Other Pacific Islander      20\n",
       "Name: raceeth, dtype: int64"
      ]
     },
     "execution_count": 17,
     "metadata": {},
     "output_type": "execute_result"
    }
   ],
   "source": [
    "df1['raceeth'].value_counts()"
   ]
  },
  {
   "cell_type": "code",
   "execution_count": 18,
   "metadata": {},
   "outputs": [
    {
     "data": {
      "text/plain": [
       "White                                     613\n",
       "Hispanic                                  201\n",
       "Black                                      79\n",
       "Asian                                      45\n",
       "More than one race                         35\n",
       "American Indian/Alaska Native              11\n",
       "Native Hawaiian/Other Pacific Islander      6\n",
       "Name: raceeth, dtype: int64"
      ]
     },
     "execution_count": 18,
     "metadata": {},
     "output_type": "execute_result"
    }
   ],
   "source": [
    "df2['raceeth'].value_counts()"
   ]
  },
  {
   "cell_type": "markdown",
   "metadata": {},
   "source": [
    "Ans. Raceeth is the variable which is an unodered factor/categorical variable with at least 3 levels. "
   ]
  },
  {
   "cell_type": "markdown",
   "metadata": {},
   "source": [
    "Ques6. If we select White as the reference level, which binary variables will be included in the regression model? (Select all that apply.)"
   ]
  },
  {
   "cell_type": "markdown",
   "metadata": {},
   "source": [
    "Ans. Acc. to the condition if we select White as the reference level, we will include Hispanic, Black, Asian, More than one race, American Indian/Alaska Native, Native Hawaiin/Other Pacific Islander. "
   ]
  },
  {
   "cell_type": "markdown",
   "metadata": {},
   "source": [
    "Ques7. Consider again adding our unordered Category race to the regression model with reference level \"White\". \n",
    "\n",
    "For a student who is Asian, which binary variables would be set to 0? All remaining variables will be set to 1. \n"
   ]
  },
  {
   "cell_type": "markdown",
   "metadata": {},
   "source": [
    "Ans. For a student who is Asian, the binary variable which will be set to 0 are Hispanic, Black, More Than one race, American Indian/Alaska Native, Native Hawaiian/Other Pacific Islander. "
   ]
  },
  {
   "cell_type": "markdown",
   "metadata": {},
   "source": [
    "Ques8. For a student who is white, which binary variables would be set to 0? All remaining variables will be set to 1."
   ]
  },
  {
   "cell_type": "markdown",
   "metadata": {},
   "source": [
    "For a student who is white, the binary variables that would be set to 0 are Hispanic, Black, Asian, More than one race, American Indian/Alska Native, Native Hawaiian/Other Pacific Islander. "
   ]
  },
  {
   "cell_type": "markdown",
   "metadata": {},
   "source": [
    "Ques9. Because the race variable takes on text values, we will have to create Dummy Variables before we run Modeling on the data. \n",
    "\n",
    "Build a linear regression model (call it lmScore) using the training set to predict readingScore using all the remaining variables. (Including the dummies). Remember to omit one of the dummy variable ( the omitted dummy will be the reference) \n",
    "\n",
    "What is the Multiple R-squared value of lmScore on the training set?\n"
   ]
  },
  {
   "cell_type": "code",
   "execution_count": 19,
   "metadata": {},
   "outputs": [
    {
     "data": {
      "text/html": [
       "<div>\n",
       "<style scoped>\n",
       "    .dataframe tbody tr th:only-of-type {\n",
       "        vertical-align: middle;\n",
       "    }\n",
       "\n",
       "    .dataframe tbody tr th {\n",
       "        vertical-align: top;\n",
       "    }\n",
       "\n",
       "    .dataframe thead th {\n",
       "        text-align: right;\n",
       "    }\n",
       "</style>\n",
       "<table border=\"1\" class=\"dataframe\">\n",
       "  <thead>\n",
       "    <tr style=\"text-align: right;\">\n",
       "      <th></th>\n",
       "      <th>grade</th>\n",
       "      <th>male</th>\n",
       "      <th>preschool</th>\n",
       "      <th>expectBachelors</th>\n",
       "      <th>motherHS</th>\n",
       "      <th>motherBachelors</th>\n",
       "      <th>motherWork</th>\n",
       "      <th>fatherHS</th>\n",
       "      <th>fatherBachelors</th>\n",
       "      <th>fatherWork</th>\n",
       "      <th>...</th>\n",
       "      <th>publicSchool</th>\n",
       "      <th>urban</th>\n",
       "      <th>schoolSize</th>\n",
       "      <th>readingScore</th>\n",
       "      <th>raceeth_Asian</th>\n",
       "      <th>raceeth_Black</th>\n",
       "      <th>raceeth_Hispanic</th>\n",
       "      <th>raceeth_More than one race</th>\n",
       "      <th>raceeth_Native Hawaiian/Other Pacific Islander</th>\n",
       "      <th>raceeth_White</th>\n",
       "    </tr>\n",
       "  </thead>\n",
       "  <tbody>\n",
       "    <tr>\n",
       "      <th>1</th>\n",
       "      <td>11</td>\n",
       "      <td>1</td>\n",
       "      <td>0.0</td>\n",
       "      <td>0.0</td>\n",
       "      <td>1.0</td>\n",
       "      <td>1.0</td>\n",
       "      <td>1.0</td>\n",
       "      <td>1.0</td>\n",
       "      <td>0.0</td>\n",
       "      <td>1.0</td>\n",
       "      <td>...</td>\n",
       "      <td>1</td>\n",
       "      <td>0</td>\n",
       "      <td>1173.0</td>\n",
       "      <td>575.01</td>\n",
       "      <td>0</td>\n",
       "      <td>0</td>\n",
       "      <td>0</td>\n",
       "      <td>0</td>\n",
       "      <td>0</td>\n",
       "      <td>1</td>\n",
       "    </tr>\n",
       "    <tr>\n",
       "      <th>3</th>\n",
       "      <td>10</td>\n",
       "      <td>0</td>\n",
       "      <td>1.0</td>\n",
       "      <td>1.0</td>\n",
       "      <td>0.0</td>\n",
       "      <td>0.0</td>\n",
       "      <td>1.0</td>\n",
       "      <td>1.0</td>\n",
       "      <td>0.0</td>\n",
       "      <td>1.0</td>\n",
       "      <td>...</td>\n",
       "      <td>1</td>\n",
       "      <td>1</td>\n",
       "      <td>2640.0</td>\n",
       "      <td>458.11</td>\n",
       "      <td>0</td>\n",
       "      <td>1</td>\n",
       "      <td>0</td>\n",
       "      <td>0</td>\n",
       "      <td>0</td>\n",
       "      <td>0</td>\n",
       "    </tr>\n",
       "    <tr>\n",
       "      <th>4</th>\n",
       "      <td>10</td>\n",
       "      <td>1</td>\n",
       "      <td>1.0</td>\n",
       "      <td>0.0</td>\n",
       "      <td>1.0</td>\n",
       "      <td>0.0</td>\n",
       "      <td>1.0</td>\n",
       "      <td>1.0</td>\n",
       "      <td>0.0</td>\n",
       "      <td>0.0</td>\n",
       "      <td>...</td>\n",
       "      <td>1</td>\n",
       "      <td>1</td>\n",
       "      <td>1095.0</td>\n",
       "      <td>613.89</td>\n",
       "      <td>0</td>\n",
       "      <td>0</td>\n",
       "      <td>1</td>\n",
       "      <td>0</td>\n",
       "      <td>0</td>\n",
       "      <td>0</td>\n",
       "    </tr>\n",
       "    <tr>\n",
       "      <th>7</th>\n",
       "      <td>10</td>\n",
       "      <td>0</td>\n",
       "      <td>1.0</td>\n",
       "      <td>1.0</td>\n",
       "      <td>1.0</td>\n",
       "      <td>0.0</td>\n",
       "      <td>0.0</td>\n",
       "      <td>1.0</td>\n",
       "      <td>0.0</td>\n",
       "      <td>1.0</td>\n",
       "      <td>...</td>\n",
       "      <td>1</td>\n",
       "      <td>0</td>\n",
       "      <td>1913.0</td>\n",
       "      <td>439.36</td>\n",
       "      <td>0</td>\n",
       "      <td>0</td>\n",
       "      <td>0</td>\n",
       "      <td>0</td>\n",
       "      <td>0</td>\n",
       "      <td>1</td>\n",
       "    </tr>\n",
       "    <tr>\n",
       "      <th>9</th>\n",
       "      <td>10</td>\n",
       "      <td>1</td>\n",
       "      <td>1.0</td>\n",
       "      <td>1.0</td>\n",
       "      <td>1.0</td>\n",
       "      <td>1.0</td>\n",
       "      <td>1.0</td>\n",
       "      <td>0.0</td>\n",
       "      <td>0.0</td>\n",
       "      <td>1.0</td>\n",
       "      <td>...</td>\n",
       "      <td>1</td>\n",
       "      <td>0</td>\n",
       "      <td>899.0</td>\n",
       "      <td>465.90</td>\n",
       "      <td>0</td>\n",
       "      <td>0</td>\n",
       "      <td>0</td>\n",
       "      <td>1</td>\n",
       "      <td>0</td>\n",
       "      <td>0</td>\n",
       "    </tr>\n",
       "  </tbody>\n",
       "</table>\n",
       "<p>5 rows × 29 columns</p>\n",
       "</div>"
      ],
      "text/plain": [
       "   grade  male  preschool  expectBachelors  motherHS  motherBachelors  \\\n",
       "1     11     1        0.0              0.0       1.0              1.0   \n",
       "3     10     0        1.0              1.0       0.0              0.0   \n",
       "4     10     1        1.0              0.0       1.0              0.0   \n",
       "7     10     0        1.0              1.0       1.0              0.0   \n",
       "9     10     1        1.0              1.0       1.0              1.0   \n",
       "\n",
       "   motherWork  fatherHS  fatherBachelors  fatherWork      ...        \\\n",
       "1         1.0       1.0              0.0         1.0      ...         \n",
       "3         1.0       1.0              0.0         1.0      ...         \n",
       "4         1.0       1.0              0.0         0.0      ...         \n",
       "7         0.0       1.0              0.0         1.0      ...         \n",
       "9         1.0       0.0              0.0         1.0      ...         \n",
       "\n",
       "   publicSchool  urban  schoolSize  readingScore  raceeth_Asian  \\\n",
       "1             1      0      1173.0        575.01              0   \n",
       "3             1      1      2640.0        458.11              0   \n",
       "4             1      1      1095.0        613.89              0   \n",
       "7             1      0      1913.0        439.36              0   \n",
       "9             1      0       899.0        465.90              0   \n",
       "\n",
       "   raceeth_Black  raceeth_Hispanic  raceeth_More than one race  \\\n",
       "1              0                 0                           0   \n",
       "3              1                 0                           0   \n",
       "4              0                 1                           0   \n",
       "7              0                 0                           0   \n",
       "9              0                 0                           1   \n",
       "\n",
       "   raceeth_Native Hawaiian/Other Pacific Islander  raceeth_White  \n",
       "1                                               0              1  \n",
       "3                                               0              0  \n",
       "4                                               0              0  \n",
       "7                                               0              1  \n",
       "9                                               0              0  \n",
       "\n",
       "[5 rows x 29 columns]"
      ]
     },
     "execution_count": 19,
     "metadata": {},
     "output_type": "execute_result"
    }
   ],
   "source": [
    "df1 = pd.get_dummies(df1,drop_first=True)\n",
    "df1.head()"
   ]
  },
  {
   "cell_type": "code",
   "execution_count": 20,
   "metadata": {},
   "outputs": [],
   "source": [
    "df1 = df1.drop(['raceeth_White'], axis=1)"
   ]
  },
  {
   "cell_type": "code",
   "execution_count": 21,
   "metadata": {},
   "outputs": [
    {
     "data": {
      "text/html": [
       "<div>\n",
       "<style scoped>\n",
       "    .dataframe tbody tr th:only-of-type {\n",
       "        vertical-align: middle;\n",
       "    }\n",
       "\n",
       "    .dataframe tbody tr th {\n",
       "        vertical-align: top;\n",
       "    }\n",
       "\n",
       "    .dataframe thead th {\n",
       "        text-align: right;\n",
       "    }\n",
       "</style>\n",
       "<table border=\"1\" class=\"dataframe\">\n",
       "  <thead>\n",
       "    <tr style=\"text-align: right;\">\n",
       "      <th></th>\n",
       "      <th>grade</th>\n",
       "      <th>male</th>\n",
       "      <th>preschool</th>\n",
       "      <th>expectBachelors</th>\n",
       "      <th>motherHS</th>\n",
       "      <th>motherBachelors</th>\n",
       "      <th>motherWork</th>\n",
       "      <th>fatherHS</th>\n",
       "      <th>fatherBachelors</th>\n",
       "      <th>fatherWork</th>\n",
       "      <th>...</th>\n",
       "      <th>schoolHasLibrary</th>\n",
       "      <th>publicSchool</th>\n",
       "      <th>urban</th>\n",
       "      <th>schoolSize</th>\n",
       "      <th>readingScore</th>\n",
       "      <th>raceeth_Asian</th>\n",
       "      <th>raceeth_Black</th>\n",
       "      <th>raceeth_Hispanic</th>\n",
       "      <th>raceeth_More than one race</th>\n",
       "      <th>raceeth_Native Hawaiian/Other Pacific Islander</th>\n",
       "    </tr>\n",
       "  </thead>\n",
       "  <tbody>\n",
       "    <tr>\n",
       "      <th>1</th>\n",
       "      <td>11</td>\n",
       "      <td>1</td>\n",
       "      <td>0.0</td>\n",
       "      <td>0.0</td>\n",
       "      <td>1.0</td>\n",
       "      <td>1.0</td>\n",
       "      <td>1.0</td>\n",
       "      <td>1.0</td>\n",
       "      <td>0.0</td>\n",
       "      <td>1.0</td>\n",
       "      <td>...</td>\n",
       "      <td>1.0</td>\n",
       "      <td>1</td>\n",
       "      <td>0</td>\n",
       "      <td>1173.0</td>\n",
       "      <td>575.01</td>\n",
       "      <td>0</td>\n",
       "      <td>0</td>\n",
       "      <td>0</td>\n",
       "      <td>0</td>\n",
       "      <td>0</td>\n",
       "    </tr>\n",
       "    <tr>\n",
       "      <th>3</th>\n",
       "      <td>10</td>\n",
       "      <td>0</td>\n",
       "      <td>1.0</td>\n",
       "      <td>1.0</td>\n",
       "      <td>0.0</td>\n",
       "      <td>0.0</td>\n",
       "      <td>1.0</td>\n",
       "      <td>1.0</td>\n",
       "      <td>0.0</td>\n",
       "      <td>1.0</td>\n",
       "      <td>...</td>\n",
       "      <td>1.0</td>\n",
       "      <td>1</td>\n",
       "      <td>1</td>\n",
       "      <td>2640.0</td>\n",
       "      <td>458.11</td>\n",
       "      <td>0</td>\n",
       "      <td>1</td>\n",
       "      <td>0</td>\n",
       "      <td>0</td>\n",
       "      <td>0</td>\n",
       "    </tr>\n",
       "    <tr>\n",
       "      <th>4</th>\n",
       "      <td>10</td>\n",
       "      <td>1</td>\n",
       "      <td>1.0</td>\n",
       "      <td>0.0</td>\n",
       "      <td>1.0</td>\n",
       "      <td>0.0</td>\n",
       "      <td>1.0</td>\n",
       "      <td>1.0</td>\n",
       "      <td>0.0</td>\n",
       "      <td>0.0</td>\n",
       "      <td>...</td>\n",
       "      <td>1.0</td>\n",
       "      <td>1</td>\n",
       "      <td>1</td>\n",
       "      <td>1095.0</td>\n",
       "      <td>613.89</td>\n",
       "      <td>0</td>\n",
       "      <td>0</td>\n",
       "      <td>1</td>\n",
       "      <td>0</td>\n",
       "      <td>0</td>\n",
       "    </tr>\n",
       "    <tr>\n",
       "      <th>7</th>\n",
       "      <td>10</td>\n",
       "      <td>0</td>\n",
       "      <td>1.0</td>\n",
       "      <td>1.0</td>\n",
       "      <td>1.0</td>\n",
       "      <td>0.0</td>\n",
       "      <td>0.0</td>\n",
       "      <td>1.0</td>\n",
       "      <td>0.0</td>\n",
       "      <td>1.0</td>\n",
       "      <td>...</td>\n",
       "      <td>1.0</td>\n",
       "      <td>1</td>\n",
       "      <td>0</td>\n",
       "      <td>1913.0</td>\n",
       "      <td>439.36</td>\n",
       "      <td>0</td>\n",
       "      <td>0</td>\n",
       "      <td>0</td>\n",
       "      <td>0</td>\n",
       "      <td>0</td>\n",
       "    </tr>\n",
       "    <tr>\n",
       "      <th>9</th>\n",
       "      <td>10</td>\n",
       "      <td>1</td>\n",
       "      <td>1.0</td>\n",
       "      <td>1.0</td>\n",
       "      <td>1.0</td>\n",
       "      <td>1.0</td>\n",
       "      <td>1.0</td>\n",
       "      <td>0.0</td>\n",
       "      <td>0.0</td>\n",
       "      <td>1.0</td>\n",
       "      <td>...</td>\n",
       "      <td>1.0</td>\n",
       "      <td>1</td>\n",
       "      <td>0</td>\n",
       "      <td>899.0</td>\n",
       "      <td>465.90</td>\n",
       "      <td>0</td>\n",
       "      <td>0</td>\n",
       "      <td>0</td>\n",
       "      <td>1</td>\n",
       "      <td>0</td>\n",
       "    </tr>\n",
       "  </tbody>\n",
       "</table>\n",
       "<p>5 rows × 28 columns</p>\n",
       "</div>"
      ],
      "text/plain": [
       "   grade  male  preschool  expectBachelors  motherHS  motherBachelors  \\\n",
       "1     11     1        0.0              0.0       1.0              1.0   \n",
       "3     10     0        1.0              1.0       0.0              0.0   \n",
       "4     10     1        1.0              0.0       1.0              0.0   \n",
       "7     10     0        1.0              1.0       1.0              0.0   \n",
       "9     10     1        1.0              1.0       1.0              1.0   \n",
       "\n",
       "   motherWork  fatherHS  fatherBachelors  fatherWork  \\\n",
       "1         1.0       1.0              0.0         1.0   \n",
       "3         1.0       1.0              0.0         1.0   \n",
       "4         1.0       1.0              0.0         0.0   \n",
       "7         0.0       1.0              0.0         1.0   \n",
       "9         1.0       0.0              0.0         1.0   \n",
       "\n",
       "                        ...                        schoolHasLibrary  \\\n",
       "1                       ...                                     1.0   \n",
       "3                       ...                                     1.0   \n",
       "4                       ...                                     1.0   \n",
       "7                       ...                                     1.0   \n",
       "9                       ...                                     1.0   \n",
       "\n",
       "   publicSchool  urban  schoolSize  readingScore  raceeth_Asian  \\\n",
       "1             1      0      1173.0        575.01              0   \n",
       "3             1      1      2640.0        458.11              0   \n",
       "4             1      1      1095.0        613.89              0   \n",
       "7             1      0      1913.0        439.36              0   \n",
       "9             1      0       899.0        465.90              0   \n",
       "\n",
       "   raceeth_Black  raceeth_Hispanic  raceeth_More than one race  \\\n",
       "1              0                 0                           0   \n",
       "3              1                 0                           0   \n",
       "4              0                 1                           0   \n",
       "7              0                 0                           0   \n",
       "9              0                 0                           1   \n",
       "\n",
       "   raceeth_Native Hawaiian/Other Pacific Islander  \n",
       "1                                               0  \n",
       "3                                               0  \n",
       "4                                               0  \n",
       "7                                               0  \n",
       "9                                               0  \n",
       "\n",
       "[5 rows x 28 columns]"
      ]
     },
     "execution_count": 21,
     "metadata": {},
     "output_type": "execute_result"
    }
   ],
   "source": [
    "df1.head()"
   ]
  },
  {
   "cell_type": "code",
   "execution_count": 22,
   "metadata": {},
   "outputs": [],
   "source": [
    "from sklearn.linear_model import LinearRegression"
   ]
  },
  {
   "cell_type": "code",
   "execution_count": 23,
   "metadata": {},
   "outputs": [
    {
     "data": {
      "text/plain": [
       "LinearRegression(copy_X=True, fit_intercept=True, n_jobs=None,\n",
       "         normalize=False)"
      ]
     },
     "execution_count": 23,
     "metadata": {},
     "output_type": "execute_result"
    }
   ],
   "source": [
    "lmScore=LinearRegression()\n",
    "lmScore.fit(df1.iloc[:,[0,1,2,3,5,6,7,8,9,10,11,12,13,14,15,16,17,18,19,20,21,23,24,25,26,27]],df1['readingScore'])"
   ]
  },
  {
   "cell_type": "code",
   "execution_count": 24,
   "metadata": {},
   "outputs": [
    {
     "data": {
      "text/plain": [
       "141.8838859613142"
      ]
     },
     "execution_count": 24,
     "metadata": {},
     "output_type": "execute_result"
    }
   ],
   "source": [
    "lmScore.intercept_"
   ]
  },
  {
   "cell_type": "code",
   "execution_count": 25,
   "metadata": {},
   "outputs": [
    {
     "data": {
      "text/plain": [
       "array([ 2.95775015e+01, -1.48059544e+01, -4.42852098e+00,  5.54138008e+01,\n",
       "        1.30911485e+01, -2.44033758e+00,  6.58506638e+00,  1.72113365e+01,\n",
       "        5.76467329e+00, -4.38745087e+00, -8.26754712e+00,  4.21836521e+00,\n",
       "        9.27649884e+00,  2.49986142e+01,  3.44407746e+01,  1.24756805e-02,\n",
       "       -2.57063241e-01,  1.24532903e+01, -1.79175284e+01, -5.35500471e-01,\n",
       "        6.88673799e-03, -3.44356841e+00, -6.56206658e+01, -3.79858170e+01,\n",
       "       -1.57138989e+01, -4.59313444e+00])"
      ]
     },
     "execution_count": 25,
     "metadata": {},
     "output_type": "execute_result"
    }
   ],
   "source": [
    "lmScore.coef_"
   ]
  },
  {
   "cell_type": "code",
   "execution_count": 26,
   "metadata": {},
   "outputs": [],
   "source": [
    "df1['PredictScore']=lmScore.predict(df1.iloc[:,[0,1,2,3,5,6,7,8,9,10,11,12,13,14,15,16,17,18,19,20,21,23,24,25,26,27]])"
   ]
  },
  {
   "cell_type": "code",
   "execution_count": 27,
   "metadata": {},
   "outputs": [],
   "source": [
    "TSS = sum((df1['readingScore']-np.mean(df1['readingScore']))**2)\n",
    "SSE = sum((df1['readingScore']-df1['PredictScore'])**2)"
   ]
  },
  {
   "cell_type": "code",
   "execution_count": 29,
   "metadata": {},
   "outputs": [
    {
     "name": "stdout",
     "output_type": "stream",
     "text": [
      "0.3203690464849498\n"
     ]
    }
   ],
   "source": [
    "R2= 1-(SSE/TSS)\n",
    "print(R2)"
   ]
  },
  {
   "cell_type": "markdown",
   "metadata": {},
   "source": [
    "Ans. R2 Value of lmScore on the training Set is 0.32"
   ]
  },
  {
   "cell_type": "markdown",
   "metadata": {},
   "source": [
    "Ques10. What is the training-set root-mean squared error (RMSE) of lmScore?"
   ]
  },
  {
   "cell_type": "code",
   "execution_count": null,
   "metadata": {},
   "outputs": [],
   "source": [
    "n = len(df1['PredictScore'])\n",
    "rmse = np.linalg.norm( df1['PredictScore']- df1['readingScore']) / np.sqrt(n)\n",
    "rmse\n"
   ]
  },
  {
   "cell_type": "markdown",
   "metadata": {},
   "source": [
    "Ques11.\tConsider two students A and B. They have all variable values the same, except that student A is in grade 11 and student B is in grade 9. What is the predicted reading score of student A minus the predicted reading score of student B?"
   ]
  },
  {
   "cell_type": "code",
   "execution_count": null,
   "metadata": {},
   "outputs": [],
   "source": [
    "df1.groupby('grade')['PredictScore'].agg([np.mean])"
   ]
  },
  {
   "cell_type": "markdown",
   "metadata": {},
   "source": [
    "Ques12.\tWhat is the meaning of the coefficient associated with variable raceethAsian?"
   ]
  },
  {
   "cell_type": "markdown",
   "metadata": {},
   "source": [
    "The coefficient associated with the variable raceethAsian is -3.44356841e+00 which is the predicted diff between an Asian Student and American Indian/Alaska Native student"
   ]
  },
  {
   "cell_type": "code",
   "execution_count": null,
   "metadata": {},
   "outputs": [],
   "source": [
    "df1.corr()"
   ]
  },
  {
   "cell_type": "markdown",
   "metadata": {},
   "source": [
    "Ques13.\tBased on the significance codes, which variables out of these are candidates for removal from the model? Select all that apply. (The factor variable raceeth should only be removed if none of its levels are significant.)"
   ]
  },
  {
   "cell_type": "markdown",
   "metadata": {},
   "source": [
    "Ans. The raceeth should be removed because some of the variables has low value of the correlation with the reading scores."
   ]
  },
  {
   "cell_type": "markdown",
   "metadata": {},
   "source": [
    "Ques14. Using the \"predict\" function , use the lmScore model to predict the reading scores of students in pisaTest. Call this list of predictions \"predTest\". Do not change the variables in the model (for example, do not remove variables that we found were not significant in the previous part of this problem). \n",
    "\n",
    "What is the range between the maximum and minimum predicted reading score on the test set?\n"
   ]
  },
  {
   "cell_type": "code",
   "execution_count": 135,
   "metadata": {},
   "outputs": [],
   "source": [
    "df2 = df2.dropna(axis=0)"
   ]
  },
  {
   "cell_type": "code",
   "execution_count": null,
   "metadata": {},
   "outputs": [],
   "source": [
    "#Divide both the data same as Titanic. "
   ]
  },
  {
   "cell_type": "code",
   "execution_count": 30,
   "metadata": {},
   "outputs": [
    {
     "data": {
      "text/html": [
       "<div>\n",
       "<style scoped>\n",
       "    .dataframe tbody tr th:only-of-type {\n",
       "        vertical-align: middle;\n",
       "    }\n",
       "\n",
       "    .dataframe tbody tr th {\n",
       "        vertical-align: top;\n",
       "    }\n",
       "\n",
       "    .dataframe thead th {\n",
       "        text-align: right;\n",
       "    }\n",
       "</style>\n",
       "<table border=\"1\" class=\"dataframe\">\n",
       "  <thead>\n",
       "    <tr style=\"text-align: right;\">\n",
       "      <th></th>\n",
       "      <th>grade</th>\n",
       "      <th>male</th>\n",
       "      <th>preschool</th>\n",
       "      <th>expectBachelors</th>\n",
       "      <th>motherHS</th>\n",
       "      <th>motherBachelors</th>\n",
       "      <th>motherWork</th>\n",
       "      <th>fatherHS</th>\n",
       "      <th>fatherBachelors</th>\n",
       "      <th>fatherWork</th>\n",
       "      <th>...</th>\n",
       "      <th>publicSchool</th>\n",
       "      <th>urban</th>\n",
       "      <th>schoolSize</th>\n",
       "      <th>readingScore</th>\n",
       "      <th>raceeth_Asian</th>\n",
       "      <th>raceeth_Black</th>\n",
       "      <th>raceeth_Hispanic</th>\n",
       "      <th>raceeth_More than one race</th>\n",
       "      <th>raceeth_Native Hawaiian/Other Pacific Islander</th>\n",
       "      <th>raceeth_White</th>\n",
       "    </tr>\n",
       "  </thead>\n",
       "  <tbody>\n",
       "    <tr>\n",
       "      <th>0</th>\n",
       "      <td>10</td>\n",
       "      <td>0</td>\n",
       "      <td>1.0</td>\n",
       "      <td>0.0</td>\n",
       "      <td>1.0</td>\n",
       "      <td>1.0</td>\n",
       "      <td>1.0</td>\n",
       "      <td>1.0</td>\n",
       "      <td>0.0</td>\n",
       "      <td>0.0</td>\n",
       "      <td>...</td>\n",
       "      <td>1</td>\n",
       "      <td>0</td>\n",
       "      <td>808.0</td>\n",
       "      <td>355.24</td>\n",
       "      <td>0</td>\n",
       "      <td>0</td>\n",
       "      <td>0</td>\n",
       "      <td>0</td>\n",
       "      <td>0</td>\n",
       "      <td>1</td>\n",
       "    </tr>\n",
       "    <tr>\n",
       "      <th>4</th>\n",
       "      <td>10</td>\n",
       "      <td>0</td>\n",
       "      <td>1.0</td>\n",
       "      <td>1.0</td>\n",
       "      <td>1.0</td>\n",
       "      <td>0.0</td>\n",
       "      <td>0.0</td>\n",
       "      <td>1.0</td>\n",
       "      <td>1.0</td>\n",
       "      <td>1.0</td>\n",
       "      <td>...</td>\n",
       "      <td>1</td>\n",
       "      <td>0</td>\n",
       "      <td>808.0</td>\n",
       "      <td>453.50</td>\n",
       "      <td>0</td>\n",
       "      <td>0</td>\n",
       "      <td>0</td>\n",
       "      <td>0</td>\n",
       "      <td>0</td>\n",
       "      <td>1</td>\n",
       "    </tr>\n",
       "    <tr>\n",
       "      <th>6</th>\n",
       "      <td>10</td>\n",
       "      <td>0</td>\n",
       "      <td>1.0</td>\n",
       "      <td>0.0</td>\n",
       "      <td>1.0</td>\n",
       "      <td>0.0</td>\n",
       "      <td>0.0</td>\n",
       "      <td>1.0</td>\n",
       "      <td>0.0</td>\n",
       "      <td>0.0</td>\n",
       "      <td>...</td>\n",
       "      <td>1</td>\n",
       "      <td>0</td>\n",
       "      <td>808.0</td>\n",
       "      <td>405.13</td>\n",
       "      <td>0</td>\n",
       "      <td>0</td>\n",
       "      <td>0</td>\n",
       "      <td>0</td>\n",
       "      <td>0</td>\n",
       "      <td>0</td>\n",
       "    </tr>\n",
       "    <tr>\n",
       "      <th>7</th>\n",
       "      <td>10</td>\n",
       "      <td>0</td>\n",
       "      <td>1.0</td>\n",
       "      <td>0.0</td>\n",
       "      <td>1.0</td>\n",
       "      <td>0.0</td>\n",
       "      <td>1.0</td>\n",
       "      <td>1.0</td>\n",
       "      <td>0.0</td>\n",
       "      <td>1.0</td>\n",
       "      <td>...</td>\n",
       "      <td>1</td>\n",
       "      <td>0</td>\n",
       "      <td>808.0</td>\n",
       "      <td>665.05</td>\n",
       "      <td>0</td>\n",
       "      <td>0</td>\n",
       "      <td>0</td>\n",
       "      <td>0</td>\n",
       "      <td>0</td>\n",
       "      <td>1</td>\n",
       "    </tr>\n",
       "    <tr>\n",
       "      <th>8</th>\n",
       "      <td>11</td>\n",
       "      <td>0</td>\n",
       "      <td>0.0</td>\n",
       "      <td>0.0</td>\n",
       "      <td>1.0</td>\n",
       "      <td>1.0</td>\n",
       "      <td>1.0</td>\n",
       "      <td>1.0</td>\n",
       "      <td>1.0</td>\n",
       "      <td>1.0</td>\n",
       "      <td>...</td>\n",
       "      <td>1</td>\n",
       "      <td>0</td>\n",
       "      <td>808.0</td>\n",
       "      <td>604.84</td>\n",
       "      <td>0</td>\n",
       "      <td>0</td>\n",
       "      <td>0</td>\n",
       "      <td>0</td>\n",
       "      <td>0</td>\n",
       "      <td>1</td>\n",
       "    </tr>\n",
       "  </tbody>\n",
       "</table>\n",
       "<p>5 rows × 29 columns</p>\n",
       "</div>"
      ],
      "text/plain": [
       "   grade  male  preschool  expectBachelors  motherHS  motherBachelors  \\\n",
       "0     10     0        1.0              0.0       1.0              1.0   \n",
       "4     10     0        1.0              1.0       1.0              0.0   \n",
       "6     10     0        1.0              0.0       1.0              0.0   \n",
       "7     10     0        1.0              0.0       1.0              0.0   \n",
       "8     11     0        0.0              0.0       1.0              1.0   \n",
       "\n",
       "   motherWork  fatherHS  fatherBachelors  fatherWork      ...        \\\n",
       "0         1.0       1.0              0.0         0.0      ...         \n",
       "4         0.0       1.0              1.0         1.0      ...         \n",
       "6         0.0       1.0              0.0         0.0      ...         \n",
       "7         1.0       1.0              0.0         1.0      ...         \n",
       "8         1.0       1.0              1.0         1.0      ...         \n",
       "\n",
       "   publicSchool  urban  schoolSize  readingScore  raceeth_Asian  \\\n",
       "0             1      0       808.0        355.24              0   \n",
       "4             1      0       808.0        453.50              0   \n",
       "6             1      0       808.0        405.13              0   \n",
       "7             1      0       808.0        665.05              0   \n",
       "8             1      0       808.0        604.84              0   \n",
       "\n",
       "   raceeth_Black  raceeth_Hispanic  raceeth_More than one race  \\\n",
       "0              0                 0                           0   \n",
       "4              0                 0                           0   \n",
       "6              0                 0                           0   \n",
       "7              0                 0                           0   \n",
       "8              0                 0                           0   \n",
       "\n",
       "   raceeth_Native Hawaiian/Other Pacific Islander  raceeth_White  \n",
       "0                                               0              1  \n",
       "4                                               0              1  \n",
       "6                                               0              0  \n",
       "7                                               0              1  \n",
       "8                                               0              1  \n",
       "\n",
       "[5 rows x 29 columns]"
      ]
     },
     "execution_count": 30,
     "metadata": {},
     "output_type": "execute_result"
    }
   ],
   "source": [
    "df2 = pd.get_dummies(df2,drop_first=True)\n",
    "df2.head()"
   ]
  },
  {
   "cell_type": "code",
   "execution_count": 31,
   "metadata": {},
   "outputs": [],
   "source": [
    "df2 = df2.drop(['raceeth_White'], axis=1)"
   ]
  },
  {
   "cell_type": "code",
   "execution_count": 32,
   "metadata": {
    "scrolled": true
   },
   "outputs": [
    {
     "data": {
      "text/html": [
       "<div>\n",
       "<style scoped>\n",
       "    .dataframe tbody tr th:only-of-type {\n",
       "        vertical-align: middle;\n",
       "    }\n",
       "\n",
       "    .dataframe tbody tr th {\n",
       "        vertical-align: top;\n",
       "    }\n",
       "\n",
       "    .dataframe thead th {\n",
       "        text-align: right;\n",
       "    }\n",
       "</style>\n",
       "<table border=\"1\" class=\"dataframe\">\n",
       "  <thead>\n",
       "    <tr style=\"text-align: right;\">\n",
       "      <th></th>\n",
       "      <th>grade</th>\n",
       "      <th>male</th>\n",
       "      <th>preschool</th>\n",
       "      <th>expectBachelors</th>\n",
       "      <th>motherHS</th>\n",
       "      <th>motherBachelors</th>\n",
       "      <th>motherWork</th>\n",
       "      <th>fatherHS</th>\n",
       "      <th>fatherBachelors</th>\n",
       "      <th>fatherWork</th>\n",
       "      <th>...</th>\n",
       "      <th>schoolHasLibrary</th>\n",
       "      <th>publicSchool</th>\n",
       "      <th>urban</th>\n",
       "      <th>schoolSize</th>\n",
       "      <th>readingScore</th>\n",
       "      <th>raceeth_Asian</th>\n",
       "      <th>raceeth_Black</th>\n",
       "      <th>raceeth_Hispanic</th>\n",
       "      <th>raceeth_More than one race</th>\n",
       "      <th>raceeth_Native Hawaiian/Other Pacific Islander</th>\n",
       "    </tr>\n",
       "  </thead>\n",
       "  <tbody>\n",
       "    <tr>\n",
       "      <th>0</th>\n",
       "      <td>10</td>\n",
       "      <td>0</td>\n",
       "      <td>1.0</td>\n",
       "      <td>0.0</td>\n",
       "      <td>1.0</td>\n",
       "      <td>1.0</td>\n",
       "      <td>1.0</td>\n",
       "      <td>1.0</td>\n",
       "      <td>0.0</td>\n",
       "      <td>0.0</td>\n",
       "      <td>...</td>\n",
       "      <td>1.0</td>\n",
       "      <td>1</td>\n",
       "      <td>0</td>\n",
       "      <td>808.0</td>\n",
       "      <td>355.24</td>\n",
       "      <td>0</td>\n",
       "      <td>0</td>\n",
       "      <td>0</td>\n",
       "      <td>0</td>\n",
       "      <td>0</td>\n",
       "    </tr>\n",
       "    <tr>\n",
       "      <th>4</th>\n",
       "      <td>10</td>\n",
       "      <td>0</td>\n",
       "      <td>1.0</td>\n",
       "      <td>1.0</td>\n",
       "      <td>1.0</td>\n",
       "      <td>0.0</td>\n",
       "      <td>0.0</td>\n",
       "      <td>1.0</td>\n",
       "      <td>1.0</td>\n",
       "      <td>1.0</td>\n",
       "      <td>...</td>\n",
       "      <td>1.0</td>\n",
       "      <td>1</td>\n",
       "      <td>0</td>\n",
       "      <td>808.0</td>\n",
       "      <td>453.50</td>\n",
       "      <td>0</td>\n",
       "      <td>0</td>\n",
       "      <td>0</td>\n",
       "      <td>0</td>\n",
       "      <td>0</td>\n",
       "    </tr>\n",
       "    <tr>\n",
       "      <th>6</th>\n",
       "      <td>10</td>\n",
       "      <td>0</td>\n",
       "      <td>1.0</td>\n",
       "      <td>0.0</td>\n",
       "      <td>1.0</td>\n",
       "      <td>0.0</td>\n",
       "      <td>0.0</td>\n",
       "      <td>1.0</td>\n",
       "      <td>0.0</td>\n",
       "      <td>0.0</td>\n",
       "      <td>...</td>\n",
       "      <td>1.0</td>\n",
       "      <td>1</td>\n",
       "      <td>0</td>\n",
       "      <td>808.0</td>\n",
       "      <td>405.13</td>\n",
       "      <td>0</td>\n",
       "      <td>0</td>\n",
       "      <td>0</td>\n",
       "      <td>0</td>\n",
       "      <td>0</td>\n",
       "    </tr>\n",
       "    <tr>\n",
       "      <th>7</th>\n",
       "      <td>10</td>\n",
       "      <td>0</td>\n",
       "      <td>1.0</td>\n",
       "      <td>0.0</td>\n",
       "      <td>1.0</td>\n",
       "      <td>0.0</td>\n",
       "      <td>1.0</td>\n",
       "      <td>1.0</td>\n",
       "      <td>0.0</td>\n",
       "      <td>1.0</td>\n",
       "      <td>...</td>\n",
       "      <td>1.0</td>\n",
       "      <td>1</td>\n",
       "      <td>0</td>\n",
       "      <td>808.0</td>\n",
       "      <td>665.05</td>\n",
       "      <td>0</td>\n",
       "      <td>0</td>\n",
       "      <td>0</td>\n",
       "      <td>0</td>\n",
       "      <td>0</td>\n",
       "    </tr>\n",
       "    <tr>\n",
       "      <th>8</th>\n",
       "      <td>11</td>\n",
       "      <td>0</td>\n",
       "      <td>0.0</td>\n",
       "      <td>0.0</td>\n",
       "      <td>1.0</td>\n",
       "      <td>1.0</td>\n",
       "      <td>1.0</td>\n",
       "      <td>1.0</td>\n",
       "      <td>1.0</td>\n",
       "      <td>1.0</td>\n",
       "      <td>...</td>\n",
       "      <td>1.0</td>\n",
       "      <td>1</td>\n",
       "      <td>0</td>\n",
       "      <td>808.0</td>\n",
       "      <td>604.84</td>\n",
       "      <td>0</td>\n",
       "      <td>0</td>\n",
       "      <td>0</td>\n",
       "      <td>0</td>\n",
       "      <td>0</td>\n",
       "    </tr>\n",
       "  </tbody>\n",
       "</table>\n",
       "<p>5 rows × 28 columns</p>\n",
       "</div>"
      ],
      "text/plain": [
       "   grade  male  preschool  expectBachelors  motherHS  motherBachelors  \\\n",
       "0     10     0        1.0              0.0       1.0              1.0   \n",
       "4     10     0        1.0              1.0       1.0              0.0   \n",
       "6     10     0        1.0              0.0       1.0              0.0   \n",
       "7     10     0        1.0              0.0       1.0              0.0   \n",
       "8     11     0        0.0              0.0       1.0              1.0   \n",
       "\n",
       "   motherWork  fatherHS  fatherBachelors  fatherWork  \\\n",
       "0         1.0       1.0              0.0         0.0   \n",
       "4         0.0       1.0              1.0         1.0   \n",
       "6         0.0       1.0              0.0         0.0   \n",
       "7         1.0       1.0              0.0         1.0   \n",
       "8         1.0       1.0              1.0         1.0   \n",
       "\n",
       "                        ...                        schoolHasLibrary  \\\n",
       "0                       ...                                     1.0   \n",
       "4                       ...                                     1.0   \n",
       "6                       ...                                     1.0   \n",
       "7                       ...                                     1.0   \n",
       "8                       ...                                     1.0   \n",
       "\n",
       "   publicSchool  urban  schoolSize  readingScore  raceeth_Asian  \\\n",
       "0             1      0       808.0        355.24              0   \n",
       "4             1      0       808.0        453.50              0   \n",
       "6             1      0       808.0        405.13              0   \n",
       "7             1      0       808.0        665.05              0   \n",
       "8             1      0       808.0        604.84              0   \n",
       "\n",
       "   raceeth_Black  raceeth_Hispanic  raceeth_More than one race  \\\n",
       "0              0                 0                           0   \n",
       "4              0                 0                           0   \n",
       "6              0                 0                           0   \n",
       "7              0                 0                           0   \n",
       "8              0                 0                           0   \n",
       "\n",
       "   raceeth_Native Hawaiian/Other Pacific Islander  \n",
       "0                                               0  \n",
       "4                                               0  \n",
       "6                                               0  \n",
       "7                                               0  \n",
       "8                                               0  \n",
       "\n",
       "[5 rows x 28 columns]"
      ]
     },
     "execution_count": 32,
     "metadata": {},
     "output_type": "execute_result"
    }
   ],
   "source": [
    "df2.head()"
   ]
  },
  {
   "cell_type": "code",
   "execution_count": 37,
   "metadata": {},
   "outputs": [
    {
     "name": "stdout",
     "output_type": "stream",
     "text": [
      "Difference between min and max test scores on testing set is 282.0\n"
     ]
    }
   ],
   "source": [
    "X=df2.drop(labels=['readingScore'],axis=1)\n",
    "Y=df2.readingScore\n",
    "\n",
    "lmScore=LinearRegression()\n",
    "lmScore.fit(X,Y)\n",
    "\n",
    "df2['predTest']=lmScore.predict(X)\n",
    "print('Difference between min and max test scores on testing set is',round(max(predTest)-min(predTest)))"
   ]
  },
  {
   "cell_type": "code",
   "execution_count": 39,
   "metadata": {},
   "outputs": [
    {
     "data": {
      "text/plain": [
       "5553662.813721299"
      ]
     },
     "execution_count": 39,
     "metadata": {},
     "output_type": "execute_result"
    }
   ],
   "source": [
    "SSE = sum((df2['readingScore']-df2['predTest'])**2)\n",
    "SSE"
   ]
  },
  {
   "cell_type": "code",
   "execution_count": null,
   "metadata": {},
   "outputs": [],
   "source": []
  },
  {
   "cell_type": "code",
   "execution_count": 140,
   "metadata": {},
   "outputs": [
    {
     "data": {
      "text/plain": [
       "2.2737367544323206e-13"
      ]
     },
     "execution_count": 140,
     "metadata": {},
     "output_type": "execute_result"
    }
   ],
   "source": [
    "lmScore2.intercept_"
   ]
  },
  {
   "cell_type": "code",
   "execution_count": 141,
   "metadata": {},
   "outputs": [
    {
     "data": {
      "text/plain": [
       "array([-1.89302394e-14, -1.50102153e-13,  1.14973451e-13,  8.34356731e-14,\n",
       "        2.54496760e-14,  5.89356731e-15, -6.57637190e-15, -1.56004049e-14,\n",
       "        5.22936050e-15,  7.05187072e-15,  3.35787766e-14, -5.18808498e-14,\n",
       "        1.84388753e-15,  5.56358605e-15, -3.43273490e-15,  1.44605522e-14,\n",
       "        5.42308320e-16,  8.67578578e-16, -6.77941539e-14, -3.83612277e-14,\n",
       "       -1.19314579e-13,  5.55111512e-17,  1.00000000e+00,  1.90568861e-16,\n",
       "       -4.36541807e-15, -1.00070099e-14, -5.78278287e-15])"
      ]
     },
     "execution_count": 141,
     "metadata": {},
     "output_type": "execute_result"
    }
   ],
   "source": [
    "lmScore2.coef_"
   ]
  },
  {
   "cell_type": "code",
   "execution_count": 142,
   "metadata": {},
   "outputs": [],
   "source": [
    "df2['PredictScore1']=lmScore2.predict(df2.iloc[:,[0,1,2,3,4,5,6,7,8,9,10,11,12,13,14,15,16,17,18,19,20,21,22,24,25,26,27]])"
   ]
  },
  {
   "cell_type": "code",
   "execution_count": 143,
   "metadata": {},
   "outputs": [
    {
     "data": {
      "text/plain": [
       "529.8200000000002"
      ]
     },
     "execution_count": 143,
     "metadata": {},
     "output_type": "execute_result"
    }
   ],
   "source": [
    "df2['PredictScore1'].max()-df2['PredictScore1'].min()"
   ]
  },
  {
   "cell_type": "markdown",
   "metadata": {},
   "source": [
    "Ques15.What is the sum of squared errors (SSE) of lmScore on the testing set? \n",
    "_____ (give a integer) \n"
   ]
  },
  {
   "cell_type": "code",
   "execution_count": 145,
   "metadata": {},
   "outputs": [
    {
     "data": {
      "text/plain": [
       "2.14889244679059e-23"
      ]
     },
     "execution_count": 145,
     "metadata": {},
     "output_type": "execute_result"
    }
   ],
   "source": [
    "SSE = sum((df2['readingScore']-df2['PredictScore1'])**2)\n",
    "SSE"
   ]
  },
  {
   "cell_type": "code",
   "execution_count": 45,
   "metadata": {},
   "outputs": [
    {
     "name": "stdout",
     "output_type": "stream",
     "text": [
      "   c1   c2\n",
      "0  10  100\n",
      "1  11  110\n",
      "2  12  120\n"
     ]
    }
   ],
   "source": [
    "inp = [{'c1':10, 'c2':100}, {'c1':11,'c2':110}, {'c1':12,'c2':120}]\n",
    "df = pd.DataFrame(inp)\n",
    "print (df)"
   ]
  },
  {
   "cell_type": "code",
   "execution_count": 47,
   "metadata": {},
   "outputs": [],
   "source": [
    "import numpy as np\n",
    "import pandas as pd\n",
    "import seaborn as sns\n",
    "import matplotlib.pyplot as plt\n",
    "\n",
    "from pandas import Series,DataFrame\n",
    "\n",
    "import warnings\n",
    "warnings.filterwarnings('ignore')\n",
    "\n",
    "import scipy.stats as stats\n",
    "import statsmodels.regression.linear_model as lmr\n",
    "import statsmodels.discrete.discrete_model as sm\n",
    "from statsmodels.api import add_constant\n",
    "\n",
    "from sklearn.linear_model import LogisticRegression\n",
    "from sklearn.linear_model import LinearRegression\n",
    "from sklearn.model_selection import train_test_split\n",
    "from sklearn import metrics\n",
    "from collections import Counter\n",
    "from statsmodels.stats.outliers_influence import variance_inflation_factor\n",
    "from sklearn.metrics import r2_score\n",
    "from statsmodels.formula.api import ols\n",
    "\n",
    "%matplotlib inline"
   ]
  },
  {
   "cell_type": "code",
   "execution_count": 63,
   "metadata": {},
   "outputs": [
    {
     "name": "stdout",
     "output_type": "stream",
     "text": [
      "c1\n",
      "c2\n"
     ]
    }
   ],
   "source": [
    "for i, j in DataFrame(df.columns).iterrows():\n",
    "    print(DataFrame(df.columns)[0][i])\n"
   ]
  },
  {
   "cell_type": "code",
   "execution_count": 64,
   "metadata": {},
   "outputs": [
    {
     "data": {
      "text/plain": [
       "Index(['c1', 'c2'], dtype='object')"
      ]
     },
     "execution_count": 64,
     "metadata": {},
     "output_type": "execute_result"
    }
   ],
   "source": [
    "df.columns"
   ]
  },
  {
   "cell_type": "code",
   "execution_count": null,
   "metadata": {},
   "outputs": [],
   "source": []
  }
 ],
 "metadata": {
  "kernelspec": {
   "display_name": "Python 3",
   "language": "python",
   "name": "python3"
  },
  "language_info": {
   "codemirror_mode": {
    "name": "ipython",
    "version": 3
   },
   "file_extension": ".py",
   "mimetype": "text/x-python",
   "name": "python",
   "nbconvert_exporter": "python",
   "pygments_lexer": "ipython3",
   "version": "3.7.0"
  }
 },
 "nbformat": 4,
 "nbformat_minor": 2
}
