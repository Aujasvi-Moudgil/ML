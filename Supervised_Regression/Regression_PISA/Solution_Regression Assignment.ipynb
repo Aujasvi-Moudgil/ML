{
 "cells": [
  {
   "cell_type": "code",
   "execution_count": 1,
   "metadata": {},
   "outputs": [],
   "source": [
    "import numpy as np\n",
    "import pandas as pd\n",
    "import matplotlib.pyplot as plt\n",
    "from pandas import Series,DataFrame\n",
    "from sklearn.metrics import r2_score\n",
    "import statsmodels.formula.api as smf\n",
    "from sklearn import metrics\n",
    "%matplotlib inline\n",
    "from sklearn.linear_model import LinearRegression"
   ]
  },
  {
   "cell_type": "markdown",
   "metadata": {},
   "source": [
    "### 1)\tLoad the training and testing sets using the read_csv() function, and save them as dataframes with the names pisaTrain and pisaTest. \n",
    "How many students are there in the training set?\n"
   ]
  },
  {
   "cell_type": "code",
   "execution_count": 2,
   "metadata": {},
   "outputs": [
    {
     "name": "stdout",
     "output_type": "stream",
     "text": [
      "('The number of students in training datasets are: ', 3663)\n"
     ]
    }
   ],
   "source": [
    "pisaTrain = pd.read_csv('pisa2009train.csv')\n",
    "pisaTest = pd.read_csv('pisa2009test.csv')\n",
    "print('The number of students in training datasets are: ',pisaTrain.shape[0])"
   ]
  },
  {
   "cell_type": "markdown",
   "metadata": {},
   "source": [
    "### 2)\tUsing groupby on pisaTrain, what is the average reading test score of males and females??"
   ]
  },
  {
   "cell_type": "code",
   "execution_count": 3,
   "metadata": {},
   "outputs": [
    {
     "data": {
      "text/html": [
       "<div>\n",
       "<style scoped>\n",
       "    .dataframe tbody tr th:only-of-type {\n",
       "        vertical-align: middle;\n",
       "    }\n",
       "\n",
       "    .dataframe tbody tr th {\n",
       "        vertical-align: top;\n",
       "    }\n",
       "\n",
       "    .dataframe thead th {\n",
       "        text-align: right;\n",
       "    }\n",
       "</style>\n",
       "<table border=\"1\" class=\"dataframe\">\n",
       "  <thead>\n",
       "    <tr style=\"text-align: right;\">\n",
       "      <th></th>\n",
       "      <th>grade</th>\n",
       "      <th>male</th>\n",
       "      <th>raceeth</th>\n",
       "      <th>preschool</th>\n",
       "      <th>expectBachelors</th>\n",
       "      <th>motherHS</th>\n",
       "      <th>motherBachelors</th>\n",
       "      <th>motherWork</th>\n",
       "      <th>fatherHS</th>\n",
       "      <th>fatherBachelors</th>\n",
       "      <th>...</th>\n",
       "      <th>englishAtHome</th>\n",
       "      <th>computerForSchoolwork</th>\n",
       "      <th>read30MinsADay</th>\n",
       "      <th>minutesPerWeekEnglish</th>\n",
       "      <th>studentsInEnglish</th>\n",
       "      <th>schoolHasLibrary</th>\n",
       "      <th>publicSchool</th>\n",
       "      <th>urban</th>\n",
       "      <th>schoolSize</th>\n",
       "      <th>readingScore</th>\n",
       "    </tr>\n",
       "  </thead>\n",
       "  <tbody>\n",
       "    <tr>\n",
       "      <th>0</th>\n",
       "      <td>11</td>\n",
       "      <td>1</td>\n",
       "      <td>NaN</td>\n",
       "      <td>NaN</td>\n",
       "      <td>0.0</td>\n",
       "      <td>NaN</td>\n",
       "      <td>NaN</td>\n",
       "      <td>1.0</td>\n",
       "      <td>NaN</td>\n",
       "      <td>NaN</td>\n",
       "      <td>...</td>\n",
       "      <td>0.0</td>\n",
       "      <td>1.0</td>\n",
       "      <td>0.0</td>\n",
       "      <td>225.0</td>\n",
       "      <td>NaN</td>\n",
       "      <td>1.0</td>\n",
       "      <td>1</td>\n",
       "      <td>1</td>\n",
       "      <td>673.0</td>\n",
       "      <td>476.00</td>\n",
       "    </tr>\n",
       "    <tr>\n",
       "      <th>1</th>\n",
       "      <td>11</td>\n",
       "      <td>1</td>\n",
       "      <td>White</td>\n",
       "      <td>0.0</td>\n",
       "      <td>0.0</td>\n",
       "      <td>1.0</td>\n",
       "      <td>1.0</td>\n",
       "      <td>1.0</td>\n",
       "      <td>1.0</td>\n",
       "      <td>0.0</td>\n",
       "      <td>...</td>\n",
       "      <td>1.0</td>\n",
       "      <td>1.0</td>\n",
       "      <td>1.0</td>\n",
       "      <td>450.0</td>\n",
       "      <td>25.0</td>\n",
       "      <td>1.0</td>\n",
       "      <td>1</td>\n",
       "      <td>0</td>\n",
       "      <td>1173.0</td>\n",
       "      <td>575.01</td>\n",
       "    </tr>\n",
       "    <tr>\n",
       "      <th>2</th>\n",
       "      <td>9</td>\n",
       "      <td>1</td>\n",
       "      <td>White</td>\n",
       "      <td>1.0</td>\n",
       "      <td>1.0</td>\n",
       "      <td>1.0</td>\n",
       "      <td>1.0</td>\n",
       "      <td>1.0</td>\n",
       "      <td>1.0</td>\n",
       "      <td>NaN</td>\n",
       "      <td>...</td>\n",
       "      <td>1.0</td>\n",
       "      <td>1.0</td>\n",
       "      <td>0.0</td>\n",
       "      <td>250.0</td>\n",
       "      <td>28.0</td>\n",
       "      <td>1.0</td>\n",
       "      <td>1</td>\n",
       "      <td>0</td>\n",
       "      <td>1233.0</td>\n",
       "      <td>554.81</td>\n",
       "    </tr>\n",
       "    <tr>\n",
       "      <th>3</th>\n",
       "      <td>10</td>\n",
       "      <td>0</td>\n",
       "      <td>Black</td>\n",
       "      <td>1.0</td>\n",
       "      <td>1.0</td>\n",
       "      <td>0.0</td>\n",
       "      <td>0.0</td>\n",
       "      <td>1.0</td>\n",
       "      <td>1.0</td>\n",
       "      <td>0.0</td>\n",
       "      <td>...</td>\n",
       "      <td>1.0</td>\n",
       "      <td>1.0</td>\n",
       "      <td>1.0</td>\n",
       "      <td>200.0</td>\n",
       "      <td>23.0</td>\n",
       "      <td>1.0</td>\n",
       "      <td>1</td>\n",
       "      <td>1</td>\n",
       "      <td>2640.0</td>\n",
       "      <td>458.11</td>\n",
       "    </tr>\n",
       "    <tr>\n",
       "      <th>4</th>\n",
       "      <td>10</td>\n",
       "      <td>1</td>\n",
       "      <td>Hispanic</td>\n",
       "      <td>1.0</td>\n",
       "      <td>0.0</td>\n",
       "      <td>1.0</td>\n",
       "      <td>0.0</td>\n",
       "      <td>1.0</td>\n",
       "      <td>1.0</td>\n",
       "      <td>0.0</td>\n",
       "      <td>...</td>\n",
       "      <td>1.0</td>\n",
       "      <td>1.0</td>\n",
       "      <td>1.0</td>\n",
       "      <td>250.0</td>\n",
       "      <td>35.0</td>\n",
       "      <td>1.0</td>\n",
       "      <td>1</td>\n",
       "      <td>1</td>\n",
       "      <td>1095.0</td>\n",
       "      <td>613.89</td>\n",
       "    </tr>\n",
       "  </tbody>\n",
       "</table>\n",
       "<p>5 rows × 24 columns</p>\n",
       "</div>"
      ],
      "text/plain": [
       "   grade  male   raceeth  preschool  expectBachelors  motherHS  \\\n",
       "0     11     1       NaN        NaN              0.0       NaN   \n",
       "1     11     1     White        0.0              0.0       1.0   \n",
       "2      9     1     White        1.0              1.0       1.0   \n",
       "3     10     0     Black        1.0              1.0       0.0   \n",
       "4     10     1  Hispanic        1.0              0.0       1.0   \n",
       "\n",
       "   motherBachelors  motherWork  fatherHS  fatherBachelors      ...       \\\n",
       "0              NaN         1.0       NaN              NaN      ...        \n",
       "1              1.0         1.0       1.0              0.0      ...        \n",
       "2              1.0         1.0       1.0              NaN      ...        \n",
       "3              0.0         1.0       1.0              0.0      ...        \n",
       "4              0.0         1.0       1.0              0.0      ...        \n",
       "\n",
       "   englishAtHome  computerForSchoolwork  read30MinsADay  \\\n",
       "0            0.0                    1.0             0.0   \n",
       "1            1.0                    1.0             1.0   \n",
       "2            1.0                    1.0             0.0   \n",
       "3            1.0                    1.0             1.0   \n",
       "4            1.0                    1.0             1.0   \n",
       "\n",
       "   minutesPerWeekEnglish  studentsInEnglish  schoolHasLibrary  publicSchool  \\\n",
       "0                  225.0                NaN               1.0             1   \n",
       "1                  450.0               25.0               1.0             1   \n",
       "2                  250.0               28.0               1.0             1   \n",
       "3                  200.0               23.0               1.0             1   \n",
       "4                  250.0               35.0               1.0             1   \n",
       "\n",
       "   urban  schoolSize  readingScore  \n",
       "0      1       673.0        476.00  \n",
       "1      0      1173.0        575.01  \n",
       "2      0      1233.0        554.81  \n",
       "3      1      2640.0        458.11  \n",
       "4      1      1095.0        613.89  \n",
       "\n",
       "[5 rows x 24 columns]"
      ]
     },
     "execution_count": 3,
     "metadata": {},
     "output_type": "execute_result"
    }
   ],
   "source": [
    "pisaTrain.head()"
   ]
  },
  {
   "cell_type": "code",
   "execution_count": 4,
   "metadata": {},
   "outputs": [
    {
     "data": {
      "text/plain": [
       "Index([u'grade', u'male', u'raceeth', u'preschool', u'expectBachelors',\n",
       "       u'motherHS', u'motherBachelors', u'motherWork', u'fatherHS',\n",
       "       u'fatherBachelors', u'fatherWork', u'selfBornUS', u'motherBornUS',\n",
       "       u'fatherBornUS', u'englishAtHome', u'computerForSchoolwork',\n",
       "       u'read30MinsADay', u'minutesPerWeekEnglish', u'studentsInEnglish',\n",
       "       u'schoolHasLibrary', u'publicSchool', u'urban', u'schoolSize',\n",
       "       u'readingScore'],\n",
       "      dtype='object')"
      ]
     },
     "execution_count": 4,
     "metadata": {},
     "output_type": "execute_result"
    }
   ],
   "source": [
    "pisaTrain.columns"
   ]
  },
  {
   "cell_type": "code",
   "execution_count": 5,
   "metadata": {},
   "outputs": [
    {
     "name": "stdout",
     "output_type": "stream",
     "text": [
      "The average reading score of male candidates are : 483.53\n",
      "The average reading score of female candidates are : 512.94\n"
     ]
    }
   ],
   "source": [
    "rscorebymean=pisaTrain.groupby('male').mean()['readingScore']\n",
    "print('The average reading score of male candidates are : %1.2f' %rscorebymean[1])\n",
    "print('The average reading score of female candidates are : %1.2f' %rscorebymean[0])"
   ]
  },
  {
   "cell_type": "markdown",
   "metadata": {},
   "source": [
    "### 3)\tWhich variables have missing data in at least one observation in the training set? "
   ]
  },
  {
   "cell_type": "code",
   "execution_count": 6,
   "metadata": {},
   "outputs": [
    {
     "data": {
      "text/plain": [
       "raceeth                   35\n",
       "preschool                 56\n",
       "expectBachelors           62\n",
       "motherHS                  97\n",
       "motherBachelors          397\n",
       "motherWork                93\n",
       "fatherHS                 245\n",
       "fatherBachelors          569\n",
       "fatherWork               233\n",
       "selfBornUS                69\n",
       "motherBornUS              71\n",
       "fatherBornUS             113\n",
       "englishAtHome             71\n",
       "computerForSchoolwork     65\n",
       "read30MinsADay            34\n",
       "minutesPerWeekEnglish    186\n",
       "studentsInEnglish        249\n",
       "schoolHasLibrary         143\n",
       "schoolSize               162\n",
       "dtype: int64"
      ]
     },
     "execution_count": 6,
     "metadata": {},
     "output_type": "execute_result"
    }
   ],
   "source": [
    "null_columns=pisaTrain.columns[pisaTrain.isnull().any()]\n",
    "pisaTrain[null_columns].isnull().sum()"
   ]
  },
  {
   "cell_type": "markdown",
   "metadata": {},
   "source": [
    "The variables having missing data are as follows: raceeth (35), preschool (56), expectBachelors (62), motherHS (97), motherBachelors (397), motherWork (93), fatherHS (245), fatherBachelors (569), fatherWork (233), selfBornUS (69), motherBornUS (71)), fatherBornUS (113), englishAtHome (71), computerForSchoolwork (65), read30MinsADay (34), minutesPerWeekEnglish (186), studentsInEnglish (249), schoolHasLibrary (143), schoolSize (162)"
   ]
  },
  {
   "cell_type": "markdown",
   "metadata": {},
   "source": [
    "### 4)\tLinear regression discards observations with missing data, so we will remove all such observations from the training and testing sets. Ideally we should be filling the missing values with plausible information, but for now, lets remove them and move ahead. \n",
    "\n",
    "Type the following commands into your notebook to remove observations with any missing value from pisaTrain and pisaTest: \n",
    "\n",
    "pisaTrain = train.dropna(axis=0) #axis=0 because we want to delete the rows having NA \n",
    "\n",
    "pisaTest = test.dropna(axis=0) \n",
    "\n",
    "### How many observations are now in the training set? \n",
    "### How many observations are now in the testing set?\n"
   ]
  },
  {
   "cell_type": "code",
   "execution_count": 7,
   "metadata": {},
   "outputs": [
    {
     "name": "stdout",
     "output_type": "stream",
     "text": [
      "('The number of observation in training dataset after droping missing data are ', 2414)\n",
      "('The number of observation in testing dataset after droping missing data are: ', 990)\n"
     ]
    }
   ],
   "source": [
    "pisaTrain = pisaTrain.dropna(axis=0)\n",
    "pisaTest= pisaTest.dropna(axis=0)\n",
    "print('The number of observation in training dataset after droping missing data are ', pisaTrain.shape[0])\n",
    "print('The number of observation in testing dataset after droping missing data are: ', pisaTest.shape[0])"
   ]
  },
  {
   "cell_type": "markdown",
   "metadata": {},
   "source": [
    "### 5)\tWhich of the following variables is an unordered factor/categorical variable with at least 3 levels? "
   ]
  },
  {
   "cell_type": "code",
   "execution_count": 8,
   "metadata": {
    "scrolled": true
   },
   "outputs": [
    {
     "name": "stdout",
     "output_type": "stream",
     "text": [
      "<class 'pandas.core.frame.DataFrame'>\n",
      "Int64Index: 2414 entries, 1 to 3662\n",
      "Data columns (total 24 columns):\n",
      "grade                    2414 non-null int64\n",
      "male                     2414 non-null int64\n",
      "raceeth                  2414 non-null object\n",
      "preschool                2414 non-null float64\n",
      "expectBachelors          2414 non-null float64\n",
      "motherHS                 2414 non-null float64\n",
      "motherBachelors          2414 non-null float64\n",
      "motherWork               2414 non-null float64\n",
      "fatherHS                 2414 non-null float64\n",
      "fatherBachelors          2414 non-null float64\n",
      "fatherWork               2414 non-null float64\n",
      "selfBornUS               2414 non-null float64\n",
      "motherBornUS             2414 non-null float64\n",
      "fatherBornUS             2414 non-null float64\n",
      "englishAtHome            2414 non-null float64\n",
      "computerForSchoolwork    2414 non-null float64\n",
      "read30MinsADay           2414 non-null float64\n",
      "minutesPerWeekEnglish    2414 non-null float64\n",
      "studentsInEnglish        2414 non-null float64\n",
      "schoolHasLibrary         2414 non-null float64\n",
      "publicSchool             2414 non-null int64\n",
      "urban                    2414 non-null int64\n",
      "schoolSize               2414 non-null float64\n",
      "readingScore             2414 non-null float64\n",
      "dtypes: float64(19), int64(4), object(1)\n",
      "memory usage: 471.5+ KB\n"
     ]
    }
   ],
   "source": [
    "pisaTrain.info()"
   ]
  },
  {
   "cell_type": "code",
   "execution_count": 9,
   "metadata": {},
   "outputs": [
    {
     "data": {
      "text/plain": [
       "White                                     1470\n",
       "Hispanic                                   500\n",
       "Black                                      228\n",
       "Asian                                       95\n",
       "More than one race                          81\n",
       "American Indian/Alaska Native               20\n",
       "Native Hawaiian/Other Pacific Islander      20\n",
       "Name: raceeth, dtype: int64"
      ]
     },
     "execution_count": 9,
     "metadata": {},
     "output_type": "execute_result"
    }
   ],
   "source": [
    "pisaTrain.raceeth.value_counts()"
   ]
  },
  {
   "cell_type": "code",
   "execution_count": 10,
   "metadata": {},
   "outputs": [
    {
     "name": "stdout",
     "output_type": "stream",
     "text": [
      "Categorical column(s) with more than 3 levels are: Raceeth\n"
     ]
    }
   ],
   "source": [
    "print('Categorical column(s) with more than 3 levels are: Raceeth')"
   ]
  },
  {
   "cell_type": "markdown",
   "metadata": {},
   "source": [
    "### 6)\tTo include unordered categorical variables in a linear regression model, we define one level as the \"reference level\" and add a binary variable for each of the remaining levels. In this way, a categorical variable with n levels is replaced by n-1 binary variables. The reference level is typically selected to be the most frequently occurring level in the data-set or the first level in alphabetical order. ( We can change from one Level to another as well, Note:- This makes no difference to our solution, it remains the same irrespective of the reference taken) \n",
    "\n",
    "As an example, consider the unordered categorical variable variable \"color\", with levels \"red\", \"green\", and \"blue\". If \"green\" were the reference level, then we would add binary variables \"colorRed\" and \"colorBlue\" to a linear regression problem. All red examples would have colorRed=1 and colorBlue=0. All blue examples would have colorRed=0 and colorBlue=1. All green examples would have colorRed=0 and colorBlue=0. \n",
    "\n",
    "Now, consider the variable \"raceeth\" in our problem, which has levels \"American Indian/Alaska Native\", \"Asian\", \"Black\", \"Hispanic\", \"More than one race\", \"Native Hawaiian/Other Pacific Islander\", and \"White\". \n",
    "\n",
    "### If we select White as the reference level, which binary variables will be included in the regression model? (Select all that apply.)\n"
   ]
  },
  {
   "cell_type": "code",
   "execution_count": 11,
   "metadata": {},
   "outputs": [
    {
     "name": "stdout",
     "output_type": "stream",
     "text": [
      "Binary variables that will be included in the regression model are..\n",
      "\n",
      "American Indian/Alaska Native\n",
      "Asian\n",
      "Black\n",
      "Hispanic\n",
      "More than one race\n",
      "Native Hawaiian/Other Pacific Islander\n"
     ]
    }
   ],
   "source": [
    "df_raceeth = pd.get_dummies(pisaTrain['raceeth'])\n",
    "\n",
    "df_raceeth.drop(labels=['White'],axis=1,inplace=True)\n",
    "#dropping White as it is the reference\n",
    "\n",
    "print('Binary variables that will be included in the regression model are..\\n')\n",
    "for i,j in  DataFrame(df_raceeth.columns).iterrows():\n",
    "    print(DataFrame(df_raceeth.columns)[0][i])"
   ]
  },
  {
   "cell_type": "markdown",
   "metadata": {},
   "source": [
    "### 7)\tConsider again adding our unordered Category race to the regression model with reference level \"White\". \n",
    "\n",
    "### For a student who is Asian, which binary variables would be set to 0? All remaining variables will be set to 1. \n"
   ]
  },
  {
   "cell_type": "code",
   "execution_count": 12,
   "metadata": {},
   "outputs": [
    {
     "name": "stdout",
     "output_type": "stream",
     "text": [
      "Columns that would be set to 0 for an Asian student..\n",
      "\n",
      "American Indian/Alaska Native\n",
      "Black\n",
      "Hispanic\n",
      "More than one race\n",
      "Native Hawaiian/Other Pacific Islander\n",
      "White\n"
     ]
    }
   ],
   "source": [
    "df_Asian = df_raceeth[df_raceeth['Asian']==1]\n",
    "listColumns = list(df_Asian.columns)\n",
    "\n",
    "print('Columns that would be set to 0 for an Asian student..\\n')\n",
    "for i in listColumns:\n",
    "    if(df_Asian[i].all()==0):\n",
    "        print(i)\n",
    "#The refernce is white and hence,\n",
    "print('White')"
   ]
  },
  {
   "cell_type": "markdown",
   "metadata": {},
   "source": [
    "### 8)\tFor a student who is white, which binary variables would be set to 0? All remaining variables will be set to 1."
   ]
  },
  {
   "cell_type": "code",
   "execution_count": 13,
   "metadata": {},
   "outputs": [
    {
     "name": "stdout",
     "output_type": "stream",
     "text": [
      "Columns that would be set to 0 for a White student..\n",
      "\n",
      "American Indian/Alaska Native\n",
      "Asian\n",
      "Black\n",
      "Hispanic\n",
      "More than one race\n",
      "Native Hawaiian/Other Pacific Islander\n"
     ]
    }
   ],
   "source": [
    "df_Asian = df_raceeth[df_raceeth['Asian']==1]\n",
    "listColumns = list(df_Asian.columns)\n",
    "\n",
    "print('Columns that would be set to 0 for a White student..\\n')\n",
    "for i in listColumns:\n",
    "    print(i)"
   ]
  },
  {
   "cell_type": "markdown",
   "metadata": {},
   "source": [
    "### 9)\tBecause the race variable takes on text values, we will have to create Dummy Variables before we run Modeling on the data. \n",
    "\n",
    "### Build a linear regression model (call it lmScore) using the training set to predict readingScore using all the remaining variables. (Including the dummies). Remember to omit one of the dummy variable ( the omitted dummy will be the reference) \n",
    "\n",
    "### What is the Multiple R-squared value of lmScore on the training set?\n"
   ]
  },
  {
   "cell_type": "code",
   "execution_count": 14,
   "metadata": {},
   "outputs": [
    {
     "name": "stdout",
     "output_type": "stream",
     "text": [
      "('R-squared value of LinearRegression model on the training set is', 0.3)\n"
     ]
    }
   ],
   "source": [
    "pisaTrain = pd.get_dummies(pisaTrain, drop_first= True)\n",
    "pisaTest = pd.get_dummies(pisaTest, drop_first= True)\n",
    "x= pisaTrain.drop('readingScore', axis = 1)\n",
    "y= pisaTrain.readingScore\n",
    "lmScore = LinearRegression()\n",
    "lmScore.fit(x,y)\n",
    "ypred=lmScore.predict(x)\n",
    "print('R-squared value of LinearRegression model on the training set is',round(r2_score(y,ypred),1))"
   ]
  },
  {
   "cell_type": "markdown",
   "metadata": {},
   "source": [
    "### 10)\tWhat is the training-set root-mean squared error (RMSE) of lmScore?"
   ]
  },
  {
   "cell_type": "code",
   "execution_count": 15,
   "metadata": {},
   "outputs": [
    {
     "name": "stdout",
     "output_type": "stream",
     "text": [
      "('Root-Mean Squared Error (RMSE) of lmScore on the training set is', 73.37)\n"
     ]
    }
   ],
   "source": [
    "rmse=round(np.sqrt(metrics.mean_squared_error(y,ypred)),2)\n",
    "print('Root-Mean Squared Error (RMSE) of lmScore on the training set is',rmse)"
   ]
  },
  {
   "cell_type": "markdown",
   "metadata": {},
   "source": [
    "### 11)\tConsider two students A and B. They have all variable values the same, except that student A is in grade 11 and student B is in grade 9. What is the predicted reading score of student A minus the predicted reading score of student B?"
   ]
  },
  {
   "cell_type": "code",
   "execution_count": 16,
   "metadata": {},
   "outputs": [
    {
     "name": "stdout",
     "output_type": "stream",
     "text": [
      "('The predicted reading score of student A minus the predicted reading score of student B is:', 59.09)\n"
     ]
    }
   ],
   "source": [
    "coef = lmScore.coef_\n",
    "difference = round((11*coef[0])-(9*coef[0]),2)\n",
    "print('The predicted reading score of student A minus the predicted reading score of student B is:',difference)"
   ]
  },
  {
   "cell_type": "markdown",
   "metadata": {},
   "source": [
    "### 12)\tWhat is the meaning of the coefficient associated with variable raceethAsian?"
   ]
  },
  {
   "cell_type": "code",
   "execution_count": 17,
   "metadata": {},
   "outputs": [
    {
     "name": "stdout",
     "output_type": "stream",
     "text": [
      "('The coefficient associated with variable ', 'raceeth_Asian', ' is : 63.1670')\n",
      "This coefficent means that if the student is asian 63.167 will be added to the reading score \n"
     ]
    }
   ],
   "source": [
    "print('The coefficient associated with variable ',x.columns[22],' is : %3.4f' % lmScore.coef_[22])\n",
    "print('This coefficent means that if the student is asian 63.167 will be added to the reading score ')"
   ]
  },
  {
   "cell_type": "markdown",
   "metadata": {},
   "source": [
    "### 13)\tBased on the significance codes, which variables out of these are candidates for removal from the model? Select all that apply. (The factor variable raceeth should only be removed if none of its levels are significant.)"
   ]
  },
  {
   "cell_type": "code",
   "execution_count": 18,
   "metadata": {},
   "outputs": [
    {
     "name": "stdout",
     "output_type": "stream",
     "text": [
      "                            OLS Regression Results                            \n",
      "==============================================================================\n",
      "Dep. Variable:                      y   R-squared:                       0.325\n",
      "Model:                            OLS   Adj. R-squared:                  0.317\n",
      "Method:                 Least Squares   F-statistic:                     41.04\n",
      "Date:                Tue, 12 Feb 2019   Prob (F-statistic):          1.72e-180\n",
      "Time:                        04:42:45   Log-Likelihood:                -13795.\n",
      "No. Observations:                2414   AIC:                         2.765e+04\n",
      "Df Residuals:                    2385   BIC:                         2.781e+04\n",
      "Df Model:                          28                                         \n",
      "Covariance Type:            nonrobust                                         \n",
      "==============================================================================\n",
      "                 coef    std err          t      P>|t|      [0.025      0.975]\n",
      "------------------------------------------------------------------------------\n",
      "Intercept     76.4890     37.303      2.050      0.040       3.340     149.638\n",
      "x[0]          29.5427      2.937     10.057      0.000      23.783      35.303\n",
      "x[1]         -14.5217      3.156     -4.601      0.000     -20.710      -8.333\n",
      "x[2]          -4.4637      3.486     -1.280      0.201     -11.300       2.372\n",
      "x[3]          55.2671      4.294     12.871      0.000      46.847      63.687\n",
      "x[4]           6.0588      6.091      0.995      0.320      -5.886      18.004\n",
      "x[5]          12.6381      3.861      3.273      0.001       5.066      20.210\n",
      "x[6]          -2.8091      3.522     -0.798      0.425      -9.715       4.097\n",
      "x[7]           4.0182      5.579      0.720      0.471      -6.923      14.959\n",
      "x[8]          16.9298      3.995      4.237      0.000       9.095      24.764\n",
      "x[9]           5.8428      4.396      1.329      0.184      -2.778      14.463\n",
      "x[10]         -3.8063      7.324     -0.520      0.603     -18.168      10.555\n",
      "x[11]         -8.7982      6.588     -1.336      0.182     -21.716       4.120\n",
      "x[12]          4.3070      6.264      0.688      0.492      -7.976      16.590\n",
      "x[13]          8.0357      6.859      1.171      0.242      -5.415      21.487\n",
      "x[14]         22.5002      5.703      3.946      0.000      11.318      33.683\n",
      "x[15]         34.8719      3.408     10.231      0.000      28.188      41.556\n",
      "x[16]          0.0128      0.011      1.194      0.233      -0.008       0.034\n",
      "x[17]         -0.2866      0.228     -1.258      0.208      -0.733       0.160\n",
      "x[18]         12.2151      9.265      1.318      0.187      -5.953      30.383\n",
      "x[19]        -16.8575      6.726     -2.506      0.012     -30.046      -3.669\n",
      "x[20]         -0.1101      3.963     -0.028      0.978      -7.881       7.661\n",
      "x[21]          0.0065      0.002      2.977      0.003       0.002       0.011\n",
      "x[22]         63.1670     18.973      3.329      0.001      25.962     100.372\n",
      "x[23]          0.2650     17.370      0.015      0.988     -33.796      34.326\n",
      "x[24]         28.3018     17.259      1.640      0.101      -5.542      62.146\n",
      "x[25]         50.3548     18.570      2.712      0.007      13.940      86.770\n",
      "x[26]         62.1757     23.783      2.614      0.009      15.539     108.813\n",
      "x[27]         67.2773     16.787      4.008      0.000      34.359     100.196\n",
      "==============================================================================\n",
      "Omnibus:                        8.273   Durbin-Watson:                   1.998\n",
      "Prob(Omnibus):                  0.016   Jarque-Bera (JB):                8.362\n",
      "Skew:                          -0.141   Prob(JB):                       0.0153\n",
      "Kurtosis:                       2.943   Cond. No.                     5.17e+04\n",
      "==============================================================================\n",
      "\n",
      "Warnings:\n",
      "[1] Standard Errors assume that the covariance matrix of the errors is correctly specified.\n",
      "[2] The condition number is large, 5.17e+04. This might indicate that there are\n",
      "strong multicollinearity or other numerical problems.\n"
     ]
    }
   ],
   "source": [
    "lm1 = smf.ols('y~x',pisaTrain).fit()\n",
    "print(lm1.summary())"
   ]
  },
  {
   "cell_type": "code",
   "execution_count": 19,
   "metadata": {},
   "outputs": [
    {
     "data": {
      "text/plain": [
       "Index([u'grade', u'male', u'preschool', u'expectBachelors', u'motherHS',\n",
       "       u'motherBachelors', u'motherWork', u'fatherHS', u'fatherBachelors',\n",
       "       u'fatherWork', u'selfBornUS', u'motherBornUS', u'fatherBornUS',\n",
       "       u'englishAtHome', u'computerForSchoolwork', u'read30MinsADay',\n",
       "       u'minutesPerWeekEnglish', u'studentsInEnglish', u'schoolHasLibrary',\n",
       "       u'publicSchool', u'urban', u'schoolSize', u'raceeth_Asian',\n",
       "       u'raceeth_Black', u'raceeth_Hispanic', u'raceeth_More than one race',\n",
       "       u'raceeth_Native Hawaiian/Other Pacific Islander', u'raceeth_White'],\n",
       "      dtype='object')"
      ]
     },
     "execution_count": 19,
     "metadata": {},
     "output_type": "execute_result"
    }
   ],
   "source": [
    "x.columns"
   ]
  },
  {
   "cell_type": "code",
   "execution_count": 20,
   "metadata": {},
   "outputs": [
    {
     "name": "stdout",
     "output_type": "stream",
     "text": [
      "The variables which are the candidates for removal from the model based on significance codes are: \n",
      "preschool, \n",
      "fatherHS, \n",
      "motherHS, \n",
      "motherWork, \n",
      "preschool, \n",
      "motherHS, \n",
      "fatherHS, \n",
      "selfBornUS, \n",
      "motherBornUS, \n",
      "fatherBornUS, \n",
      "minutesPerWeekEnglish, \n",
      "studentsInEnglish, \n",
      "schoolHasLibrary, \n",
      "schoolSize, \n",
      "raceeth_Hispanic\n"
     ]
    }
   ],
   "source": [
    "print('The variables which are the candidates for removal from the model based on significance codes are: \\npreschool, \\nfatherHS, \\nmotherHS, \\nmotherWork, \\npreschool, \\nmotherHS, \\nfatherHS, \\nselfBornUS, \\nmotherBornUS, \\nfatherBornUS, \\nminutesPerWeekEnglish, \\nstudentsInEnglish, \\nschoolHasLibrary, \\nschoolSize, \\nraceeth_Hispanic')"
   ]
  },
  {
   "cell_type": "markdown",
   "metadata": {},
   "source": [
    "### 14)\tUsing the \"predict\" function , use the lmScore model to predict the reading scores of students in pisaTest. Call this list of predictions \"predTest\". Do not change the variables in the model (for example, do not remove variables that we found were not significant in the previous part of this problem). \n",
    "\n",
    "### What is the range between the maximum and minimum predicted reading score on the test set?\n"
   ]
  },
  {
   "cell_type": "code",
   "execution_count": 21,
   "metadata": {},
   "outputs": [
    {
     "name": "stdout",
     "output_type": "stream",
     "text": [
      "('The range of maximum value in pred Test 637.69', 'and minimum value 353.22 ', 'is :   284')\n"
     ]
    }
   ],
   "source": [
    "x_test = pisaTest.drop('readingScore', axis=1)\n",
    "y_test = pisaTest.readingScore\n",
    "predTest = lmScore.predict(x_test)\n",
    "print('The range of maximum value in pred Test %5.2f' %max(predTest), 'and minimum value %5.2f ' %min(predTest), 'is : %5.0f' %(max(predTest) - min(predTest)))"
   ]
  },
  {
   "cell_type": "markdown",
   "metadata": {},
   "source": [
    "### 15)\tWhat is the sum of squared errors (SSE) of lmScore on the testing set? \n",
    "_____ (give a integer) \n",
    "\n",
    "### What is the root-mean squared error (RMSE) of lmScore on the testing set? \n",
    "_____ (give in 2 decimals)\n"
   ]
  },
  {
   "cell_type": "code",
   "execution_count": 22,
   "metadata": {},
   "outputs": [
    {
     "name": "stdout",
     "output_type": "stream",
     "text": [
      "('The sum of squared errors (SSE) of lmScore on the testing set is : ', 5762082)\n",
      "('The root-mean squared error (RMSE) of lmScore on the testing set is : ', 76.29)\n"
     ]
    }
   ],
   "source": [
    "SSE_test= round(np.sum((y_test-predTest)**2))\n",
    "rmse_test = round(np.sqrt(np.mean((y_test-predTest)**2)),2)\n",
    "print('The sum of squared errors (SSE) of lmScore on the testing set is : ', int(SSE_test))\n",
    "print('The root-mean squared error (RMSE) of lmScore on the testing set is : ', rmse_test)"
   ]
  },
  {
   "cell_type": "markdown",
   "metadata": {},
   "source": [
    "### 16)\tWhat is the predicted test score used in the baseline model? Remember to compute this value using the training set and not the test set."
   ]
  },
  {
   "cell_type": "code",
   "execution_count": 23,
   "metadata": {},
   "outputs": [
    {
     "name": "stdout",
     "output_type": "stream",
     "text": [
      "The predicted test score using the baseline model will be : 517.96\n"
     ]
    }
   ],
   "source": [
    "pred_baseline = np.mean(y)\n",
    "print('The predicted test score using the baseline model will be : %3.2f' %pred_baseline)"
   ]
  },
  {
   "cell_type": "markdown",
   "metadata": {},
   "source": [
    "### 17)\tWhat is the sum of squared errors of the baseline model on the testing set? HINT: We call the sum of squared errors for the baseline model the total sum of squares (SST)."
   ]
  },
  {
   "cell_type": "code",
   "execution_count": 24,
   "metadata": {},
   "outputs": [
    {
     "name": "stdout",
     "output_type": "stream",
     "text": [
      "('The sum of squared errors of the baseline model on the testing set is ', 7802354)\n"
     ]
    }
   ],
   "source": [
    "SSE_baseline= round(np.sum((y_test-pred_baseline)**2))\n",
    "print('The sum of squared errors of the baseline model on the testing set is ', int(SSE_baseline))"
   ]
  },
  {
   "cell_type": "markdown",
   "metadata": {},
   "source": [
    "### 18)\tWhat is the test-set R-squared value of lmScore?"
   ]
  },
  {
   "cell_type": "code",
   "execution_count": 25,
   "metadata": {},
   "outputs": [
    {
     "name": "stdout",
     "output_type": "stream",
     "text": [
      "('R-squared value of lmScore on the training set is', 0.26)\n"
     ]
    }
   ],
   "source": [
    "print('R-squared value of lmScore on the training set is',round(r2_score(y_test,predTest),2))"
   ]
  }
 ],
 "metadata": {
  "kernelspec": {
   "display_name": "Python 2",
   "language": "python",
   "name": "python2"
  },
  "language_info": {
   "codemirror_mode": {
    "name": "ipython",
    "version": 2
   },
   "file_extension": ".py",
   "mimetype": "text/x-python",
   "name": "python",
   "nbconvert_exporter": "python",
   "pygments_lexer": "ipython2",
   "version": "2.7.15"
  }
 },
 "nbformat": 4,
 "nbformat_minor": 2
}
