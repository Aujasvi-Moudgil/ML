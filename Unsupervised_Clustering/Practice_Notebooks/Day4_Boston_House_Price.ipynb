{
 "cells": [
  {
   "cell_type": "code",
   "execution_count": 43,
   "metadata": {},
   "outputs": [],
   "source": [
    "import pandas as pd\n",
    "import numpy as np\n",
    "import matplotlib.pyplot as plt # this is for visualization\n",
    "import seaborn as sns # for visualization\n",
    "%matplotlib inline\n",
    "from sklearn.linear_model import LinearRegression"
   ]
  },
  {
   "cell_type": "markdown",
   "metadata": {},
   "source": [
    "# House Price Prediction using Kaggle"
   ]
  },
  {
   "cell_type": "code",
   "execution_count": 44,
   "metadata": {},
   "outputs": [],
   "source": [
    "train = pd.read_csv(\"Housetrain.csv\")\n",
    "test = pd.read_csv(\"Housetest.csv\")"
   ]
  },
  {
   "cell_type": "code",
   "execution_count": 45,
   "metadata": {},
   "outputs": [
    {
     "data": {
      "text/html": [
       "<div>\n",
       "<style scoped>\n",
       "    .dataframe tbody tr th:only-of-type {\n",
       "        vertical-align: middle;\n",
       "    }\n",
       "\n",
       "    .dataframe tbody tr th {\n",
       "        vertical-align: top;\n",
       "    }\n",
       "\n",
       "    .dataframe thead th {\n",
       "        text-align: right;\n",
       "    }\n",
       "</style>\n",
       "<table border=\"1\" class=\"dataframe\">\n",
       "  <thead>\n",
       "    <tr style=\"text-align: right;\">\n",
       "      <th></th>\n",
       "      <th>Id</th>\n",
       "      <th>MSSubClass</th>\n",
       "      <th>MSZoning</th>\n",
       "      <th>LotFrontage</th>\n",
       "      <th>LotArea</th>\n",
       "      <th>Street</th>\n",
       "      <th>Alley</th>\n",
       "      <th>LotShape</th>\n",
       "      <th>LandContour</th>\n",
       "      <th>Utilities</th>\n",
       "      <th>...</th>\n",
       "      <th>PoolArea</th>\n",
       "      <th>PoolQC</th>\n",
       "      <th>Fence</th>\n",
       "      <th>MiscFeature</th>\n",
       "      <th>MiscVal</th>\n",
       "      <th>MoSold</th>\n",
       "      <th>YrSold</th>\n",
       "      <th>SaleType</th>\n",
       "      <th>SaleCondition</th>\n",
       "      <th>SalePrice</th>\n",
       "    </tr>\n",
       "  </thead>\n",
       "  <tbody>\n",
       "    <tr>\n",
       "      <th>0</th>\n",
       "      <td>1</td>\n",
       "      <td>60</td>\n",
       "      <td>RL</td>\n",
       "      <td>65</td>\n",
       "      <td>8450</td>\n",
       "      <td>Pave</td>\n",
       "      <td>Grvl</td>\n",
       "      <td>Reg</td>\n",
       "      <td>Lvl</td>\n",
       "      <td>AllPub</td>\n",
       "      <td>...</td>\n",
       "      <td>0</td>\n",
       "      <td>Gd</td>\n",
       "      <td>MnPrv</td>\n",
       "      <td>Shed</td>\n",
       "      <td>0</td>\n",
       "      <td>2</td>\n",
       "      <td>2008</td>\n",
       "      <td>WD</td>\n",
       "      <td>Normal</td>\n",
       "      <td>208500</td>\n",
       "    </tr>\n",
       "    <tr>\n",
       "      <th>1</th>\n",
       "      <td>2</td>\n",
       "      <td>20</td>\n",
       "      <td>RL</td>\n",
       "      <td>80</td>\n",
       "      <td>9600</td>\n",
       "      <td>Pave</td>\n",
       "      <td>Grvl</td>\n",
       "      <td>Reg</td>\n",
       "      <td>Lvl</td>\n",
       "      <td>AllPub</td>\n",
       "      <td>...</td>\n",
       "      <td>0</td>\n",
       "      <td>Gd</td>\n",
       "      <td>MnPrv</td>\n",
       "      <td>Shed</td>\n",
       "      <td>0</td>\n",
       "      <td>5</td>\n",
       "      <td>2007</td>\n",
       "      <td>WD</td>\n",
       "      <td>Normal</td>\n",
       "      <td>181500</td>\n",
       "    </tr>\n",
       "    <tr>\n",
       "      <th>2</th>\n",
       "      <td>3</td>\n",
       "      <td>60</td>\n",
       "      <td>RL</td>\n",
       "      <td>68</td>\n",
       "      <td>11250</td>\n",
       "      <td>Pave</td>\n",
       "      <td>Grvl</td>\n",
       "      <td>IR1</td>\n",
       "      <td>Lvl</td>\n",
       "      <td>AllPub</td>\n",
       "      <td>...</td>\n",
       "      <td>0</td>\n",
       "      <td>Gd</td>\n",
       "      <td>MnPrv</td>\n",
       "      <td>Shed</td>\n",
       "      <td>0</td>\n",
       "      <td>9</td>\n",
       "      <td>2008</td>\n",
       "      <td>WD</td>\n",
       "      <td>Normal</td>\n",
       "      <td>223500</td>\n",
       "    </tr>\n",
       "    <tr>\n",
       "      <th>3</th>\n",
       "      <td>4</td>\n",
       "      <td>70</td>\n",
       "      <td>RL</td>\n",
       "      <td>60</td>\n",
       "      <td>9550</td>\n",
       "      <td>Pave</td>\n",
       "      <td>Grvl</td>\n",
       "      <td>IR1</td>\n",
       "      <td>Lvl</td>\n",
       "      <td>AllPub</td>\n",
       "      <td>...</td>\n",
       "      <td>0</td>\n",
       "      <td>Gd</td>\n",
       "      <td>MnPrv</td>\n",
       "      <td>Shed</td>\n",
       "      <td>0</td>\n",
       "      <td>2</td>\n",
       "      <td>2006</td>\n",
       "      <td>WD</td>\n",
       "      <td>Abnorml</td>\n",
       "      <td>140000</td>\n",
       "    </tr>\n",
       "    <tr>\n",
       "      <th>4</th>\n",
       "      <td>5</td>\n",
       "      <td>60</td>\n",
       "      <td>RL</td>\n",
       "      <td>84</td>\n",
       "      <td>14260</td>\n",
       "      <td>Pave</td>\n",
       "      <td>Grvl</td>\n",
       "      <td>IR1</td>\n",
       "      <td>Lvl</td>\n",
       "      <td>AllPub</td>\n",
       "      <td>...</td>\n",
       "      <td>0</td>\n",
       "      <td>Gd</td>\n",
       "      <td>MnPrv</td>\n",
       "      <td>Shed</td>\n",
       "      <td>0</td>\n",
       "      <td>12</td>\n",
       "      <td>2008</td>\n",
       "      <td>WD</td>\n",
       "      <td>Normal</td>\n",
       "      <td>250000</td>\n",
       "    </tr>\n",
       "  </tbody>\n",
       "</table>\n",
       "<p>5 rows × 81 columns</p>\n",
       "</div>"
      ],
      "text/plain": [
       "   Id  MSSubClass MSZoning  LotFrontage  LotArea Street Alley LotShape  \\\n",
       "0   1          60       RL           65     8450   Pave  Grvl      Reg   \n",
       "1   2          20       RL           80     9600   Pave  Grvl      Reg   \n",
       "2   3          60       RL           68    11250   Pave  Grvl      IR1   \n",
       "3   4          70       RL           60     9550   Pave  Grvl      IR1   \n",
       "4   5          60       RL           84    14260   Pave  Grvl      IR1   \n",
       "\n",
       "  LandContour Utilities    ...     PoolArea PoolQC  Fence MiscFeature MiscVal  \\\n",
       "0         Lvl    AllPub    ...            0     Gd  MnPrv        Shed       0   \n",
       "1         Lvl    AllPub    ...            0     Gd  MnPrv        Shed       0   \n",
       "2         Lvl    AllPub    ...            0     Gd  MnPrv        Shed       0   \n",
       "3         Lvl    AllPub    ...            0     Gd  MnPrv        Shed       0   \n",
       "4         Lvl    AllPub    ...            0     Gd  MnPrv        Shed       0   \n",
       "\n",
       "  MoSold YrSold  SaleType  SaleCondition  SalePrice  \n",
       "0      2   2008        WD         Normal     208500  \n",
       "1      5   2007        WD         Normal     181500  \n",
       "2      9   2008        WD         Normal     223500  \n",
       "3      2   2006        WD        Abnorml     140000  \n",
       "4     12   2008        WD         Normal     250000  \n",
       "\n",
       "[5 rows x 81 columns]"
      ]
     },
     "execution_count": 45,
     "metadata": {},
     "output_type": "execute_result"
    }
   ],
   "source": [
    "df1.head()"
   ]
  },
  {
   "cell_type": "code",
   "execution_count": 46,
   "metadata": {},
   "outputs": [
    {
     "data": {
      "text/plain": [
       "<matplotlib.axes._subplots.AxesSubplot at 0x13d6dcb9518>"
      ]
     },
     "execution_count": 46,
     "metadata": {},
     "output_type": "execute_result"
    },
    {
     "data": {
      "image/png": "[encoded data removed]",
      "text/plain": [
       "<Figure size 432x288 with 2 Axes>"
      ]
     },
     "metadata": {
      "needs_background": "light"
     },
     "output_type": "display_data"
    }
   ],
   "source": [
    "#Checking the heatmap to find out the null value, if there is sum null value it will have white or black lines\n",
    "sns.heatmap(train.isnull())"
   ]
  },
  {
   "cell_type": "code",
   "execution_count": 47,
   "metadata": {},
   "outputs": [
    {
     "data": {
      "text/plain": [
       "Index(['Id', 'MSSubClass', 'MSZoning', 'LotFrontage', 'LotArea', 'Street',\n",
       "       'Alley', 'LotShape', 'LandContour', 'Utilities', 'LotConfig',\n",
       "       'LandSlope', 'Neighborhood', 'Condition1', 'Condition2', 'BldgType',\n",
       "       'HouseStyle', 'OverallQual', 'OverallCond', 'YearBuilt', 'YearRemodAdd',\n",
       "       'RoofStyle', 'RoofMatl', 'Exterior1st', 'Exterior2nd', 'MasVnrType',\n",
       "       'MasVnrArea', 'ExterQual', 'ExterCond', 'Foundation', 'BsmtQual',\n",
       "       'BsmtCond', 'BsmtExposure', 'BsmtFinType1', 'BsmtFinSF1',\n",
       "       'BsmtFinType2', 'BsmtFinSF2', 'BsmtUnfSF', 'TotalBsmtSF', 'Heating',\n",
       "       'HeatingQC', 'CentralAir', 'Electrical', 'X1stFlrSF', 'X2ndFlrSF',\n",
       "       'LowQualFinSF', 'GrLivArea', 'BsmtFullBath', 'BsmtHalfBath', 'FullBath',\n",
       "       'HalfBath', 'BedroomAbvGr', 'KitchenAbvGr', 'KitchenQual',\n",
       "       'TotRmsAbvGrd', 'Functional', 'Fireplaces', 'FireplaceQu', 'GarageType',\n",
       "       'GarageYrBlt', 'GarageFinish', 'GarageCars', 'GarageArea', 'GarageQual',\n",
       "       'GarageCond', 'PavedDrive', 'WoodDeckSF', 'OpenPorchSF',\n",
       "       'EnclosedPorch', 'X3SsnPorch', 'ScreenPorch', 'PoolArea', 'PoolQC',\n",
       "       'Fence', 'MiscFeature', 'MiscVal', 'MoSold', 'YrSold', 'SaleType',\n",
       "       'SaleCondition', 'SalePrice'],\n",
       "      dtype='object')"
      ]
     },
     "execution_count": 47,
     "metadata": {},
     "output_type": "execute_result"
    }
   ],
   "source": [
    "train.columns"
   ]
  },
  {
   "cell_type": "code",
   "execution_count": 48,
   "metadata": {},
   "outputs": [],
   "source": [
    "SalePrice = ['SalePrice']"
   ]
  },
  {
   "cell_type": "code",
   "execution_count": 49,
   "metadata": {},
   "outputs": [],
   "source": [
    "#Converting the Data into Dummies\n",
    "newtrain = pd.get_dummies(x)"
   ]
  },
  {
   "cell_type": "code",
   "execution_count": 50,
   "metadata": {},
   "outputs": [
    {
     "data": {
      "text/plain": [
       "Index(['Id', 'MSSubClass', 'LotFrontage', 'LotArea', 'OverallQual',\n",
       "       'OverallCond', 'YearBuilt', 'YearRemodAdd', 'MasVnrArea', 'BsmtFinSF1',\n",
       "       ...\n",
       "       'SaleType_ConLw', 'SaleType_New', 'SaleType_Oth', 'SaleType_WD',\n",
       "       'SaleCondition_Abnorml', 'SaleCondition_AdjLand',\n",
       "       'SaleCondition_Alloca', 'SaleCondition_Family', 'SaleCondition_Normal',\n",
       "       'SaleCondition_Partial'],\n",
       "      dtype='object', length=290)"
      ]
     },
     "execution_count": 50,
     "metadata": {},
     "output_type": "execute_result"
    }
   ],
   "source": [
    "newtrain.columns"
   ]
  },
  {
   "cell_type": "code",
   "execution_count": null,
   "metadata": {},
   "outputs": [],
   "source": [
    "n="
   ]
  },
  {
   "cell_type": "code",
   "execution_count": 51,
   "metadata": {},
   "outputs": [],
   "source": [
    "#Apply standard scaler then drop the saleprice column\n",
    "from sklearn.preprocessing import StandardScaler"
   ]
  },
  {
   "cell_type": "code",
   "execution_count": 52,
   "metadata": {},
   "outputs": [],
   "source": [
    "sc = StandardScaler()"
   ]
  },
  {
   "cell_type": "code",
   "execution_count": null,
   "metadata": {},
   "outputs": [],
   "source": [
    "s"
   ]
  },
  {
   "cell_type": "code",
   "execution_count": 53,
   "metadata": {},
   "outputs": [
    {
     "name": "stderr",
     "output_type": "stream",
     "text": [
      "C:\\Users\\aujas\\AppData\\Local\\Programs\\Python\\Python37\\lib\\site-packages\\sklearn\\preprocessing\\data.py:625: DataConversionWarning: Data with input dtype uint8, int64 were all converted to float64 by StandardScaler.\n",
      "  return self.partial_fit(X, y)\n",
      "C:\\Users\\aujas\\AppData\\Local\\Programs\\Python\\Python37\\lib\\site-packages\\sklearn\\base.py:462: DataConversionWarning: Data with input dtype uint8, int64 were all converted to float64 by StandardScaler.\n",
      "  return self.fit(X, **fit_params).transform(X)\n"
     ]
    }
   ],
   "source": [
    "anothernewtrain = sc.fit_transform(newtrain)"
   ]
  },
  {
   "cell_type": "code",
   "execution_count": 54,
   "metadata": {},
   "outputs": [],
   "source": [
    "onemoretrain = pd.DataFrame(anothernewtrain)"
   ]
  },
  {
   "cell_type": "code",
   "execution_count": 55,
   "metadata": {},
   "outputs": [],
   "source": [
    "onemoretrain.columns = newtrain.columns"
   ]
  },
  {
   "cell_type": "code",
   "execution_count": 56,
   "metadata": {},
   "outputs": [
    {
     "data": {
      "text/html": [
       "<div>\n",
       "<style scoped>\n",
       "    .dataframe tbody tr th:only-of-type {\n",
       "        vertical-align: middle;\n",
       "    }\n",
       "\n",
       "    .dataframe tbody tr th {\n",
       "        vertical-align: top;\n",
       "    }\n",
       "\n",
       "    .dataframe thead th {\n",
       "        text-align: right;\n",
       "    }\n",
       "</style>\n",
       "<table border=\"1\" class=\"dataframe\">\n",
       "  <thead>\n",
       "    <tr style=\"text-align: right;\">\n",
       "      <th></th>\n",
       "      <th>Id</th>\n",
       "      <th>MSSubClass</th>\n",
       "      <th>LotFrontage</th>\n",
       "      <th>LotArea</th>\n",
       "      <th>OverallQual</th>\n",
       "      <th>OverallCond</th>\n",
       "      <th>YearBuilt</th>\n",
       "      <th>YearRemodAdd</th>\n",
       "      <th>MasVnrArea</th>\n",
       "      <th>BsmtFinSF1</th>\n",
       "      <th>...</th>\n",
       "      <th>SaleType_ConLw</th>\n",
       "      <th>SaleType_New</th>\n",
       "      <th>SaleType_Oth</th>\n",
       "      <th>SaleType_WD</th>\n",
       "      <th>SaleCondition_Abnorml</th>\n",
       "      <th>SaleCondition_AdjLand</th>\n",
       "      <th>SaleCondition_Alloca</th>\n",
       "      <th>SaleCondition_Family</th>\n",
       "      <th>SaleCondition_Normal</th>\n",
       "      <th>SaleCondition_Partial</th>\n",
       "    </tr>\n",
       "  </thead>\n",
       "  <tbody>\n",
       "    <tr>\n",
       "      <th>0</th>\n",
       "      <td>-1.730865</td>\n",
       "      <td>0.073375</td>\n",
       "      <td>-0.220875</td>\n",
       "      <td>-0.207142</td>\n",
       "      <td>0.651479</td>\n",
       "      <td>-0.517200</td>\n",
       "      <td>1.050994</td>\n",
       "      <td>0.878668</td>\n",
       "      <td>0.514104</td>\n",
       "      <td>0.575425</td>\n",
       "      <td>...</td>\n",
       "      <td>-0.058621</td>\n",
       "      <td>-0.301962</td>\n",
       "      <td>-0.045376</td>\n",
       "      <td>0.390293</td>\n",
       "      <td>-0.272616</td>\n",
       "      <td>-0.052414</td>\n",
       "      <td>-0.091035</td>\n",
       "      <td>-0.117851</td>\n",
       "      <td>0.467651</td>\n",
       "      <td>-0.305995</td>\n",
       "    </tr>\n",
       "    <tr>\n",
       "      <th>1</th>\n",
       "      <td>-1.728492</td>\n",
       "      <td>-0.872563</td>\n",
       "      <td>0.460320</td>\n",
       "      <td>-0.091886</td>\n",
       "      <td>-0.071836</td>\n",
       "      <td>2.179628</td>\n",
       "      <td>0.156734</td>\n",
       "      <td>-0.429577</td>\n",
       "      <td>-0.570750</td>\n",
       "      <td>1.171992</td>\n",
       "      <td>...</td>\n",
       "      <td>-0.058621</td>\n",
       "      <td>-0.301962</td>\n",
       "      <td>-0.045376</td>\n",
       "      <td>0.390293</td>\n",
       "      <td>-0.272616</td>\n",
       "      <td>-0.052414</td>\n",
       "      <td>-0.091035</td>\n",
       "      <td>-0.117851</td>\n",
       "      <td>0.467651</td>\n",
       "      <td>-0.305995</td>\n",
       "    </tr>\n",
       "    <tr>\n",
       "      <th>2</th>\n",
       "      <td>-1.726120</td>\n",
       "      <td>0.073375</td>\n",
       "      <td>-0.084636</td>\n",
       "      <td>0.073480</td>\n",
       "      <td>0.651479</td>\n",
       "      <td>-0.517200</td>\n",
       "      <td>0.984752</td>\n",
       "      <td>0.830215</td>\n",
       "      <td>0.325915</td>\n",
       "      <td>0.092907</td>\n",
       "      <td>...</td>\n",
       "      <td>-0.058621</td>\n",
       "      <td>-0.301962</td>\n",
       "      <td>-0.045376</td>\n",
       "      <td>0.390293</td>\n",
       "      <td>-0.272616</td>\n",
       "      <td>-0.052414</td>\n",
       "      <td>-0.091035</td>\n",
       "      <td>-0.117851</td>\n",
       "      <td>0.467651</td>\n",
       "      <td>-0.305995</td>\n",
       "    </tr>\n",
       "    <tr>\n",
       "      <th>3</th>\n",
       "      <td>-1.723747</td>\n",
       "      <td>0.309859</td>\n",
       "      <td>-0.447940</td>\n",
       "      <td>-0.096897</td>\n",
       "      <td>0.651479</td>\n",
       "      <td>-0.517200</td>\n",
       "      <td>-1.863632</td>\n",
       "      <td>-0.720298</td>\n",
       "      <td>-0.570750</td>\n",
       "      <td>-0.499274</td>\n",
       "      <td>...</td>\n",
       "      <td>-0.058621</td>\n",
       "      <td>-0.301962</td>\n",
       "      <td>-0.045376</td>\n",
       "      <td>0.390293</td>\n",
       "      <td>3.668167</td>\n",
       "      <td>-0.052414</td>\n",
       "      <td>-0.091035</td>\n",
       "      <td>-0.117851</td>\n",
       "      <td>-2.138345</td>\n",
       "      <td>-0.305995</td>\n",
       "    </tr>\n",
       "    <tr>\n",
       "      <th>4</th>\n",
       "      <td>-1.721374</td>\n",
       "      <td>0.073375</td>\n",
       "      <td>0.641972</td>\n",
       "      <td>0.375148</td>\n",
       "      <td>1.374795</td>\n",
       "      <td>-0.517200</td>\n",
       "      <td>0.951632</td>\n",
       "      <td>0.733308</td>\n",
       "      <td>1.366489</td>\n",
       "      <td>0.463568</td>\n",
       "      <td>...</td>\n",
       "      <td>-0.058621</td>\n",
       "      <td>-0.301962</td>\n",
       "      <td>-0.045376</td>\n",
       "      <td>0.390293</td>\n",
       "      <td>-0.272616</td>\n",
       "      <td>-0.052414</td>\n",
       "      <td>-0.091035</td>\n",
       "      <td>-0.117851</td>\n",
       "      <td>0.467651</td>\n",
       "      <td>-0.305995</td>\n",
       "    </tr>\n",
       "  </tbody>\n",
       "</table>\n",
       "<p>5 rows × 290 columns</p>\n",
       "</div>"
      ],
      "text/plain": [
       "         Id  MSSubClass  LotFrontage   LotArea  OverallQual  OverallCond  \\\n",
       "0 -1.730865    0.073375    -0.220875 -0.207142     0.651479    -0.517200   \n",
       "1 -1.728492   -0.872563     0.460320 -0.091886    -0.071836     2.179628   \n",
       "2 -1.726120    0.073375    -0.084636  0.073480     0.651479    -0.517200   \n",
       "3 -1.723747    0.309859    -0.447940 -0.096897     0.651479    -0.517200   \n",
       "4 -1.721374    0.073375     0.641972  0.375148     1.374795    -0.517200   \n",
       "\n",
       "   YearBuilt  YearRemodAdd  MasVnrArea  BsmtFinSF1          ...            \\\n",
       "0   1.050994      0.878668    0.514104    0.575425          ...             \n",
       "1   0.156734     -0.429577   -0.570750    1.171992          ...             \n",
       "2   0.984752      0.830215    0.325915    0.092907          ...             \n",
       "3  -1.863632     -0.720298   -0.570750   -0.499274          ...             \n",
       "4   0.951632      0.733308    1.366489    0.463568          ...             \n",
       "\n",
       "   SaleType_ConLw  SaleType_New  SaleType_Oth  SaleType_WD  \\\n",
       "0       -0.058621     -0.301962     -0.045376     0.390293   \n",
       "1       -0.058621     -0.301962     -0.045376     0.390293   \n",
       "2       -0.058621     -0.301962     -0.045376     0.390293   \n",
       "3       -0.058621     -0.301962     -0.045376     0.390293   \n",
       "4       -0.058621     -0.301962     -0.045376     0.390293   \n",
       "\n",
       "   SaleCondition_Abnorml  SaleCondition_AdjLand  SaleCondition_Alloca  \\\n",
       "0              -0.272616              -0.052414             -0.091035   \n",
       "1              -0.272616              -0.052414             -0.091035   \n",
       "2              -0.272616              -0.052414             -0.091035   \n",
       "3               3.668167              -0.052414             -0.091035   \n",
       "4              -0.272616              -0.052414             -0.091035   \n",
       "\n",
       "   SaleCondition_Family  SaleCondition_Normal  SaleCondition_Partial  \n",
       "0             -0.117851              0.467651              -0.305995  \n",
       "1             -0.117851              0.467651              -0.305995  \n",
       "2             -0.117851              0.467651              -0.305995  \n",
       "3             -0.117851             -2.138345              -0.305995  \n",
       "4             -0.117851              0.467651              -0.305995  \n",
       "\n",
       "[5 rows x 290 columns]"
      ]
     },
     "execution_count": 56,
     "metadata": {},
     "output_type": "execute_result"
    }
   ],
   "source": [
    "onemoretrain.head()"
   ]
  },
  {
   "cell_type": "code",
   "execution_count": 70,
   "metadata": {},
   "outputs": [],
   "source": [
    "finaltrain = onemoretrain.drop(\"Id\",axis=1)"
   ]
  },
  {
   "cell_type": "code",
   "execution_count": 71,
   "metadata": {},
   "outputs": [],
   "source": [
    "#Create the a copy of Scaled Data\n",
    "finaltrain.copy = finaltrain"
   ]
  },
  {
   "cell_type": "code",
   "execution_count": 72,
   "metadata": {},
   "outputs": [],
   "source": [
    "from sklearn.decomposition import PCA"
   ]
  },
  {
   "cell_type": "code",
   "execution_count": 73,
   "metadata": {},
   "outputs": [],
   "source": [
    "#No. of components = 120\n",
    "pc = PCA(n_components=None)"
   ]
  },
  {
   "cell_type": "code",
   "execution_count": 81,
   "metadata": {},
   "outputs": [
    {
     "data": {
      "text/plain": [
       "0.8213427744671231"
      ]
     },
     "execution_count": 81,
     "metadata": {},
     "output_type": "execute_result"
    }
   ],
   "source": [
    "#How much first 120 pca - components are contributing \n",
    "variance = 0 \n",
    "for i in range(120):\n",
    "    variance = variance + pc.explained_variance_ratio_[i]\n",
    "variance\n",
    "    "
   ]
  },
  {
   "cell_type": "code",
   "execution_count": 74,
   "metadata": {},
   "outputs": [],
   "source": [
    "finaltrain = pc.fit_transform(finaltrain)"
   ]
  },
  {
   "cell_type": "code",
   "execution_count": 75,
   "metadata": {},
   "outputs": [
    {
     "data": {
      "text/plain": [
       "array([6.49536942e+00, 2.90780864e+00, 2.38958260e+00, 1.95343917e+00,\n",
       "       1.66342013e+00, 1.59482114e+00, 1.43819736e+00, 1.28899690e+00,\n",
       "       1.27100312e+00, 1.20646154e+00, 1.15281796e+00, 1.10578571e+00,\n",
       "       1.07061122e+00, 1.04732817e+00, 1.00249674e+00, 9.74886237e-01,\n",
       "       9.71694754e-01, 9.35493195e-01, 9.31830545e-01, 8.87095792e-01,\n",
       "       8.69766278e-01, 8.49125195e-01, 8.44291835e-01, 8.27399413e-01,\n",
       "       8.11204655e-01, 8.00024492e-01, 7.90256744e-01, 7.73724306e-01,\n",
       "       7.56288228e-01, 7.52634439e-01, 7.39272686e-01, 7.29230211e-01,\n",
       "       7.22350330e-01, 7.07113463e-01, 7.00739912e-01, 6.94820056e-01,\n",
       "       6.92455181e-01, 6.79942966e-01, 6.63677645e-01, 6.48059714e-01,\n",
       "       6.37159064e-01, 6.34461880e-01, 6.27204224e-01, 6.10932458e-01,\n",
       "       6.00554894e-01, 5.97708175e-01, 5.91345094e-01, 5.87641158e-01,\n",
       "       5.71543665e-01, 5.70103191e-01, 5.66496164e-01, 5.57561261e-01,\n",
       "       5.50787732e-01, 5.43969704e-01, 5.37527846e-01, 5.33770185e-01,\n",
       "       5.25095070e-01, 5.21675003e-01, 5.15924859e-01, 5.10766729e-01,\n",
       "       5.06119729e-01, 4.96477540e-01, 4.91479407e-01, 4.83621375e-01,\n",
       "       4.82195172e-01, 4.74983687e-01, 4.72655501e-01, 4.69240354e-01,\n",
       "       4.66575289e-01, 4.65123169e-01, 4.57454694e-01, 4.53142168e-01,\n",
       "       4.46372403e-01, 4.44024704e-01, 4.41798348e-01, 4.37588645e-01,\n",
       "       4.30598111e-01, 4.29709076e-01, 4.26386702e-01, 4.24435884e-01,\n",
       "       4.18911227e-01, 4.13819324e-01, 4.08865410e-01, 4.04921372e-01,\n",
       "       3.99753261e-01, 3.97807984e-01, 3.95127586e-01, 3.91589052e-01,\n",
       "       3.89269048e-01, 3.88713688e-01, 3.85839143e-01, 3.76872510e-01,\n",
       "       3.74472727e-01, 3.72774094e-01, 3.70289987e-01, 3.67269938e-01,\n",
       "       3.65483138e-01, 3.63170545e-01, 3.60300852e-01, 3.53888156e-01,\n",
       "       3.51796415e-01, 3.50705462e-01, 3.48341907e-01, 3.42790165e-01,\n",
       "       3.40449286e-01, 3.36193030e-01, 3.34996378e-01, 3.34001858e-01,\n",
       "       3.27359848e-01, 3.24980999e-01, 3.21522949e-01, 3.19982673e-01,\n",
       "       3.18047670e-01, 3.15422573e-01, 3.12159952e-01, 3.09814316e-01,\n",
       "       3.06697512e-01, 3.04556151e-01, 3.02637814e-01, 2.98953048e-01,\n",
       "       2.94110364e-01, 2.91805192e-01, 2.87785204e-01, 2.86183846e-01,\n",
       "       2.84177574e-01, 2.82752867e-01, 2.80102708e-01, 2.77773227e-01,\n",
       "       2.72768521e-01, 2.71347830e-01, 2.68019151e-01, 2.65465379e-01,\n",
       "       2.63249230e-01, 2.61703141e-01, 2.59862925e-01, 2.57043229e-01,\n",
       "       2.54704174e-01, 2.53666744e-01, 2.49356983e-01, 2.46436140e-01,\n",
       "       2.44730795e-01, 2.41991880e-01, 2.39857380e-01, 2.36613862e-01,\n",
       "       2.32271050e-01, 2.31994433e-01, 2.29531359e-01, 2.27564743e-01,\n",
       "       2.24853054e-01, 2.19981595e-01, 2.17441710e-01, 2.13482904e-01,\n",
       "       2.12353730e-01, 2.10860924e-01, 2.06889984e-01, 2.04423443e-01,\n",
       "       2.02567771e-01, 2.00990964e-01, 2.00765166e-01, 1.96595131e-01,\n",
       "       1.92029541e-01, 1.91049811e-01, 1.88630247e-01, 1.85274421e-01,\n",
       "       1.83203088e-01, 1.81596912e-01, 1.80027271e-01, 1.78285978e-01,\n",
       "       1.76746138e-01, 1.73790952e-01, 1.71824643e-01, 1.70254855e-01,\n",
       "       1.63378231e-01, 1.61862085e-01, 1.60249108e-01, 1.57684348e-01,\n",
       "       1.53300596e-01, 1.50431591e-01, 1.49901818e-01, 1.49448050e-01,\n",
       "       1.47347611e-01, 1.45126983e-01, 1.44074491e-01, 1.39473771e-01,\n",
       "       1.37659553e-01, 1.36331354e-01, 1.34176875e-01, 1.32973092e-01,\n",
       "       1.31396940e-01, 1.25288361e-01, 1.23789805e-01, 1.21047633e-01,\n",
       "       1.19190260e-01, 1.17472640e-01, 1.14409292e-01, 1.11211279e-01,\n",
       "       1.09522311e-01, 1.06271347e-01, 1.05210788e-01, 1.02989287e-01,\n",
       "       9.88221511e-02, 9.60383576e-02, 9.54903304e-02, 9.16964485e-02,\n",
       "       8.87448527e-02, 8.70486869e-02, 8.32944730e-02, 7.94723617e-02,\n",
       "       7.87923859e-02, 7.60351348e-02, 7.46214007e-02, 7.15253052e-02,\n",
       "       7.11943276e-02, 6.65762798e-02, 6.49261901e-02, 6.18857599e-02,\n",
       "       5.72341103e-02, 5.64520451e-02, 5.41536640e-02, 5.28504610e-02,\n",
       "       5.21342442e-02, 5.08146100e-02, 4.96332134e-02, 4.70583646e-02,\n",
       "       4.32439389e-02, 4.05633301e-02, 3.85210682e-02, 3.54865127e-02,\n",
       "       3.52893497e-02, 3.27747412e-02, 2.83790437e-02, 2.67983779e-02,\n",
       "       2.38645638e-02, 2.31139808e-02, 2.08260358e-02, 1.79577843e-02,\n",
       "       1.51963087e-02, 1.34796095e-02, 1.16031770e-02, 6.97236748e-03,\n",
       "       6.17595709e-03, 5.97004178e-03, 5.00154163e-03, 1.27627876e-30,\n",
       "       2.37393132e-31, 2.28072804e-31, 2.05387843e-31, 1.82607184e-31,\n",
       "       1.75440181e-31, 1.63037923e-31, 1.49790996e-31, 1.43432092e-31,\n",
       "       1.34070399e-31, 1.19363351e-31, 1.11408838e-31, 1.05841842e-31,\n",
       "       9.96187559e-32, 8.94468519e-32, 7.68034964e-32, 7.62458767e-32,\n",
       "       7.35284564e-32, 7.11051558e-32, 6.85515726e-32, 6.32280323e-32,\n",
       "       5.56049688e-32, 5.35357749e-32, 4.79011595e-32, 4.21987514e-32,\n",
       "       3.95922489e-32, 3.89614474e-32, 3.60424050e-32, 3.48979784e-32,\n",
       "       3.24680430e-32, 3.22593403e-32, 2.78276350e-32, 2.74039431e-32,\n",
       "       2.67624819e-32, 2.66318887e-32, 2.52520979e-32, 2.52520979e-32,\n",
       "       2.52520979e-32, 2.52520979e-32, 1.80015193e-32, 1.35518782e-32,\n",
       "       9.30202506e-33, 8.52339624e-33, 4.36479529e-33, 2.65724861e-33,\n",
       "       1.23579201e-34])"
      ]
     },
     "execution_count": 75,
     "metadata": {},
     "output_type": "execute_result"
    }
   ],
   "source": [
    "pc.explained_variance_ratio_*100"
   ]
  },
  {
   "cell_type": "code",
   "execution_count": 76,
   "metadata": {},
   "outputs": [],
   "source": [
    "again_final_train = pd.DataFrame(finaltrain)"
   ]
  },
  {
   "cell_type": "code",
   "execution_count": 77,
   "metadata": {},
   "outputs": [
    {
     "data": {
      "text/plain": [
       "(1460, 289)"
      ]
     },
     "execution_count": 77,
     "metadata": {},
     "output_type": "execute_result"
    }
   ],
   "source": [
    "again_final_train.shape"
   ]
  },
  {
   "cell_type": "code",
   "execution_count": 84,
   "metadata": {},
   "outputs": [],
   "source": [
    "x = train.drop(\"SalePrice\",axis=1)\n",
    "y = train.SalePrice"
   ]
  },
  {
   "cell_type": "code",
   "execution_count": 85,
   "metadata": {},
   "outputs": [],
   "source": [
    "from sklearn.linear_model import LinearRegression\n",
    "lg = LinearRegression()"
   ]
  }
 ],
 "metadata": {
  "kernelspec": {
   "display_name": "Python 3",
   "language": "python",
   "name": "python3"
  },
  "language_info": {
   "codemirror_mode": {
    "name": "ipython",
    "version": 3
   },
   "file_extension": ".py",
   "mimetype": "text/x-python",
   "name": "python",
   "nbconvert_exporter": "python",
   "pygments_lexer": "ipython3",
   "version": "3.7.0"
  }
 },
 "nbformat": 4,
 "nbformat_minor": 2
}
