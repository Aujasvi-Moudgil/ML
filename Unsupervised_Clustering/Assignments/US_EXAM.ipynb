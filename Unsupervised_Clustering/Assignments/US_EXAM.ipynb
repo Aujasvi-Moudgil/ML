{
 "cells": [
  {
   "cell_type": "code",
   "execution_count": 5,
   "metadata": {},
   "outputs": [],
   "source": [
    "import pandas as pd\n",
    "import numpy as np\n",
    "from sklearn import preprocessing\n",
    "from sklearn.cluster import KMeans\n",
    "import matplotlib.pyplot as plt\n",
    "%matplotlib inline\n",
    "from sklearn.metrics import silhouette_score\n",
    "import scipy.cluster.hierarchy as sch\n",
    "from sklearn.cluster import AgglomerativeClustering\n",
    "from sklearn import metrics\n",
    "from sklearn import tree\n",
    "from sklearn.model_selection import train_test_split\n",
    "from sklearn.decomposition import PCA\n",
    "from sklearn.preprocessing import StandardScaler\n",
    "from mpl_toolkits.mplot3d import Axes3D"
   ]
  },
  {
   "cell_type": "markdown",
   "metadata": {},
   "source": [
    "# Read the data into Jupyter Environment – 2 Marks"
   ]
  },
  {
   "cell_type": "code",
   "execution_count": 32,
   "metadata": {},
   "outputs": [],
   "source": [
    "df=pd.read_csv('Cricket.csv',encoding='cp1252')"
   ]
  },
  {
   "cell_type": "code",
   "execution_count": 33,
   "metadata": {},
   "outputs": [
    {
     "data": {
      "text/html": [
       "<div>\n",
       "<style scoped>\n",
       "    .dataframe tbody tr th:only-of-type {\n",
       "        vertical-align: middle;\n",
       "    }\n",
       "\n",
       "    .dataframe tbody tr th {\n",
       "        vertical-align: top;\n",
       "    }\n",
       "\n",
       "    .dataframe thead th {\n",
       "        text-align: right;\n",
       "    }\n",
       "</style>\n",
       "<table border=\"1\" class=\"dataframe\">\n",
       "  <thead>\n",
       "    <tr style=\"text-align: right;\">\n",
       "      <th></th>\n",
       "      <th>Player</th>\n",
       "      <th>Span</th>\n",
       "      <th>Mat</th>\n",
       "      <th>Inns</th>\n",
       "      <th>NO</th>\n",
       "      <th>Runs</th>\n",
       "      <th>HS</th>\n",
       "      <th>Ave</th>\n",
       "      <th>BF</th>\n",
       "      <th>SR</th>\n",
       "      <th>100</th>\n",
       "      <th>50</th>\n",
       "      <th>0</th>\n",
       "    </tr>\n",
       "  </thead>\n",
       "  <tbody>\n",
       "    <tr>\n",
       "      <th>0</th>\n",
       "      <td>SR Tendulkar (INDIA)</td>\n",
       "      <td>1989-2012</td>\n",
       "      <td>463</td>\n",
       "      <td>452</td>\n",
       "      <td>41</td>\n",
       "      <td>18426</td>\n",
       "      <td>200*</td>\n",
       "      <td>44.83</td>\n",
       "      <td>21367</td>\n",
       "      <td>86.23</td>\n",
       "      <td>49</td>\n",
       "      <td>96</td>\n",
       "      <td>20</td>\n",
       "    </tr>\n",
       "    <tr>\n",
       "      <th>1</th>\n",
       "      <td>KC Sangakkara (Asia/ICC/SL)</td>\n",
       "      <td>2000-2015</td>\n",
       "      <td>404</td>\n",
       "      <td>380</td>\n",
       "      <td>41</td>\n",
       "      <td>14234</td>\n",
       "      <td>169</td>\n",
       "      <td>41.98</td>\n",
       "      <td>18048</td>\n",
       "      <td>78.86</td>\n",
       "      <td>25</td>\n",
       "      <td>93</td>\n",
       "      <td>15</td>\n",
       "    </tr>\n",
       "    <tr>\n",
       "      <th>2</th>\n",
       "      <td>RT Ponting (AUS/ICC)</td>\n",
       "      <td>1995-2012</td>\n",
       "      <td>375</td>\n",
       "      <td>365</td>\n",
       "      <td>39</td>\n",
       "      <td>13704</td>\n",
       "      <td>164</td>\n",
       "      <td>42.03</td>\n",
       "      <td>17046</td>\n",
       "      <td>80.39</td>\n",
       "      <td>30</td>\n",
       "      <td>82</td>\n",
       "      <td>20</td>\n",
       "    </tr>\n",
       "    <tr>\n",
       "      <th>3</th>\n",
       "      <td>ST Jayasuriya (Asia/SL)</td>\n",
       "      <td>1989-2011</td>\n",
       "      <td>445</td>\n",
       "      <td>433</td>\n",
       "      <td>18</td>\n",
       "      <td>13430</td>\n",
       "      <td>189</td>\n",
       "      <td>32.36</td>\n",
       "      <td>14725</td>\n",
       "      <td>91.20</td>\n",
       "      <td>28</td>\n",
       "      <td>68</td>\n",
       "      <td>34</td>\n",
       "    </tr>\n",
       "    <tr>\n",
       "      <th>4</th>\n",
       "      <td>DPMD Jayawardene (Asia/SL)</td>\n",
       "      <td>1998-2015</td>\n",
       "      <td>448</td>\n",
       "      <td>418</td>\n",
       "      <td>39</td>\n",
       "      <td>12650</td>\n",
       "      <td>144</td>\n",
       "      <td>33.37</td>\n",
       "      <td>16020</td>\n",
       "      <td>78.96</td>\n",
       "      <td>19</td>\n",
       "      <td>77</td>\n",
       "      <td>28</td>\n",
       "    </tr>\n",
       "  </tbody>\n",
       "</table>\n",
       "</div>"
      ],
      "text/plain": [
       "                        Player       Span  Mat  Inns  NO   Runs    HS    Ave  \\\n",
       "0         SR Tendulkar (INDIA)  1989-2012  463   452  41  18426  200*  44.83   \n",
       "1  KC Sangakkara (Asia/ICC/SL)  2000-2015  404   380  41  14234   169  41.98   \n",
       "2         RT Ponting (AUS/ICC)  1995-2012  375   365  39  13704   164  42.03   \n",
       "3      ST Jayasuriya (Asia/SL)  1989-2011  445   433  18  13430   189  32.36   \n",
       "4   DPMD Jayawardene (Asia/SL)  1998-2015  448   418  39  12650   144  33.37   \n",
       "\n",
       "      BF     SR  100  50   0  \n",
       "0  21367  86.23   49  96  20  \n",
       "1  18048  78.86   25  93  15  \n",
       "2  17046  80.39   30  82  20  \n",
       "3  14725  91.20   28  68  34  \n",
       "4  16020  78.96   19  77  28  "
      ]
     },
     "execution_count": 33,
     "metadata": {},
     "output_type": "execute_result"
    }
   ],
   "source": [
    "df.head()"
   ]
  },
  {
   "cell_type": "code",
   "execution_count": 34,
   "metadata": {},
   "outputs": [
    {
     "name": "stdout",
     "output_type": "stream",
     "text": [
      "<class 'pandas.core.frame.DataFrame'>\n",
      "RangeIndex: 79 entries, 0 to 78\n",
      "Data columns (total 13 columns):\n",
      "Player    79 non-null object\n",
      "Span      79 non-null object\n",
      "Mat       79 non-null int64\n",
      "Inns      79 non-null int64\n",
      "NO        79 non-null int64\n",
      "Runs      79 non-null int64\n",
      "HS        79 non-null object\n",
      "Ave       79 non-null float64\n",
      "BF        79 non-null int64\n",
      "SR        79 non-null float64\n",
      "100       79 non-null int64\n",
      "50        79 non-null int64\n",
      "0         79 non-null int64\n",
      "dtypes: float64(2), int64(8), object(3)\n",
      "memory usage: 8.1+ KB\n"
     ]
    }
   ],
   "source": [
    "df.info()# no null values"
   ]
  },
  {
   "cell_type": "code",
   "execution_count": 35,
   "metadata": {},
   "outputs": [
    {
     "data": {
      "text/plain": [
       "array(['200*', '137*', '161*', '141*', '183*', '153*', '162*', '152*',\n",
       "       '132*', '134*', '120*', '131*', '119*', '145*', '108*', '188*',\n",
       "       '189*', '142*', '139*', '127*', '174*', '181*', '140*', '124*',\n",
       "       '113*', '185*', '116*', '237*', '109*', '144*', '150*', '133*',\n",
       "       '96*'], dtype=object)"
      ]
     },
     "execution_count": 35,
     "metadata": {},
     "output_type": "execute_result"
    }
   ],
   "source": [
    "df.HS[df.HS.str.isdigit()==False].unique()#show  other than digits"
   ]
  },
  {
   "cell_type": "markdown",
   "metadata": {},
   "source": [
    "# Regular Expression for filtering"
   ]
  },
  {
   "cell_type": "code",
   "execution_count": 36,
   "metadata": {},
   "outputs": [],
   "source": [
    "docs = df['HS'].index\n",
    "docs=df[\"HS\"]"
   ]
  },
  {
   "cell_type": "code",
   "execution_count": 37,
   "metadata": {},
   "outputs": [
    {
     "data": {
      "text/plain": [
       "0     200*\n",
       "1      169\n",
       "2      164\n",
       "3      189\n",
       "4      144\n",
       "5     137*\n",
       "6      139\n",
       "7      183\n",
       "8      153\n",
       "9      169\n",
       "10    161*\n",
       "11    141*\n",
       "12     172\n",
       "13    183*\n",
       "14    153*\n",
       "15    162*\n",
       "16     145\n",
       "17     215\n",
       "18     194\n",
       "19     150\n",
       "20     150\n",
       "21    152*\n",
       "22    132*\n",
       "23     173\n",
       "24     219\n",
       "25     183\n",
       "26     175\n",
       "27     124\n",
       "28    134*\n",
       "29     130\n",
       "      ... \n",
       "49    181*\n",
       "50     166\n",
       "51     145\n",
       "52     122\n",
       "53     121\n",
       "54    140*\n",
       "55    119*\n",
       "56    120*\n",
       "57    124*\n",
       "58    113*\n",
       "59    185*\n",
       "60     154\n",
       "61    116*\n",
       "62     112\n",
       "63    237*\n",
       "64    109*\n",
       "65     264\n",
       "66     141\n",
       "67     119\n",
       "68    144*\n",
       "69    145*\n",
       "70    150*\n",
       "71    131*\n",
       "72    133*\n",
       "73    119*\n",
       "74    133*\n",
       "75     96*\n",
       "76    120*\n",
       "77     156\n",
       "78     112\n",
       "Name: HS, Length: 79, dtype: object"
      ]
     },
     "execution_count": 37,
     "metadata": {},
     "output_type": "execute_result"
    }
   ],
   "source": [
    "docs"
   ]
  },
  {
   "cell_type": "code",
   "execution_count": 38,
   "metadata": {},
   "outputs": [],
   "source": [
    "docs=docs.str.replace('[*]', '')# regular expression"
   ]
  },
  {
   "cell_type": "code",
   "execution_count": 39,
   "metadata": {},
   "outputs": [
    {
     "data": {
      "text/plain": [
       "0     200\n",
       "1     169\n",
       "2     164\n",
       "3     189\n",
       "4     144\n",
       "5     137\n",
       "6     139\n",
       "7     183\n",
       "8     153\n",
       "9     169\n",
       "10    161\n",
       "11    141\n",
       "12    172\n",
       "13    183\n",
       "14    153\n",
       "15    162\n",
       "16    145\n",
       "17    215\n",
       "18    194\n",
       "19    150\n",
       "20    150\n",
       "21    152\n",
       "22    132\n",
       "23    173\n",
       "24    219\n",
       "25    183\n",
       "26    175\n",
       "27    124\n",
       "28    134\n",
       "29    130\n",
       "     ... \n",
       "49    181\n",
       "50    166\n",
       "51    145\n",
       "52    122\n",
       "53    121\n",
       "54    140\n",
       "55    119\n",
       "56    120\n",
       "57    124\n",
       "58    113\n",
       "59    185\n",
       "60    154\n",
       "61    116\n",
       "62    112\n",
       "63    237\n",
       "64    109\n",
       "65    264\n",
       "66    141\n",
       "67    119\n",
       "68    144\n",
       "69    145\n",
       "70    150\n",
       "71    131\n",
       "72    133\n",
       "73    119\n",
       "74    133\n",
       "75     96\n",
       "76    120\n",
       "77    156\n",
       "78    112\n",
       "Name: HS, Length: 79, dtype: object"
      ]
     },
     "execution_count": 39,
     "metadata": {},
     "output_type": "execute_result"
    }
   ],
   "source": [
    "docs"
   ]
  },
  {
   "cell_type": "code",
   "execution_count": 40,
   "metadata": {},
   "outputs": [],
   "source": [
    "df[\"HS\"]=docs"
   ]
  },
  {
   "cell_type": "code",
   "execution_count": 41,
   "metadata": {},
   "outputs": [
    {
     "data": {
      "text/plain": [
       "array([], dtype=object)"
      ]
     },
     "execution_count": 41,
     "metadata": {},
     "output_type": "execute_result"
    }
   ],
   "source": [
    "df.HS[df.HS.str.isdigit()==False].unique()# lets check for conformation"
   ]
  },
  {
   "cell_type": "markdown",
   "metadata": {},
   "source": [
    "# type casting"
   ]
  },
  {
   "cell_type": "code",
   "execution_count": 42,
   "metadata": {},
   "outputs": [],
   "source": [
    "df['HS']=df.HS.astype('float')"
   ]
  },
  {
   "cell_type": "code",
   "execution_count": 43,
   "metadata": {},
   "outputs": [
    {
     "name": "stdout",
     "output_type": "stream",
     "text": [
      "<class 'pandas.core.frame.DataFrame'>\n",
      "RangeIndex: 79 entries, 0 to 78\n",
      "Data columns (total 13 columns):\n",
      "Player    79 non-null object\n",
      "Span      79 non-null object\n",
      "Mat       79 non-null int64\n",
      "Inns      79 non-null int64\n",
      "NO        79 non-null int64\n",
      "Runs      79 non-null int64\n",
      "HS        79 non-null float64\n",
      "Ave       79 non-null float64\n",
      "BF        79 non-null int64\n",
      "SR        79 non-null float64\n",
      "100       79 non-null int64\n",
      "50        79 non-null int64\n",
      "0         79 non-null int64\n",
      "dtypes: float64(3), int64(8), object(2)\n",
      "memory usage: 8.1+ KB\n"
     ]
    }
   ],
   "source": [
    "df.info()"
   ]
  },
  {
   "cell_type": "markdown",
   "metadata": {},
   "source": [
    "# standardize the variables - 2 marks"
   ]
  },
  {
   "cell_type": "markdown",
   "metadata": {},
   "source": [
    "# Zscore transformation"
   ]
  },
  {
   "cell_type": "code",
   "execution_count": 75,
   "metadata": {},
   "outputs": [
    {
     "data": {
      "text/plain": [
       "Index(['Player', 'Span', 'Mat', 'Inns', 'NO', 'Runs', 'HS', 'Ave', 'BF', 'SR',\n",
       "       '100', '50', '0'],\n",
       "      dtype='object')"
      ]
     },
     "execution_count": 75,
     "metadata": {},
     "output_type": "execute_result"
    }
   ],
   "source": [
    "df.columns"
   ]
  },
  {
   "cell_type": "markdown",
   "metadata": {},
   "source": [
    "clustring Analysis (k-Means)is done only on all variables except Players,span variables because these are object.we need to convert dummies but no use converting beccause of domain knowledge because there is no constant number of uniques items of respective attributes ie  day by day possiblity of diferent names,differnt span is there."
   ]
  },
  {
   "cell_type": "code",
   "execution_count": 76,
   "metadata": {},
   "outputs": [],
   "source": [
    "from scipy.stats import zscore\n",
    "x = df.loc[:,['Mat', 'Inns', 'NO', 'Runs', 'HS', 'Ave', 'BF', 'SR','100', '50', '0']].apply(zscore) "
   ]
  },
  {
   "cell_type": "code",
   "execution_count": 77,
   "metadata": {},
   "outputs": [
    {
     "data": {
      "text/html": [
       "<div>\n",
       "<style scoped>\n",
       "    .dataframe tbody tr th:only-of-type {\n",
       "        vertical-align: middle;\n",
       "    }\n",
       "\n",
       "    .dataframe tbody tr th {\n",
       "        vertical-align: top;\n",
       "    }\n",
       "\n",
       "    .dataframe thead th {\n",
       "        text-align: right;\n",
       "    }\n",
       "</style>\n",
       "<table border=\"1\" class=\"dataframe\">\n",
       "  <thead>\n",
       "    <tr style=\"text-align: right;\">\n",
       "      <th></th>\n",
       "      <th>Mat</th>\n",
       "      <th>Inns</th>\n",
       "      <th>NO</th>\n",
       "      <th>Runs</th>\n",
       "      <th>HS</th>\n",
       "      <th>Ave</th>\n",
       "      <th>BF</th>\n",
       "      <th>SR</th>\n",
       "      <th>100</th>\n",
       "      <th>50</th>\n",
       "      <th>0</th>\n",
       "    </tr>\n",
       "  </thead>\n",
       "  <tbody>\n",
       "    <tr>\n",
       "      <th>0</th>\n",
       "      <td>2.955282</td>\n",
       "      <td>3.169333</td>\n",
       "      <td>0.764963</td>\n",
       "      <td>4.262328</td>\n",
       "      <td>1.632443</td>\n",
       "      <td>1.072294</td>\n",
       "      <td>3.681214</td>\n",
       "      <td>0.703152</td>\n",
       "      <td>4.656726</td>\n",
       "      <td>3.050057</td>\n",
       "      <td>1.145837</td>\n",
       "    </tr>\n",
       "    <tr>\n",
       "      <th>1</th>\n",
       "      <td>2.155179</td>\n",
       "      <td>2.138915</td>\n",
       "      <td>0.764963</td>\n",
       "      <td>2.609117</td>\n",
       "      <td>0.635224</td>\n",
       "      <td>0.587725</td>\n",
       "      <td>2.635385</td>\n",
       "      <td>-0.044139</td>\n",
       "      <td>1.671888</td>\n",
       "      <td>2.865418</td>\n",
       "      <td>0.296671</td>\n",
       "    </tr>\n",
       "    <tr>\n",
       "      <th>2</th>\n",
       "      <td>1.761908</td>\n",
       "      <td>1.924245</td>\n",
       "      <td>0.625397</td>\n",
       "      <td>2.400099</td>\n",
       "      <td>0.474382</td>\n",
       "      <td>0.596226</td>\n",
       "      <td>2.319651</td>\n",
       "      <td>0.110997</td>\n",
       "      <td>2.293729</td>\n",
       "      <td>2.188406</td>\n",
       "      <td>1.145837</td>\n",
       "    </tr>\n",
       "    <tr>\n",
       "      <th>3</th>\n",
       "      <td>2.711183</td>\n",
       "      <td>2.897417</td>\n",
       "      <td>-0.840046</td>\n",
       "      <td>2.292041</td>\n",
       "      <td>1.278591</td>\n",
       "      <td>-1.047909</td>\n",
       "      <td>1.588295</td>\n",
       "      <td>1.207091</td>\n",
       "      <td>2.044992</td>\n",
       "      <td>1.326755</td>\n",
       "      <td>3.523501</td>\n",
       "    </tr>\n",
       "    <tr>\n",
       "      <th>4</th>\n",
       "      <td>2.751866</td>\n",
       "      <td>2.682747</td>\n",
       "      <td>0.625397</td>\n",
       "      <td>1.984430</td>\n",
       "      <td>-0.168986</td>\n",
       "      <td>-0.876185</td>\n",
       "      <td>1.996354</td>\n",
       "      <td>-0.034000</td>\n",
       "      <td>0.925678</td>\n",
       "      <td>1.880674</td>\n",
       "      <td>2.504502</td>\n",
       "    </tr>\n",
       "  </tbody>\n",
       "</table>\n",
       "</div>"
      ],
      "text/plain": [
       "        Mat      Inns        NO      Runs        HS       Ave        BF  \\\n",
       "0  2.955282  3.169333  0.764963  4.262328  1.632443  1.072294  3.681214   \n",
       "1  2.155179  2.138915  0.764963  2.609117  0.635224  0.587725  2.635385   \n",
       "2  1.761908  1.924245  0.625397  2.400099  0.474382  0.596226  2.319651   \n",
       "3  2.711183  2.897417 -0.840046  2.292041  1.278591 -1.047909  1.588295   \n",
       "4  2.751866  2.682747  0.625397  1.984430 -0.168986 -0.876185  1.996354   \n",
       "\n",
       "         SR       100        50         0  \n",
       "0  0.703152  4.656726  3.050057  1.145837  \n",
       "1 -0.044139  1.671888  2.865418  0.296671  \n",
       "2  0.110997  2.293729  2.188406  1.145837  \n",
       "3  1.207091  2.044992  1.326755  3.523501  \n",
       "4 -0.034000  0.925678  1.880674  2.504502  "
      ]
     },
     "execution_count": 77,
     "metadata": {},
     "output_type": "execute_result"
    }
   ],
   "source": [
    "x.head()"
   ]
  },
  {
   "cell_type": "code",
   "execution_count": 78,
   "metadata": {},
   "outputs": [
    {
     "data": {
      "text/plain": [
       "65"
      ]
     },
     "execution_count": 78,
     "metadata": {},
     "output_type": "execute_result"
    }
   ],
   "source": [
    "df.Span.nunique()"
   ]
  },
  {
   "cell_type": "code",
   "execution_count": 79,
   "metadata": {
    "scrolled": true
   },
   "outputs": [
    {
     "data": {
      "text/plain": [
       "1992-2003    3\n",
       "2002-2015    2\n",
       "1992-2000    2\n",
       "1982-1999    2\n",
       "2005-2017    2\n",
       "2007-2017    2\n",
       "1975-1991    2\n",
       "1996-2011    2\n",
       "1990-2007    2\n",
       "2008-2017    2\n",
       "2006-2017    2\n",
       "2000-2015    2\n",
       "2004-2015    2\n",
       "1989-2012    1\n",
       "1994-2004    1\n",
       "2005-2015    1\n",
       "2002-2013    1\n",
       "1978-1994    1\n",
       "1994-2011    1\n",
       "1992-2006    1\n",
       "1984-1995    1\n",
       "1989-2011    1\n",
       "1993-2003    1\n",
       "1993-2008    1\n",
       "1975-1996    1\n",
       "1992-2007    1\n",
       "1984-1994    1\n",
       "1987-2003    1\n",
       "1984-2003    1\n",
       "1999-2015    1\n",
       "            ..\n",
       "1985-1997    1\n",
       "2000-2013    1\n",
       "2001-2011    1\n",
       "1999-2013    1\n",
       "1996-2015    1\n",
       "1986-2002    1\n",
       "1998-2015    1\n",
       "1985-2000    1\n",
       "1998-2010    1\n",
       "2004-2012    1\n",
       "2009-2017    1\n",
       "2004-2017    1\n",
       "1996-2008    1\n",
       "1986-1999    1\n",
       "1992-2010    1\n",
       "2003-2013    1\n",
       "1998-2009    1\n",
       "2002-2016    1\n",
       "1991-2007    1\n",
       "1989-2003    1\n",
       "2003-2017    1\n",
       "1996-2010    1\n",
       "1999-2016    1\n",
       "1995-2007    1\n",
       "1995-2012    1\n",
       "2003-2015    1\n",
       "1994-2007    1\n",
       "1999-2017    1\n",
       "2000-2016    1\n",
       "1988-2002    1\n",
       "Name: Span, Length: 65, dtype: int64"
      ]
     },
     "execution_count": 79,
     "metadata": {},
     "output_type": "execute_result"
    }
   ],
   "source": [
    "df.Span.value_counts()"
   ]
  },
  {
   "cell_type": "code",
   "execution_count": 80,
   "metadata": {
    "scrolled": true
   },
   "outputs": [
    {
     "data": {
      "text/plain": [
       "79"
      ]
     },
     "execution_count": 80,
     "metadata": {},
     "output_type": "execute_result"
    }
   ],
   "source": [
    "df.Player.nunique()"
   ]
  },
  {
   "cell_type": "markdown",
   "metadata": {},
   "source": [
    "# Find out the optimal number of clusters - 3 Marks"
   ]
  },
  {
   "cell_type": "code",
   "execution_count": 81,
   "metadata": {},
   "outputs": [
    {
     "data": {
      "image/png": "[encoded data removed]",
      "text/plain": [
       "<Figure size 432x288 with 1 Axes>"
      ]
     },
     "metadata": {
      "needs_background": "light"
     },
     "output_type": "display_data"
    }
   ],
   "source": [
    "from sklearn.cluster import KMeans\n",
    "import matplotlib.pyplot as plt\n",
    "%matplotlib inline\n",
    "x\n",
    "ks=range(1,10)\n",
    "inertias=[]\n",
    "for k in ks:\n",
    "    # define the model\n",
    "    model=KMeans(n_clusters=k)\n",
    "    # fit the model\n",
    "    model.fit(x)\n",
    "    # append the inertia\n",
    "    inertias.append(model.inertia_)\n",
    "plt.plot(ks,inertias,'-o')\n",
    "plt.xlabel('no of cluster')\n",
    "plt.ylabel('inrtiass')\n",
    "plt.xticks(ks)\n",
    "plt.show()"
   ]
  },
  {
   "cell_type": "code",
   "execution_count": 82,
   "metadata": {},
   "outputs": [
    {
     "data": {
      "image/png": "[encoded data removed]",
      "text/plain": [
       "<Figure size 432x288 with 1 Axes>"
      ]
     },
     "metadata": {
      "needs_background": "light"
     },
     "output_type": "display_data"
    }
   ],
   "source": [
    "from sklearn.cluster import KMeans\n",
    "import matplotlib.pyplot as plt\n",
    "%matplotlib inline\n",
    "x\n",
    "ks=range(1,15)\n",
    "inertias=[]\n",
    "for k in ks:\n",
    "    # define the model\n",
    "    model=KMeans(n_clusters=k)\n",
    "    # fit the model\n",
    "    model.fit(x)\n",
    "    # append the inertia\n",
    "    inertias.append(model.inertia_)\n",
    "plt.plot(ks,inertias,'-o')\n",
    "plt.xlabel('no of cluster')\n",
    "plt.ylabel('inrtiass')\n",
    "plt.xticks(ks)\n",
    "plt.show()"
   ]
  },
  {
   "cell_type": "code",
   "execution_count": 83,
   "metadata": {},
   "outputs": [
    {
     "data": {
      "image/png": "[encoded data removed]",
      "text/plain": [
       "<Figure size 432x288 with 1 Axes>"
      ]
     },
     "metadata": {
      "needs_background": "light"
     },
     "output_type": "display_data"
    }
   ],
   "source": [
    "from sklearn.cluster import KMeans\n",
    "import matplotlib.pyplot as plt\n",
    "%matplotlib inline\n",
    "x\n",
    "ks=range(1,20)\n",
    "inertias=[]\n",
    "for k in ks:\n",
    "    # define the model\n",
    "    model=KMeans(n_clusters=k)\n",
    "    # fit the model\n",
    "    model.fit(x)\n",
    "    # append the inertia\n",
    "    inertias.append(model.inertia_)\n",
    "plt.plot(ks,inertias,'-o')\n",
    "plt.xlabel('no of cluster')\n",
    "plt.ylabel('inrtiass')\n",
    "plt.xticks(ks)\n",
    "plt.show()"
   ]
  },
  {
   "cell_type": "markdown",
   "metadata": {},
   "source": [
    "# Inference"
   ]
  },
  {
   "cell_type": "raw",
   "metadata": {},
   "source": [
    "Observing above graph no clusters at point from 10 onwards slope constantly changing no dynamic variation or fluctuations in graph 2 that means wcss values so slightly decrease rate\n",
    "so optimal number of cluster is 10"
   ]
  },
  {
   "cell_type": "markdown",
   "metadata": {},
   "source": [
    "# . Perform K-Means clustering - 4 Marks"
   ]
  },
  {
   "cell_type": "code",
   "execution_count": 84,
   "metadata": {},
   "outputs": [
    {
     "data": {
      "text/plain": [
       "KMeans(algorithm='auto', copy_x=True, init='k-means++', max_iter=300,\n",
       "    n_clusters=10, n_init=10, n_jobs=None, precompute_distances='auto',\n",
       "    random_state=None, tol=0.0001, verbose=0)"
      ]
     },
     "execution_count": 84,
     "metadata": {},
     "output_type": "execute_result"
    }
   ],
   "source": [
    "from sklearn.cluster import KMeans\n",
    "model=KMeans(n_clusters=10)\n",
    "model.fit(x)"
   ]
  },
  {
   "cell_type": "code",
   "execution_count": 85,
   "metadata": {},
   "outputs": [],
   "source": [
    "labels=model.predict(x)"
   ]
  },
  {
   "cell_type": "code",
   "execution_count": 89,
   "metadata": {},
   "outputs": [
    {
     "data": {
      "text/plain": [
       "array([6, 0, 0, 8, 8, 0, 0, 0, 0, 4, 4, 4, 9, 4, 4, 5, 4, 9, 9, 4, 4, 4,\n",
       "       4, 9, 9, 5, 9, 3, 7, 4, 4, 4, 1, 7, 5, 7, 7, 7, 1, 2, 7, 7, 2, 7,\n",
       "       7, 7, 2, 7, 7, 2, 3, 2, 7, 1, 7, 7, 1, 1, 1, 2, 7, 1, 1, 2, 1, 2,\n",
       "       2, 1, 1, 7, 2, 7, 7, 7, 2, 1, 1, 2, 1])"
      ]
     },
     "execution_count": 89,
     "metadata": {},
     "output_type": "execute_result"
    }
   ],
   "source": [
    "labels"
   ]
  },
  {
   "cell_type": "raw",
   "metadata": {},
   "source": [
    "conclusion:= clustring Analysis (k-Means)is done only on all variables except Players,span variables because these are object.we need to convert dummies but no use converting beccause of domain knowledge because there is no constant number of uniques items of respective attributes ie  day by day possiblity of diferent names,differnt span is there."
   ]
  },
  {
   "cell_type": "markdown",
   "metadata": {},
   "source": [
    "# . Attach clustered to each row - 5 Marks"
   ]
  },
  {
   "cell_type": "code",
   "execution_count": 91,
   "metadata": {},
   "outputs": [
    {
     "data": {
      "text/plain": [
       "Index(['Mat', 'Inns', 'NO', 'Runs', 'HS', 'Ave', 'BF', 'SR', '100', '50', '0'], dtype='object')"
      ]
     },
     "execution_count": 91,
     "metadata": {},
     "output_type": "execute_result"
    }
   ],
   "source": [
    "x.columns"
   ]
  },
  {
   "cell_type": "code",
   "execution_count": 92,
   "metadata": {},
   "outputs": [
    {
     "data": {
      "text/plain": [
       "Index(['Player', 'Span', 'Mat', 'Inns', 'NO', 'Runs', 'HS', 'Ave', 'BF', 'SR',\n",
       "       '100', '50', '0'],\n",
       "      dtype='object')"
      ]
     },
     "execution_count": 92,
     "metadata": {},
     "output_type": "execute_result"
    }
   ],
   "source": [
    "df.columns"
   ]
  },
  {
   "cell_type": "code",
   "execution_count": 93,
   "metadata": {},
   "outputs": [
    {
     "data": {
      "text/plain": [
       "Index(['Mat', 'Inns', 'NO', 'Runs', 'HS', 'Ave', 'BF', 'SR', '100', '50', '0'], dtype='object')"
      ]
     },
     "execution_count": 93,
     "metadata": {},
     "output_type": "execute_result"
    }
   ],
   "source": [
    "df1=x\n",
    "df1.columns"
   ]
  },
  {
   "cell_type": "code",
   "execution_count": 95,
   "metadata": {},
   "outputs": [],
   "source": [
    "df1['Player']=df.iloc[df1.index]['Player']"
   ]
  },
  {
   "cell_type": "code",
   "execution_count": 101,
   "metadata": {},
   "outputs": [],
   "source": [
    "df1['Span']=df.iloc[df1.index]['Span']"
   ]
  },
  {
   "cell_type": "code",
   "execution_count": 102,
   "metadata": {},
   "outputs": [],
   "source": [
    "labels=pd.Series(labels)"
   ]
  },
  {
   "cell_type": "code",
   "execution_count": 103,
   "metadata": {},
   "outputs": [
    {
     "data": {
      "text/plain": [
       "0    6\n",
       "1    0\n",
       "2    0\n",
       "3    8\n",
       "4    8\n",
       "dtype: int32"
      ]
     },
     "execution_count": 103,
     "metadata": {},
     "output_type": "execute_result"
    }
   ],
   "source": [
    "labels.head()"
   ]
  },
  {
   "cell_type": "code",
   "execution_count": 104,
   "metadata": {},
   "outputs": [],
   "source": [
    "df1['labels']=labels"
   ]
  },
  {
   "cell_type": "code",
   "execution_count": 105,
   "metadata": {},
   "outputs": [
    {
     "data": {
      "text/html": [
       "<div>\n",
       "<style scoped>\n",
       "    .dataframe tbody tr th:only-of-type {\n",
       "        vertical-align: middle;\n",
       "    }\n",
       "\n",
       "    .dataframe tbody tr th {\n",
       "        vertical-align: top;\n",
       "    }\n",
       "\n",
       "    .dataframe thead th {\n",
       "        text-align: right;\n",
       "    }\n",
       "</style>\n",
       "<table border=\"1\" class=\"dataframe\">\n",
       "  <thead>\n",
       "    <tr style=\"text-align: right;\">\n",
       "      <th></th>\n",
       "      <th>Mat</th>\n",
       "      <th>Inns</th>\n",
       "      <th>NO</th>\n",
       "      <th>Runs</th>\n",
       "      <th>HS</th>\n",
       "      <th>Ave</th>\n",
       "      <th>BF</th>\n",
       "      <th>SR</th>\n",
       "      <th>100</th>\n",
       "      <th>50</th>\n",
       "      <th>0</th>\n",
       "      <th>Player</th>\n",
       "      <th>Span</th>\n",
       "      <th>labels</th>\n",
       "    </tr>\n",
       "  </thead>\n",
       "  <tbody>\n",
       "    <tr>\n",
       "      <th>0</th>\n",
       "      <td>2.955282</td>\n",
       "      <td>3.169333</td>\n",
       "      <td>0.764963</td>\n",
       "      <td>4.262328</td>\n",
       "      <td>1.632443</td>\n",
       "      <td>1.072294</td>\n",
       "      <td>3.681214</td>\n",
       "      <td>0.703152</td>\n",
       "      <td>4.656726</td>\n",
       "      <td>3.050057</td>\n",
       "      <td>1.145837</td>\n",
       "      <td>SR Tendulkar (INDIA)</td>\n",
       "      <td>1989-2012</td>\n",
       "      <td>6</td>\n",
       "    </tr>\n",
       "    <tr>\n",
       "      <th>1</th>\n",
       "      <td>2.155179</td>\n",
       "      <td>2.138915</td>\n",
       "      <td>0.764963</td>\n",
       "      <td>2.609117</td>\n",
       "      <td>0.635224</td>\n",
       "      <td>0.587725</td>\n",
       "      <td>2.635385</td>\n",
       "      <td>-0.044139</td>\n",
       "      <td>1.671888</td>\n",
       "      <td>2.865418</td>\n",
       "      <td>0.296671</td>\n",
       "      <td>KC Sangakkara (Asia/ICC/SL)</td>\n",
       "      <td>2000-2015</td>\n",
       "      <td>0</td>\n",
       "    </tr>\n",
       "    <tr>\n",
       "      <th>2</th>\n",
       "      <td>1.761908</td>\n",
       "      <td>1.924245</td>\n",
       "      <td>0.625397</td>\n",
       "      <td>2.400099</td>\n",
       "      <td>0.474382</td>\n",
       "      <td>0.596226</td>\n",
       "      <td>2.319651</td>\n",
       "      <td>0.110997</td>\n",
       "      <td>2.293729</td>\n",
       "      <td>2.188406</td>\n",
       "      <td>1.145837</td>\n",
       "      <td>RT Ponting (AUS/ICC)</td>\n",
       "      <td>1995-2012</td>\n",
       "      <td>0</td>\n",
       "    </tr>\n",
       "    <tr>\n",
       "      <th>3</th>\n",
       "      <td>2.711183</td>\n",
       "      <td>2.897417</td>\n",
       "      <td>-0.840046</td>\n",
       "      <td>2.292041</td>\n",
       "      <td>1.278591</td>\n",
       "      <td>-1.047909</td>\n",
       "      <td>1.588295</td>\n",
       "      <td>1.207091</td>\n",
       "      <td>2.044992</td>\n",
       "      <td>1.326755</td>\n",
       "      <td>3.523501</td>\n",
       "      <td>ST Jayasuriya (Asia/SL)</td>\n",
       "      <td>1989-2011</td>\n",
       "      <td>8</td>\n",
       "    </tr>\n",
       "    <tr>\n",
       "      <th>4</th>\n",
       "      <td>2.751866</td>\n",
       "      <td>2.682747</td>\n",
       "      <td>0.625397</td>\n",
       "      <td>1.984430</td>\n",
       "      <td>-0.168986</td>\n",
       "      <td>-0.876185</td>\n",
       "      <td>1.996354</td>\n",
       "      <td>-0.034000</td>\n",
       "      <td>0.925678</td>\n",
       "      <td>1.880674</td>\n",
       "      <td>2.504502</td>\n",
       "      <td>DPMD Jayawardene (Asia/SL)</td>\n",
       "      <td>1998-2015</td>\n",
       "      <td>8</td>\n",
       "    </tr>\n",
       "  </tbody>\n",
       "</table>\n",
       "</div>"
      ],
      "text/plain": [
       "        Mat      Inns        NO      Runs        HS       Ave        BF  \\\n",
       "0  2.955282  3.169333  0.764963  4.262328  1.632443  1.072294  3.681214   \n",
       "1  2.155179  2.138915  0.764963  2.609117  0.635224  0.587725  2.635385   \n",
       "2  1.761908  1.924245  0.625397  2.400099  0.474382  0.596226  2.319651   \n",
       "3  2.711183  2.897417 -0.840046  2.292041  1.278591 -1.047909  1.588295   \n",
       "4  2.751866  2.682747  0.625397  1.984430 -0.168986 -0.876185  1.996354   \n",
       "\n",
       "         SR       100        50         0                       Player  \\\n",
       "0  0.703152  4.656726  3.050057  1.145837         SR Tendulkar (INDIA)   \n",
       "1 -0.044139  1.671888  2.865418  0.296671  KC Sangakkara (Asia/ICC/SL)   \n",
       "2  0.110997  2.293729  2.188406  1.145837         RT Ponting (AUS/ICC)   \n",
       "3  1.207091  2.044992  1.326755  3.523501      ST Jayasuriya (Asia/SL)   \n",
       "4 -0.034000  0.925678  1.880674  2.504502   DPMD Jayawardene (Asia/SL)   \n",
       "\n",
       "        Span  labels  \n",
       "0  1989-2012       6  \n",
       "1  2000-2015       0  \n",
       "2  1995-2012       0  \n",
       "3  1989-2011       8  \n",
       "4  1998-2015       8  "
      ]
     },
     "execution_count": 105,
     "metadata": {},
     "output_type": "execute_result"
    }
   ],
   "source": [
    "df1.head()"
   ]
  },
  {
   "cell_type": "markdown",
   "metadata": {},
   "source": [
    "# . Find out which cluster Chris Gayle Belongs to? -7 Marks"
   ]
  },
  {
   "cell_type": "code",
   "execution_count": 106,
   "metadata": {},
   "outputs": [
    {
     "data": {
      "text/plain": [
       "Index(['Mat', 'Inns', 'NO', 'Runs', 'HS', 'Ave', 'BF', 'SR', '100', '50', '0',\n",
       "       'Player', 'Span', 'labels'],\n",
       "      dtype='object')"
      ]
     },
     "execution_count": 106,
     "metadata": {},
     "output_type": "execute_result"
    }
   ],
   "source": [
    "df1.columns"
   ]
  },
  {
   "cell_type": "code",
   "execution_count": 107,
   "metadata": {},
   "outputs": [
    {
     "data": {
      "text/plain": [
       "Series([], Name: labels, dtype: int32)"
      ]
     },
     "execution_count": 107,
     "metadata": {},
     "output_type": "execute_result"
    }
   ],
   "source": [
    "df1.labels[df1.Player=='Chris Gayle'] # let may be spelling mistake check it"
   ]
  },
  {
   "cell_type": "code",
   "execution_count": 112,
   "metadata": {},
   "outputs": [
    {
     "data": {
      "text/plain": [
       "0             SR Tendulkar (INDIA)\n",
       "1      KC Sangakkara (Asia/ICC/SL)\n",
       "2             RT Ponting (AUS/ICC)\n",
       "3          ST Jayasuriya (Asia/SL)\n",
       "4       DPMD Jayawardene (Asia/SL)\n",
       "5        Inzamam-ul-Haq (Asia/PAK)\n",
       "6           JH Kallis (Afr/ICC/SA)\n",
       "7          SC Ganguly (Asia/INDIA)\n",
       "8        R Dravid (Asia/ICC/INDIA)\n",
       "9                 BC Lara (ICC/WI)\n",
       "10                 TM Dilshan (SL)\n",
       "11      Mohammad Yousuf (Asia/PAK)\n",
       "12          AC Gilchrist (AUS/ICC)\n",
       "13           MS Dhoni (Asia/INDIA)\n",
       "14            M Azharuddin (INDIA)\n",
       "15         AB de Villiers (Afr/SA)\n",
       "16                PA de Silva (SL)\n",
       "17               CH Gayle (ICC/WI)\n",
       "18               Saeed Anwar (PAK)\n",
       "19              S Chanderpaul (WI)\n",
       "20       Yuvraj Singh (Asia/INDIA)\n",
       "21                  DL Haynes (WI)\n",
       "22                MS Atapattu (SL)\n",
       "23                  ME Waugh (AUS)\n",
       "24       V Sehwag (Asia/ICC/INDIA)\n",
       "25                 V Kohli (INDIA)\n",
       "26                   HH Gibbs (SA)\n",
       "27    Shahid Afridi (Asia/ICC/PAK)\n",
       "28             SP Fleming (ICC/NZ)\n",
       "29                 MJ Clarke (AUS)\n",
       "30                  SR Waugh (AUS)\n",
       "31                A Ranatunga (SL)\n",
       "32             Javed Miandad (PAK)\n",
       "33               Younis Khan (PAK)\n",
       "34                    HM Amla (SA)\n",
       "35              Saleem Malik (PAK)\n",
       "36                   NJ Astle (NZ)\n",
       "37               GC Smith (Afr/SA)\n",
       "38                  MG Bevan (AUS)\n",
       "39                  G Kirsten (SA)\n",
       "40                  A Flower (ZIM)\n",
       "41              Shoaib Malik (PAK)\n",
       "42               IVA Richards (WI)\n",
       "43                 GW Flower (ZIM)\n",
       "44                Ijaz Ahmed (PAK)\n",
       "45                 AR Border (AUS)\n",
       "46                LRPL Taylor (NZ)\n",
       "47              RB Richardson (WI)\n",
       "48           WU Tharanga (Asia/SL)\n",
       "49             ML Hayden (AUS/ICC)\n",
       "Name: Player, dtype: object"
      ]
     },
     "execution_count": 112,
     "metadata": {},
     "output_type": "execute_result"
    }
   ],
   "source": [
    "df1.Player.head(50)"
   ]
  },
  {
   "cell_type": "code",
   "execution_count": 124,
   "metadata": {},
   "outputs": [
    {
     "data": {
      "text/plain": [
       "49        ML Hayden (AUS/ICC)\n",
       "50           BB McCullum (NZ)\n",
       "51             DM Jones (AUS)\n",
       "52              DC Boon (AUS)\n",
       "53             JN Rhodes (SA)\n",
       "54      Mohammad Hafeez (PAK)\n",
       "55          Rameez Raja (PAK)\n",
       "56             RR Sarwan (WI)\n",
       "57       EJG Morgan (ENG/IRE)\n",
       "58             CL Hooper (WI)\n",
       "59            SR Watson (AUS)\n",
       "60        Tamim Iqbal (BDESH)\n",
       "61           SK Raina (INDIA)\n",
       "62             WJ Cronje (SA)\n",
       "63            MJ Guptill (NZ)\n",
       "64           MEK Hussey (AUS)\n",
       "65          RG Sharma (INDIA)\n",
       "66              IR Bell (ENG)\n",
       "67           A Jadeja (INDIA)\n",
       "68            DR Martyn (AUS)\n",
       "69           BRM Taylor (ZIM)\n",
       "70          G Gambhir (INDIA)\n",
       "71         ADR Campbell (ZIM)\n",
       "72            MN Samuels (WI)\n",
       "73           RS Mahanama (SL)\n",
       "74          CG Greenidge (WI)\n",
       "75        Misbah-ul-Haq (PAK)\n",
       "76       PD Collingwood (ENG)\n",
       "77            A Symonds (AUS)\n",
       "78    Abdul Razzaq (Asia/PAK)\n",
       "Name: Player, dtype: object"
      ]
     },
     "execution_count": 124,
     "metadata": {},
     "output_type": "execute_result"
    }
   ],
   "source": [
    "df1.Player.tail(30)"
   ]
  },
  {
   "cell_type": "raw",
   "metadata": {},
   "source": [
    "By observing above data there is no name with 'Chris Gayle' but resemble name is 'CH Gayle (ICC/WI)'"
   ]
  },
  {
   "cell_type": "code",
   "execution_count": 115,
   "metadata": {},
   "outputs": [
    {
     "data": {
      "text/html": [
       "<div>\n",
       "<style scoped>\n",
       "    .dataframe tbody tr th:only-of-type {\n",
       "        vertical-align: middle;\n",
       "    }\n",
       "\n",
       "    .dataframe tbody tr th {\n",
       "        vertical-align: top;\n",
       "    }\n",
       "\n",
       "    .dataframe thead th {\n",
       "        text-align: right;\n",
       "    }\n",
       "</style>\n",
       "<table border=\"1\" class=\"dataframe\">\n",
       "  <thead>\n",
       "    <tr style=\"text-align: right;\">\n",
       "      <th></th>\n",
       "      <th>Mat</th>\n",
       "      <th>Inns</th>\n",
       "      <th>NO</th>\n",
       "      <th>Runs</th>\n",
       "      <th>HS</th>\n",
       "      <th>Ave</th>\n",
       "      <th>BF</th>\n",
       "      <th>SR</th>\n",
       "      <th>100</th>\n",
       "      <th>50</th>\n",
       "      <th>0</th>\n",
       "      <th>Player</th>\n",
       "      <th>Span</th>\n",
       "      <th>labels</th>\n",
       "    </tr>\n",
       "  </thead>\n",
       "  <tbody>\n",
       "  </tbody>\n",
       "</table>\n",
       "</div>"
      ],
      "text/plain": [
       "Empty DataFrame\n",
       "Columns: [Mat, Inns, NO, Runs, HS, Ave, BF, SR, 100, 50, 0, Player, Span, labels]\n",
       "Index: []"
      ]
     },
     "execution_count": 115,
     "metadata": {},
     "output_type": "execute_result"
    }
   ],
   "source": [
    "df1[df1.Player=='CH Gayle (ICC/WI)'] # let check may be string quotations position is wrong"
   ]
  },
  {
   "cell_type": "code",
   "execution_count": 118,
   "metadata": {},
   "outputs": [
    {
     "data": {
      "text/plain": [
       "17    CH Gayle (ICC/WI)\n",
       "Name: Player, dtype: object"
      ]
     },
     "execution_count": 118,
     "metadata": {},
     "output_type": "execute_result"
    }
   ],
   "source": [
    "df1.Player[df1.index==17]# we absorved that 17 index has this index then do for conformation"
   ]
  },
  {
   "cell_type": "code",
   "execution_count": 129,
   "metadata": {},
   "outputs": [
    {
     "data": {
      "text/html": [
       "<div>\n",
       "<style scoped>\n",
       "    .dataframe tbody tr th:only-of-type {\n",
       "        vertical-align: middle;\n",
       "    }\n",
       "\n",
       "    .dataframe tbody tr th {\n",
       "        vertical-align: top;\n",
       "    }\n",
       "\n",
       "    .dataframe thead th {\n",
       "        text-align: right;\n",
       "    }\n",
       "</style>\n",
       "<table border=\"1\" class=\"dataframe\">\n",
       "  <thead>\n",
       "    <tr style=\"text-align: right;\">\n",
       "      <th></th>\n",
       "      <th>Mat</th>\n",
       "      <th>Inns</th>\n",
       "      <th>NO</th>\n",
       "      <th>Runs</th>\n",
       "      <th>HS</th>\n",
       "      <th>Ave</th>\n",
       "      <th>BF</th>\n",
       "      <th>SR</th>\n",
       "      <th>100</th>\n",
       "      <th>50</th>\n",
       "      <th>0</th>\n",
       "      <th>Player</th>\n",
       "      <th>Span</th>\n",
       "      <th>labels</th>\n",
       "    </tr>\n",
       "  </thead>\n",
       "  <tbody>\n",
       "    <tr>\n",
       "      <th>17</th>\n",
       "      <td>0.324436</td>\n",
       "      <td>0.478797</td>\n",
       "      <td>-0.909829</td>\n",
       "      <td>0.632125</td>\n",
       "      <td>2.114969</td>\n",
       "      <td>-0.202889</td>\n",
       "      <td>0.362226</td>\n",
       "      <td>0.589588</td>\n",
       "      <td>1.298783</td>\n",
       "      <td>0.034279</td>\n",
       "      <td>1.655336</td>\n",
       "      <td>CH Gayle (ICC/WI)</td>\n",
       "      <td>1999-2015</td>\n",
       "      <td>9</td>\n",
       "    </tr>\n",
       "  </tbody>\n",
       "</table>\n",
       "</div>"
      ],
      "text/plain": [
       "         Mat      Inns        NO      Runs        HS       Ave        BF  \\\n",
       "17  0.324436  0.478797 -0.909829  0.632125  2.114969 -0.202889  0.362226   \n",
       "\n",
       "          SR       100        50         0             Player       Span  \\\n",
       "17  0.589588  1.298783  0.034279  1.655336  CH Gayle (ICC/WI)  1999-2015   \n",
       "\n",
       "    labels  \n",
       "17       9  "
      ]
     },
     "execution_count": 129,
     "metadata": {},
     "output_type": "execute_result"
    }
   ],
   "source": [
    "df1[df1.index==17]"
   ]
  },
  {
   "cell_type": "code",
   "execution_count": 122,
   "metadata": {},
   "outputs": [
    {
     "data": {
      "text/plain": [
       "17    9\n",
       "Name: labels, dtype: int32"
      ]
     },
     "execution_count": 122,
     "metadata": {},
     "output_type": "execute_result"
    }
   ],
   "source": [
    "df1[df1.index==17].labels\n"
   ]
  },
  {
   "cell_type": "markdown",
   "metadata": {},
   "source": [
    "# Answer"
   ]
  },
  {
   "cell_type": "raw",
   "metadata": {},
   "source": [
    "He belongs to cluster 9"
   ]
  },
  {
   "cell_type": "markdown",
   "metadata": {},
   "source": [
    "# . Find out the number of players who are in Gayle Cluster.  - 7 Marks"
   ]
  },
  {
   "cell_type": "raw",
   "metadata": {},
   "source": [
    "He belongs to 9th cluster so we check value_counts funtion or boolean expression lets see"
   ]
  },
  {
   "cell_type": "markdown",
   "metadata": {},
   "source": [
    "# value_count"
   ]
  },
  {
   "cell_type": "code",
   "execution_count": 126,
   "metadata": {},
   "outputs": [
    {
     "data": {
      "text/plain": [
       "7    20\n",
       "1    14\n",
       "4    13\n",
       "2    12\n",
       "9     6\n",
       "0     6\n",
       "5     3\n",
       "8     2\n",
       "3     2\n",
       "6     1\n",
       "Name: labels, dtype: int64"
      ]
     },
     "execution_count": 126,
     "metadata": {},
     "output_type": "execute_result"
    }
   ],
   "source": [
    "df1.labels.value_counts()"
   ]
  },
  {
   "cell_type": "raw",
   "metadata": {},
   "source": [
    "We 9 th cluster has 6 members"
   ]
  },
  {
   "cell_type": "markdown",
   "metadata": {},
   "source": [
    "# boolean expression"
   ]
  },
  {
   "cell_type": "code",
   "execution_count": 127,
   "metadata": {},
   "outputs": [
    {
     "data": {
      "text/plain": [
       "6"
      ]
     },
     "execution_count": 127,
     "metadata": {},
     "output_type": "execute_result"
    }
   ],
   "source": [
    "df1.labels[df1.labels==9].count()"
   ]
  },
  {
   "cell_type": "code",
   "execution_count": 130,
   "metadata": {},
   "outputs": [
    {
     "ename": "NameError",
     "evalue": "name 'members' is not defined",
     "output_type": "error",
     "traceback": [
      "\u001b[1;31m---------------------------------------------------------------------------\u001b[0m",
      "\u001b[1;31mNameError\u001b[0m                                 Traceback (most recent call last)",
      "\u001b[1;32m<ipython-input-130-8396e78883cb>\u001b[0m in \u001b[0;36m<module>\u001b[1;34m\u001b[0m\n\u001b[1;32m----> 1\u001b[1;33m \u001b[0mmembers\u001b[0m \u001b[1;32mis\u001b[0m \u001b[1;36m9\u001b[0m\u001b[1;33m\u001b[0m\u001b[1;33m\u001b[0m\u001b[0m\n\u001b[0m",
      "\u001b[1;31mNameError\u001b[0m: name 'members' is not defined"
     ]
    }
   ],
   "source": [
    "members is 9"
   ]
  },
  {
   "cell_type": "code",
   "execution_count": 131,
   "metadata": {},
   "outputs": [
    {
     "name": "stderr",
     "output_type": "stream",
     "text": [
      "'wget' is not recognized as an internal or external command,\n",
      "operable program or batch file.\n",
      "'unzip' is not recognized as an internal or external command,\n",
      "operable program or batch file.\n"
     ]
    }
   ],
   "source": [
    "!wget http://nlp.stanford.edu/data/glove.6B.zip\n",
    "!unzip glove*.zip"
   ]
  },
  {
   "cell_type": "code",
   "execution_count": null,
   "metadata": {},
   "outputs": [],
   "source": []
  }
 ],
 "metadata": {
  "kernelspec": {
   "display_name": "Python 3",
   "language": "python",
   "name": "python3"
  },
  "language_info": {
   "codemirror_mode": {
    "name": "ipython",
    "version": 3
   },
   "file_extension": ".py",
   "mimetype": "text/x-python",
   "name": "python",
   "nbconvert_exporter": "python",
   "pygments_lexer": "ipython3",
   "version": "3.7.1"
  }
 },
 "nbformat": 4,
 "nbformat_minor": 2
}
